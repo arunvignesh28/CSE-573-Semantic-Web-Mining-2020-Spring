{
  "nbformat": 4,
  "nbformat_minor": 0,
  "metadata": {
    "colab": {
      "name": "rbm_v4_recommender.ipynb",
      "provenance": [],
      "collapsed_sections": []
    },
    "kernelspec": {
      "name": "python3",
      "display_name": "Python 3"
    }
  },
  "cells": [
    {
      "cell_type": "code",
      "metadata": {
        "id": "u41hQ8ysr2eO",
        "colab_type": "code",
        "colab": {}
      },
      "source": [
        "import pandas as pd\n",
        "import ast\n",
        "import numpy as np\n",
        "import tensorflow.compat.v1 as tf\n",
        "import matplotlib.pyplot as plt\n",
        "\n",
        "\n",
        "#Shreemangal\n",
        "from math import sqrt\n",
        "from ipywidgets import widget\n",
        "import pandas as pd\n",
        "import numpy as np\n",
        "import seaborn as sns\n",
        "from sklearn.metrics import pairwise_distances\n",
        "from scipy.spatial.distance import cosine, correlation\n",
        "from matplotlib import pyplot as plt\n",
        "from sklearn.feature_extraction.text import TfidfVectorizer\n",
        "from sklearn.metrics.pairwise import linear_kernel\n",
        "from google.colab import drive\n",
        "\n",
        "tf.disable_v2_behavior()"
      ],
      "execution_count": 0,
      "outputs": []
    },
    {
      "cell_type": "code",
      "metadata": {
        "id": "fPkwwf1zgCqz",
        "colab_type": "code",
        "outputId": "5c397bd6-4027-4bdd-964a-8b6d5b05796a",
        "colab": {
          "base_uri": "https://localhost:8080/",
          "height": 34
        }
      },
      "source": [
        "from nltk.stem.snowball import SnowballStemmer\n",
        "from sklearn.feature_extraction.text import CountVectorizer\n",
        "from sklearn.metrics.pairwise import cosine_similarity\n",
        "from sklearn.model_selection import train_test_split\n",
        "from google.colab import drive\n",
        "\n",
        "drive.mount('/content/drive')"
      ],
      "execution_count": 132,
      "outputs": [
        {
          "output_type": "stream",
          "text": [
            "Drive already mounted at /content/drive; to attempt to forcibly remount, call drive.mount(\"/content/drive\", force_remount=True).\n"
          ],
          "name": "stdout"
        }
      ]
    },
    {
      "cell_type": "markdown",
      "metadata": {
        "id": "TGD14q4agKHG",
        "colab_type": "text"
      },
      "source": [
        "Load Data"
      ]
    },
    {
      "cell_type": "code",
      "metadata": {
        "id": "yp4Dov6JgHUs",
        "colab_type": "code",
        "outputId": "f8fcfd6c-b86b-4645-99f4-638a198b4436",
        "colab": {
          "base_uri": "https://localhost:8080/",
          "height": 258
        }
      },
      "source": [
        "movies = pd. read_csv('/content/drive/My Drive/SWM/the-movies-dataset/movies_metadata.csv')\n",
        "extlinks = pd.read_csv('/content/drive/My Drive/SWM/the-movies-dataset/links_small.csv')\n",
        "ratings = pd.read_csv('/content/drive/My Drive/SWM/the-movies-dataset/ratings_small.csv')\n",
        "extlinks.head()"
      ],
      "execution_count": 133,
      "outputs": [
        {
          "output_type": "stream",
          "text": [
            "/usr/local/lib/python3.6/dist-packages/IPython/core/interactiveshell.py:2718: DtypeWarning: Columns (10) have mixed types.Specify dtype option on import or set low_memory=False.\n",
            "  interactivity=interactivity, compiler=compiler, result=result)\n"
          ],
          "name": "stderr"
        },
        {
          "output_type": "execute_result",
          "data": {
            "text/html": [
              "<div>\n",
              "<style scoped>\n",
              "    .dataframe tbody tr th:only-of-type {\n",
              "        vertical-align: middle;\n",
              "    }\n",
              "\n",
              "    .dataframe tbody tr th {\n",
              "        vertical-align: top;\n",
              "    }\n",
              "\n",
              "    .dataframe thead th {\n",
              "        text-align: right;\n",
              "    }\n",
              "</style>\n",
              "<table border=\"1\" class=\"dataframe\">\n",
              "  <thead>\n",
              "    <tr style=\"text-align: right;\">\n",
              "      <th></th>\n",
              "      <th>movieId</th>\n",
              "      <th>imdbId</th>\n",
              "      <th>tmdbId</th>\n",
              "    </tr>\n",
              "  </thead>\n",
              "  <tbody>\n",
              "    <tr>\n",
              "      <th>0</th>\n",
              "      <td>1</td>\n",
              "      <td>114709</td>\n",
              "      <td>862.0</td>\n",
              "    </tr>\n",
              "    <tr>\n",
              "      <th>1</th>\n",
              "      <td>2</td>\n",
              "      <td>113497</td>\n",
              "      <td>8844.0</td>\n",
              "    </tr>\n",
              "    <tr>\n",
              "      <th>2</th>\n",
              "      <td>3</td>\n",
              "      <td>113228</td>\n",
              "      <td>15602.0</td>\n",
              "    </tr>\n",
              "    <tr>\n",
              "      <th>3</th>\n",
              "      <td>4</td>\n",
              "      <td>114885</td>\n",
              "      <td>31357.0</td>\n",
              "    </tr>\n",
              "    <tr>\n",
              "      <th>4</th>\n",
              "      <td>5</td>\n",
              "      <td>113041</td>\n",
              "      <td>11862.0</td>\n",
              "    </tr>\n",
              "  </tbody>\n",
              "</table>\n",
              "</div>"
            ],
            "text/plain": [
              "   movieId  imdbId   tmdbId\n",
              "0        1  114709    862.0\n",
              "1        2  113497   8844.0\n",
              "2        3  113228  15602.0\n",
              "3        4  114885  31357.0\n",
              "4        5  113041  11862.0"
            ]
          },
          "metadata": {
            "tags": []
          },
          "execution_count": 133
        }
      ]
    },
    {
      "cell_type": "code",
      "metadata": {
        "id": "BFYqy1CIoPF4",
        "colab_type": "code",
        "outputId": "cacad3c5-94b2-4f75-d8c8-2348edfcc045",
        "colab": {
          "base_uri": "https://localhost:8080/",
          "height": 204
        }
      },
      "source": [
        "credits = pd.read_csv('/content/drive/My Drive/SWM/the-movies-dataset/credits.csv')\n",
        "keywords = pd.read_csv('/content/drive/My Drive/SWM/the-movies-dataset/keywords.csv')\n",
        "keywords.head()"
      ],
      "execution_count": 134,
      "outputs": [
        {
          "output_type": "execute_result",
          "data": {
            "text/html": [
              "<div>\n",
              "<style scoped>\n",
              "    .dataframe tbody tr th:only-of-type {\n",
              "        vertical-align: middle;\n",
              "    }\n",
              "\n",
              "    .dataframe tbody tr th {\n",
              "        vertical-align: top;\n",
              "    }\n",
              "\n",
              "    .dataframe thead th {\n",
              "        text-align: right;\n",
              "    }\n",
              "</style>\n",
              "<table border=\"1\" class=\"dataframe\">\n",
              "  <thead>\n",
              "    <tr style=\"text-align: right;\">\n",
              "      <th></th>\n",
              "      <th>id</th>\n",
              "      <th>keywords</th>\n",
              "    </tr>\n",
              "  </thead>\n",
              "  <tbody>\n",
              "    <tr>\n",
              "      <th>0</th>\n",
              "      <td>862</td>\n",
              "      <td>[{'id': 931, 'name': 'jealousy'}, {'id': 4290,...</td>\n",
              "    </tr>\n",
              "    <tr>\n",
              "      <th>1</th>\n",
              "      <td>8844</td>\n",
              "      <td>[{'id': 10090, 'name': 'board game'}, {'id': 1...</td>\n",
              "    </tr>\n",
              "    <tr>\n",
              "      <th>2</th>\n",
              "      <td>15602</td>\n",
              "      <td>[{'id': 1495, 'name': 'fishing'}, {'id': 12392...</td>\n",
              "    </tr>\n",
              "    <tr>\n",
              "      <th>3</th>\n",
              "      <td>31357</td>\n",
              "      <td>[{'id': 818, 'name': 'based on novel'}, {'id':...</td>\n",
              "    </tr>\n",
              "    <tr>\n",
              "      <th>4</th>\n",
              "      <td>11862</td>\n",
              "      <td>[{'id': 1009, 'name': 'baby'}, {'id': 1599, 'n...</td>\n",
              "    </tr>\n",
              "  </tbody>\n",
              "</table>\n",
              "</div>"
            ],
            "text/plain": [
              "      id                                           keywords\n",
              "0    862  [{'id': 931, 'name': 'jealousy'}, {'id': 4290,...\n",
              "1   8844  [{'id': 10090, 'name': 'board game'}, {'id': 1...\n",
              "2  15602  [{'id': 1495, 'name': 'fishing'}, {'id': 12392...\n",
              "3  31357  [{'id': 818, 'name': 'based on novel'}, {'id':...\n",
              "4  11862  [{'id': 1009, 'name': 'baby'}, {'id': 1599, 'n..."
            ]
          },
          "metadata": {
            "tags": []
          },
          "execution_count": 134
        }
      ]
    },
    {
      "cell_type": "code",
      "metadata": {
        "id": "XBACoPaRjvhY",
        "colab_type": "code",
        "colab": {}
      },
      "source": [
        "movies = movies.drop([19730, 29503, 35587])\n",
        "extlinks = extlinks[extlinks['tmdbId'].notnull()]['tmdbId'].astype('int')"
      ],
      "execution_count": 0,
      "outputs": []
    },
    {
      "cell_type": "code",
      "metadata": {
        "id": "DMfZbhlD2wWK",
        "colab_type": "code",
        "colab": {}
      },
      "source": [
        "movies['genres'] = movies['genres'].fillna('[]').apply(ast.literal_eval).apply(lambda genres: [genre['name'] for genre in genres] if isinstance(genres, list) else [])"
      ],
      "execution_count": 0,
      "outputs": []
    },
    {
      "cell_type": "code",
      "metadata": {
        "id": "Kig6rw9apH-p",
        "colab_type": "code",
        "colab": {}
      },
      "source": [
        "movies['id'] = movies['id'].astype('int')\n",
        "keywords['id'] = keywords['id'].astype('int')\n",
        "credits['id'] = credits['id'].astype('int')\n",
        "movies = movies.merge(credits, on='id')\n",
        "movies = movies.merge(keywords, on='id')"
      ],
      "execution_count": 0,
      "outputs": []
    },
    {
      "cell_type": "code",
      "metadata": {
        "id": "lOoKE2ABj0po",
        "colab_type": "code",
        "outputId": "70255136-b698-40ff-9523-e35b11730501",
        "colab": {
          "base_uri": "https://localhost:8080/",
          "height": 34
        }
      },
      "source": [
        "movies_filtered = movies[movies['id'].isin(extlinks)]\n",
        "movies_filtered.head()\n",
        "movies_filtered.shape"
      ],
      "execution_count": 138,
      "outputs": [
        {
          "output_type": "execute_result",
          "data": {
            "text/plain": [
              "(9219, 27)"
            ]
          },
          "metadata": {
            "tags": []
          },
          "execution_count": 138
        }
      ]
    },
    {
      "cell_type": "code",
      "metadata": {
        "id": "jccg94aYrYaG",
        "colab_type": "code",
        "outputId": "ec8773b7-0c72-43c5-9305-36720d10c190",
        "colab": {
          "base_uri": "https://localhost:8080/",
          "height": 323
        }
      },
      "source": [
        "movies_filtered['cast'] = movies_filtered['cast'].apply(ast.literal_eval)\n",
        "movies_filtered['crew'] = movies_filtered['crew'].apply(ast.literal_eval)\n",
        "movies_filtered['keywords'] = movies_filtered['keywords'].apply(ast.literal_eval)"
      ],
      "execution_count": 139,
      "outputs": [
        {
          "output_type": "stream",
          "text": [
            "/usr/local/lib/python3.6/dist-packages/ipykernel_launcher.py:1: SettingWithCopyWarning: \n",
            "A value is trying to be set on a copy of a slice from a DataFrame.\n",
            "Try using .loc[row_indexer,col_indexer] = value instead\n",
            "\n",
            "See the caveats in the documentation: https://pandas.pydata.org/pandas-docs/stable/user_guide/indexing.html#returning-a-view-versus-a-copy\n",
            "  \"\"\"Entry point for launching an IPython kernel.\n",
            "/usr/local/lib/python3.6/dist-packages/ipykernel_launcher.py:2: SettingWithCopyWarning: \n",
            "A value is trying to be set on a copy of a slice from a DataFrame.\n",
            "Try using .loc[row_indexer,col_indexer] = value instead\n",
            "\n",
            "See the caveats in the documentation: https://pandas.pydata.org/pandas-docs/stable/user_guide/indexing.html#returning-a-view-versus-a-copy\n",
            "  \n",
            "/usr/local/lib/python3.6/dist-packages/ipykernel_launcher.py:3: SettingWithCopyWarning: \n",
            "A value is trying to be set on a copy of a slice from a DataFrame.\n",
            "Try using .loc[row_indexer,col_indexer] = value instead\n",
            "\n",
            "See the caveats in the documentation: https://pandas.pydata.org/pandas-docs/stable/user_guide/indexing.html#returning-a-view-versus-a-copy\n",
            "  This is separate from the ipykernel package so we can avoid doing imports until\n"
          ],
          "name": "stderr"
        }
      ]
    },
    {
      "cell_type": "code",
      "metadata": {
        "id": "F44e8tsTsBOp",
        "colab_type": "code",
        "outputId": "44d11eea-73ae-4d80-e4ec-644fab8693cf",
        "colab": {
          "base_uri": "https://localhost:8080/",
          "height": 221
        }
      },
      "source": [
        "movies_filtered['cast_size'] = movies_filtered['cast'].apply(lambda x: len(x))\n",
        "movies_filtered['crew_size'] = movies_filtered['crew'].apply(lambda x: len(x))"
      ],
      "execution_count": 140,
      "outputs": [
        {
          "output_type": "stream",
          "text": [
            "/usr/local/lib/python3.6/dist-packages/ipykernel_launcher.py:1: SettingWithCopyWarning: \n",
            "A value is trying to be set on a copy of a slice from a DataFrame.\n",
            "Try using .loc[row_indexer,col_indexer] = value instead\n",
            "\n",
            "See the caveats in the documentation: https://pandas.pydata.org/pandas-docs/stable/user_guide/indexing.html#returning-a-view-versus-a-copy\n",
            "  \"\"\"Entry point for launching an IPython kernel.\n",
            "/usr/local/lib/python3.6/dist-packages/ipykernel_launcher.py:2: SettingWithCopyWarning: \n",
            "A value is trying to be set on a copy of a slice from a DataFrame.\n",
            "Try using .loc[row_indexer,col_indexer] = value instead\n",
            "\n",
            "See the caveats in the documentation: https://pandas.pydata.org/pandas-docs/stable/user_guide/indexing.html#returning-a-view-versus-a-copy\n",
            "  \n"
          ],
          "name": "stderr"
        }
      ]
    },
    {
      "cell_type": "code",
      "metadata": {
        "id": "9581pM4Ns483",
        "colab_type": "code",
        "outputId": "4f79ea25-2549-4306-ec75-18c8fb3cf2c6",
        "colab": {
          "base_uri": "https://localhost:8080/",
          "height": 119
        }
      },
      "source": [
        "def getDirector(crew):\n",
        "  for person in crew:\n",
        "    if person['job'] == 'Director':\n",
        "          return person['name']\n",
        "  return np.nan\n",
        "movies_filtered['director'] = movies_filtered['crew'].apply(getDirector)\n"
      ],
      "execution_count": 141,
      "outputs": [
        {
          "output_type": "stream",
          "text": [
            "/usr/local/lib/python3.6/dist-packages/ipykernel_launcher.py:6: SettingWithCopyWarning: \n",
            "A value is trying to be set on a copy of a slice from a DataFrame.\n",
            "Try using .loc[row_indexer,col_indexer] = value instead\n",
            "\n",
            "See the caveats in the documentation: https://pandas.pydata.org/pandas-docs/stable/user_guide/indexing.html#returning-a-view-versus-a-copy\n",
            "  \n"
          ],
          "name": "stderr"
        }
      ]
    },
    {
      "cell_type": "code",
      "metadata": {
        "id": "kky8AM-yvAti",
        "colab_type": "code",
        "outputId": "56bc25ba-9e07-4aa2-9655-b07d36ae3368",
        "colab": {
          "base_uri": "https://localhost:8080/",
          "height": 425
        }
      },
      "source": [
        "movies_filtered['cast']  = movies_filtered['cast'].apply(lambda cast: [person['name'] for person in cast] if isinstance(cast, list) else [])\n",
        "movies_filtered['cast'] = movies_filtered['cast'].apply(lambda cast: cast[:3] if len(cast) >=3 else cast)\n",
        "movies_filtered['cast']"
      ],
      "execution_count": 142,
      "outputs": [
        {
          "output_type": "stream",
          "text": [
            "/usr/local/lib/python3.6/dist-packages/ipykernel_launcher.py:1: SettingWithCopyWarning: \n",
            "A value is trying to be set on a copy of a slice from a DataFrame.\n",
            "Try using .loc[row_indexer,col_indexer] = value instead\n",
            "\n",
            "See the caveats in the documentation: https://pandas.pydata.org/pandas-docs/stable/user_guide/indexing.html#returning-a-view-versus-a-copy\n",
            "  \"\"\"Entry point for launching an IPython kernel.\n",
            "/usr/local/lib/python3.6/dist-packages/ipykernel_launcher.py:2: SettingWithCopyWarning: \n",
            "A value is trying to be set on a copy of a slice from a DataFrame.\n",
            "Try using .loc[row_indexer,col_indexer] = value instead\n",
            "\n",
            "See the caveats in the documentation: https://pandas.pydata.org/pandas-docs/stable/user_guide/indexing.html#returning-a-view-versus-a-copy\n",
            "  \n"
          ],
          "name": "stderr"
        },
        {
          "output_type": "execute_result",
          "data": {
            "text/plain": [
              "0                      [Tom Hanks, Tim Allen, Don Rickles]\n",
              "1           [Robin Williams, Jonathan Hyde, Kirsten Dunst]\n",
              "2               [Walter Matthau, Jack Lemmon, Ann-Margret]\n",
              "3        [Whitney Houston, Angela Bassett, Loretta Devine]\n",
              "4               [Steve Martin, Diane Keaton, Martin Short]\n",
              "                               ...                        \n",
              "40952      [Sidney Poitier, Wendy Crewson, Jay O. Sanders]\n",
              "41172            [Akshay Kumar, Ileana D'Cruz, Esha Gupta]\n",
              "41225            [Hrithik Roshan, Pooja Hegde, Kabir Bedi]\n",
              "41391    [Hiroki Hasegawa, Yutaka Takenouchi, Satomi Is...\n",
              "41669           [Paul McCartney, Ringo Starr, John Lennon]\n",
              "Name: cast, Length: 9219, dtype: object"
            ]
          },
          "metadata": {
            "tags": []
          },
          "execution_count": 142
        }
      ]
    },
    {
      "cell_type": "code",
      "metadata": {
        "id": "K615VtFFvXKO",
        "colab_type": "code",
        "outputId": "3101d025-0a19-40b5-96a6-6d0a11fecbd6",
        "colab": {
          "base_uri": "https://localhost:8080/",
          "height": 323
        }
      },
      "source": [
        "movies_filtered['keywords'] = movies_filtered['keywords'].apply(lambda keywords: [keyword['name'] for keyword in keywords] if isinstance(keywords, list) else [])\n",
        "movies_filtered['keywords']"
      ],
      "execution_count": 143,
      "outputs": [
        {
          "output_type": "stream",
          "text": [
            "/usr/local/lib/python3.6/dist-packages/ipykernel_launcher.py:1: SettingWithCopyWarning: \n",
            "A value is trying to be set on a copy of a slice from a DataFrame.\n",
            "Try using .loc[row_indexer,col_indexer] = value instead\n",
            "\n",
            "See the caveats in the documentation: https://pandas.pydata.org/pandas-docs/stable/user_guide/indexing.html#returning-a-view-versus-a-copy\n",
            "  \"\"\"Entry point for launching an IPython kernel.\n"
          ],
          "name": "stderr"
        },
        {
          "output_type": "execute_result",
          "data": {
            "text/plain": [
              "0        [jealousy, toy, boy, friendship, friends, riva...\n",
              "1        [board game, disappearance, based on children'...\n",
              "2        [fishing, best friend, duringcreditsstinger, o...\n",
              "3        [based on novel, interracial relationship, sin...\n",
              "4        [baby, midlife crisis, confidence, aging, daug...\n",
              "                               ...                        \n",
              "40952                           [friendship, brick making]\n",
              "41172                                          [bollywood]\n",
              "41225                                          [bollywood]\n",
              "41391    [monster, godzilla, giant monster, destruction...\n",
              "41669                                 [music, documentary]\n",
              "Name: keywords, Length: 9219, dtype: object"
            ]
          },
          "metadata": {
            "tags": []
          },
          "execution_count": 143
        }
      ]
    },
    {
      "cell_type": "code",
      "metadata": {
        "id": "o90F4i2kw8r_",
        "colab_type": "code",
        "outputId": "e0b45ffe-3ed4-4e1d-8343-5d8ec5d3a4d1",
        "colab": {
          "base_uri": "https://localhost:8080/",
          "height": 221
        }
      },
      "source": [
        "movies_filtered['director'] = movies_filtered['director'].astype('str').apply(lambda name: str.lower(name.replace(\" \", \"\")))\n",
        "movies_filtered['director'] = movies_filtered['director'].apply(lambda name: [name, name, name])"
      ],
      "execution_count": 144,
      "outputs": [
        {
          "output_type": "stream",
          "text": [
            "/usr/local/lib/python3.6/dist-packages/ipykernel_launcher.py:1: SettingWithCopyWarning: \n",
            "A value is trying to be set on a copy of a slice from a DataFrame.\n",
            "Try using .loc[row_indexer,col_indexer] = value instead\n",
            "\n",
            "See the caveats in the documentation: https://pandas.pydata.org/pandas-docs/stable/user_guide/indexing.html#returning-a-view-versus-a-copy\n",
            "  \"\"\"Entry point for launching an IPython kernel.\n",
            "/usr/local/lib/python3.6/dist-packages/ipykernel_launcher.py:2: SettingWithCopyWarning: \n",
            "A value is trying to be set on a copy of a slice from a DataFrame.\n",
            "Try using .loc[row_indexer,col_indexer] = value instead\n",
            "\n",
            "See the caveats in the documentation: https://pandas.pydata.org/pandas-docs/stable/user_guide/indexing.html#returning-a-view-versus-a-copy\n",
            "  \n"
          ],
          "name": "stderr"
        }
      ]
    },
    {
      "cell_type": "code",
      "metadata": {
        "id": "I6mrQ8jvxe7L",
        "colab_type": "code",
        "outputId": "01e648db-b7c3-48fb-a26b-ff9b73aff559",
        "colab": {
          "base_uri": "https://localhost:8080/",
          "height": 221
        }
      },
      "source": [
        "movies_filtered['director']"
      ],
      "execution_count": 145,
      "outputs": [
        {
          "output_type": "execute_result",
          "data": {
            "text/plain": [
              "0               [johnlasseter, johnlasseter, johnlasseter]\n",
              "1                  [joejohnston, joejohnston, joejohnston]\n",
              "2               [howarddeutch, howarddeutch, howarddeutch]\n",
              "3         [forestwhitaker, forestwhitaker, forestwhitaker]\n",
              "4               [charlesshyer, charlesshyer, charlesshyer]\n",
              "                               ...                        \n",
              "40952        [greggchampion, greggchampion, greggchampion]\n",
              "41172    [tinusureshdesai, tinusureshdesai, tinusureshd...\n",
              "41225    [ashutoshgowariker, ashutoshgowariker, ashutos...\n",
              "41391              [hideakianno, hideakianno, hideakianno]\n",
              "41669                    [ronhoward, ronhoward, ronhoward]\n",
              "Name: director, Length: 9219, dtype: object"
            ]
          },
          "metadata": {
            "tags": []
          },
          "execution_count": 145
        }
      ]
    },
    {
      "cell_type": "code",
      "metadata": {
        "id": "EYBcksQQyQ4F",
        "colab_type": "code",
        "outputId": "80a6f855-8050-4fee-b41a-100a701dce22",
        "colab": {
          "base_uri": "https://localhost:8080/",
          "height": 71
        }
      },
      "source": [
        "keywords = movies_filtered.apply(lambda movie: pd.Series(movie['keywords']),axis=1).stack().reset_index(level=1, drop=True)\n",
        "keywords = keywords.value_counts()"
      ],
      "execution_count": 146,
      "outputs": [
        {
          "output_type": "stream",
          "text": [
            "/usr/local/lib/python3.6/dist-packages/ipykernel_launcher.py:1: DeprecationWarning: The default dtype for empty Series will be 'object' instead of 'float64' in a future version. Specify a dtype explicitly to silence this warning.\n",
            "  \"\"\"Entry point for launching an IPython kernel.\n"
          ],
          "name": "stderr"
        }
      ]
    },
    {
      "cell_type": "code",
      "metadata": {
        "id": "xHiTRs1izbPQ",
        "colab_type": "code",
        "outputId": "2d460c05-0fd1-4d03-8be5-081f62c14048",
        "colab": {
          "base_uri": "https://localhost:8080/",
          "height": 119
        }
      },
      "source": [
        "keywords = keywords[keywords>1]\n",
        "keywords.head()"
      ],
      "execution_count": 147,
      "outputs": [
        {
          "output_type": "execute_result",
          "data": {
            "text/plain": [
              "independent film        610\n",
              "woman director          550\n",
              "murder                  399\n",
              "duringcreditsstinger    327\n",
              "based on novel          318\n",
              "dtype: int64"
            ]
          },
          "metadata": {
            "tags": []
          },
          "execution_count": 147
        }
      ]
    },
    {
      "cell_type": "code",
      "metadata": {
        "id": "UgEdQYPyztdg",
        "colab_type": "code",
        "colab": {}
      },
      "source": [
        "def filterKeywords(list):\n",
        "  words = []\n",
        "  for word in list:\n",
        "    if word in keywords:\n",
        "      words.append(word)\n",
        "  return words"
      ],
      "execution_count": 0,
      "outputs": []
    },
    {
      "cell_type": "code",
      "metadata": {
        "id": "dWqX-Lm90QfH",
        "colab_type": "code",
        "outputId": "dad20827-3316-4847-8097-8c5fc34cf501",
        "colab": {
          "base_uri": "https://localhost:8080/",
          "height": 119
        }
      },
      "source": [
        "movies_filtered['keywords'] = movies_filtered['keywords'].apply(filterKeywords)"
      ],
      "execution_count": 149,
      "outputs": [
        {
          "output_type": "stream",
          "text": [
            "/usr/local/lib/python3.6/dist-packages/ipykernel_launcher.py:1: SettingWithCopyWarning: \n",
            "A value is trying to be set on a copy of a slice from a DataFrame.\n",
            "Try using .loc[row_indexer,col_indexer] = value instead\n",
            "\n",
            "See the caveats in the documentation: https://pandas.pydata.org/pandas-docs/stable/user_guide/indexing.html#returning-a-view-versus-a-copy\n",
            "  \"\"\"Entry point for launching an IPython kernel.\n"
          ],
          "name": "stderr"
        }
      ]
    },
    {
      "cell_type": "code",
      "metadata": {
        "id": "y9CYnahR0TrQ",
        "colab_type": "code",
        "outputId": "b8a10edf-4d30-4120-8d10-df468c4a957e",
        "colab": {
          "base_uri": "https://localhost:8080/",
          "height": 119
        }
      },
      "source": [
        "movies_filtered['keywords'] = movies_filtered['keywords'].apply(lambda movieKeywords: [SnowballStemmer('english').stem(word) for word in movieKeywords])"
      ],
      "execution_count": 150,
      "outputs": [
        {
          "output_type": "stream",
          "text": [
            "/usr/local/lib/python3.6/dist-packages/ipykernel_launcher.py:1: SettingWithCopyWarning: \n",
            "A value is trying to be set on a copy of a slice from a DataFrame.\n",
            "Try using .loc[row_indexer,col_indexer] = value instead\n",
            "\n",
            "See the caveats in the documentation: https://pandas.pydata.org/pandas-docs/stable/user_guide/indexing.html#returning-a-view-versus-a-copy\n",
            "  \"\"\"Entry point for launching an IPython kernel.\n"
          ],
          "name": "stderr"
        }
      ]
    },
    {
      "cell_type": "code",
      "metadata": {
        "id": "1bcXPMyC0xIY",
        "colab_type": "code",
        "outputId": "af8356f2-5a17-4b90-b39c-55166177ec06",
        "colab": {
          "base_uri": "https://localhost:8080/",
          "height": 323
        }
      },
      "source": [
        "movies_filtered['keywords'] = movies_filtered['keywords'].apply(lambda movieKeywords: [str.lower(word.replace(\" \", \"\")) for word in movieKeywords])\n",
        "movies_filtered['keywords']"
      ],
      "execution_count": 151,
      "outputs": [
        {
          "output_type": "stream",
          "text": [
            "/usr/local/lib/python3.6/dist-packages/ipykernel_launcher.py:1: SettingWithCopyWarning: \n",
            "A value is trying to be set on a copy of a slice from a DataFrame.\n",
            "Try using .loc[row_indexer,col_indexer] = value instead\n",
            "\n",
            "See the caveats in the documentation: https://pandas.pydata.org/pandas-docs/stable/user_guide/indexing.html#returning-a-view-versus-a-copy\n",
            "  \"\"\"Entry point for launching an IPython kernel.\n"
          ],
          "name": "stderr"
        },
        {
          "output_type": "execute_result",
          "data": {
            "text/plain": [
              "0        [jealousi, toy, boy, friendship, friend, rival...\n",
              "1        [boardgam, disappear, basedonchildren'sbook, n...\n",
              "2                   [fish, bestfriend, duringcreditssting]\n",
              "3        [basedonnovel, interracialrelationship, single...\n",
              "4        [babi, midlifecrisi, confid, age, daughter, mo...\n",
              "                               ...                        \n",
              "40952                                         [friendship]\n",
              "41172                                          [bollywood]\n",
              "41225                                          [bollywood]\n",
              "41391     [monster, godzilla, giantmonst, destruct, kaiju]\n",
              "41669                                 [music, documentari]\n",
              "Name: keywords, Length: 9219, dtype: object"
            ]
          },
          "metadata": {
            "tags": []
          },
          "execution_count": 151
        }
      ]
    },
    {
      "cell_type": "code",
      "metadata": {
        "id": "3LfYC-Lq1SDb",
        "colab_type": "code",
        "outputId": "e846f318-487c-49c6-ef36-2a2ae3958829",
        "colab": {
          "base_uri": "https://localhost:8080/",
          "height": 425
        }
      },
      "source": [
        "movies_filtered['document'] = movies_filtered['keywords'] + movies_filtered['cast'] + movies_filtered['director'] + movies_filtered['genres']\n",
        "movies_filtered['document'] = movies_filtered['document'].apply(lambda x: ' '.join(x))\n",
        "movies_filtered['document'] "
      ],
      "execution_count": 152,
      "outputs": [
        {
          "output_type": "stream",
          "text": [
            "/usr/local/lib/python3.6/dist-packages/ipykernel_launcher.py:1: SettingWithCopyWarning: \n",
            "A value is trying to be set on a copy of a slice from a DataFrame.\n",
            "Try using .loc[row_indexer,col_indexer] = value instead\n",
            "\n",
            "See the caveats in the documentation: https://pandas.pydata.org/pandas-docs/stable/user_guide/indexing.html#returning-a-view-versus-a-copy\n",
            "  \"\"\"Entry point for launching an IPython kernel.\n",
            "/usr/local/lib/python3.6/dist-packages/ipykernel_launcher.py:2: SettingWithCopyWarning: \n",
            "A value is trying to be set on a copy of a slice from a DataFrame.\n",
            "Try using .loc[row_indexer,col_indexer] = value instead\n",
            "\n",
            "See the caveats in the documentation: https://pandas.pydata.org/pandas-docs/stable/user_guide/indexing.html#returning-a-view-versus-a-copy\n",
            "  \n"
          ],
          "name": "stderr"
        },
        {
          "output_type": "execute_result",
          "data": {
            "text/plain": [
              "0        jealousi toy boy friendship friend rivalri boy...\n",
              "1        boardgam disappear basedonchildren'sbook newho...\n",
              "2        fish bestfriend duringcreditssting Walter Matt...\n",
              "3        basedonnovel interracialrelationship singlemot...\n",
              "4        babi midlifecrisi confid age daughter motherda...\n",
              "                               ...                        \n",
              "40952    friendship Sidney Poitier Wendy Crewson Jay O....\n",
              "41172    bollywood Akshay Kumar Ileana D'Cruz Esha Gupt...\n",
              "41225    bollywood Hrithik Roshan Pooja Hegde Kabir Bed...\n",
              "41391    monster godzilla giantmonst destruct kaiju Hir...\n",
              "41669    music documentari Paul McCartney Ringo Starr J...\n",
              "Name: document, Length: 9219, dtype: object"
            ]
          },
          "metadata": {
            "tags": []
          },
          "execution_count": 152
        }
      ]
    },
    {
      "cell_type": "code",
      "metadata": {
        "id": "4JKUW2nW17mu",
        "colab_type": "code",
        "outputId": "23768577-f26d-43c3-a5f9-5846ad8eeede",
        "colab": {
          "base_uri": "https://localhost:8080/",
          "height": 221
        }
      },
      "source": [
        "movies_filtered['document'] "
      ],
      "execution_count": 153,
      "outputs": [
        {
          "output_type": "execute_result",
          "data": {
            "text/plain": [
              "0        jealousi toy boy friendship friend rivalri boy...\n",
              "1        boardgam disappear basedonchildren'sbook newho...\n",
              "2        fish bestfriend duringcreditssting Walter Matt...\n",
              "3        basedonnovel interracialrelationship singlemot...\n",
              "4        babi midlifecrisi confid age daughter motherda...\n",
              "                               ...                        \n",
              "40952    friendship Sidney Poitier Wendy Crewson Jay O....\n",
              "41172    bollywood Akshay Kumar Ileana D'Cruz Esha Gupt...\n",
              "41225    bollywood Hrithik Roshan Pooja Hegde Kabir Bed...\n",
              "41391    monster godzilla giantmonst destruct kaiju Hir...\n",
              "41669    music documentari Paul McCartney Ringo Starr J...\n",
              "Name: document, Length: 9219, dtype: object"
            ]
          },
          "metadata": {
            "tags": []
          },
          "execution_count": 153
        }
      ]
    },
    {
      "cell_type": "code",
      "metadata": {
        "id": "gdgy_S6C31vb",
        "colab_type": "code",
        "colab": {}
      },
      "source": [
        "count_vector = CountVectorizer(analyzer='word',ngram_range=(1, 2),min_df=0, stop_words='english')\n",
        "count_matrix = count_vector.fit_transform(movies_filtered['document'] )\n",
        "similarity = cosine_similarity(count_matrix, count_matrix)"
      ],
      "execution_count": 0,
      "outputs": []
    },
    {
      "cell_type": "code",
      "metadata": {
        "id": "96a_wAVI353x",
        "colab_type": "code",
        "colab": {}
      },
      "source": [
        "movies_filtered = movies_filtered.reset_index()\n",
        "titles = movies_filtered['title']\n",
        "indices = pd.Series(movies_filtered.index, index=movies_filtered['title'])"
      ],
      "execution_count": 0,
      "outputs": []
    },
    {
      "cell_type": "code",
      "metadata": {
        "id": "wO71hK0dzin6",
        "colab_type": "code",
        "outputId": "ce432b8c-5e3f-4fd8-ad19-21c899aad09f",
        "colab": {
          "base_uri": "https://localhost:8080/",
          "height": 1000
        }
      },
      "source": [
        "movies_filtered"
      ],
      "execution_count": 156,
      "outputs": [
        {
          "output_type": "execute_result",
          "data": {
            "text/html": [
              "<div>\n",
              "<style scoped>\n",
              "    .dataframe tbody tr th:only-of-type {\n",
              "        vertical-align: middle;\n",
              "    }\n",
              "\n",
              "    .dataframe tbody tr th {\n",
              "        vertical-align: top;\n",
              "    }\n",
              "\n",
              "    .dataframe thead th {\n",
              "        text-align: right;\n",
              "    }\n",
              "</style>\n",
              "<table border=\"1\" class=\"dataframe\">\n",
              "  <thead>\n",
              "    <tr style=\"text-align: right;\">\n",
              "      <th></th>\n",
              "      <th>index</th>\n",
              "      <th>adult</th>\n",
              "      <th>belongs_to_collection</th>\n",
              "      <th>budget</th>\n",
              "      <th>genres</th>\n",
              "      <th>homepage</th>\n",
              "      <th>id</th>\n",
              "      <th>imdb_id</th>\n",
              "      <th>original_language</th>\n",
              "      <th>original_title</th>\n",
              "      <th>overview</th>\n",
              "      <th>popularity</th>\n",
              "      <th>poster_path</th>\n",
              "      <th>production_companies</th>\n",
              "      <th>production_countries</th>\n",
              "      <th>release_date</th>\n",
              "      <th>revenue</th>\n",
              "      <th>runtime</th>\n",
              "      <th>spoken_languages</th>\n",
              "      <th>status</th>\n",
              "      <th>tagline</th>\n",
              "      <th>title</th>\n",
              "      <th>video</th>\n",
              "      <th>vote_average</th>\n",
              "      <th>vote_count</th>\n",
              "      <th>cast</th>\n",
              "      <th>crew</th>\n",
              "      <th>keywords</th>\n",
              "      <th>cast_size</th>\n",
              "      <th>crew_size</th>\n",
              "      <th>director</th>\n",
              "      <th>document</th>\n",
              "    </tr>\n",
              "  </thead>\n",
              "  <tbody>\n",
              "    <tr>\n",
              "      <th>0</th>\n",
              "      <td>0</td>\n",
              "      <td>False</td>\n",
              "      <td>{'id': 10194, 'name': 'Toy Story Collection', ...</td>\n",
              "      <td>30000000</td>\n",
              "      <td>[Animation, Comedy, Family]</td>\n",
              "      <td>http://toystory.disney.com/toy-story</td>\n",
              "      <td>862</td>\n",
              "      <td>tt0114709</td>\n",
              "      <td>en</td>\n",
              "      <td>Toy Story</td>\n",
              "      <td>Led by Woody, Andy's toys live happily in his ...</td>\n",
              "      <td>21.9469</td>\n",
              "      <td>/rhIRbceoE9lR4veEXuwCC2wARtG.jpg</td>\n",
              "      <td>[{'name': 'Pixar Animation Studios', 'id': 3}]</td>\n",
              "      <td>[{'iso_3166_1': 'US', 'name': 'United States o...</td>\n",
              "      <td>1995-10-30</td>\n",
              "      <td>373554033.0</td>\n",
              "      <td>81.0</td>\n",
              "      <td>[{'iso_639_1': 'en', 'name': 'English'}]</td>\n",
              "      <td>Released</td>\n",
              "      <td>NaN</td>\n",
              "      <td>Toy Story</td>\n",
              "      <td>False</td>\n",
              "      <td>7.7</td>\n",
              "      <td>5415.0</td>\n",
              "      <td>[Tom Hanks, Tim Allen, Don Rickles]</td>\n",
              "      <td>[{'credit_id': '52fe4284c3a36847f8024f49', 'de...</td>\n",
              "      <td>[jealousi, toy, boy, friendship, friend, rival...</td>\n",
              "      <td>13</td>\n",
              "      <td>106</td>\n",
              "      <td>[johnlasseter, johnlasseter, johnlasseter]</td>\n",
              "      <td>jealousi toy boy friendship friend rivalri boy...</td>\n",
              "    </tr>\n",
              "    <tr>\n",
              "      <th>1</th>\n",
              "      <td>1</td>\n",
              "      <td>False</td>\n",
              "      <td>NaN</td>\n",
              "      <td>65000000</td>\n",
              "      <td>[Adventure, Fantasy, Family]</td>\n",
              "      <td>NaN</td>\n",
              "      <td>8844</td>\n",
              "      <td>tt0113497</td>\n",
              "      <td>en</td>\n",
              "      <td>Jumanji</td>\n",
              "      <td>When siblings Judy and Peter discover an encha...</td>\n",
              "      <td>17.0155</td>\n",
              "      <td>/vzmL6fP7aPKNKPRTFnZmiUfciyV.jpg</td>\n",
              "      <td>[{'name': 'TriStar Pictures', 'id': 559}, {'na...</td>\n",
              "      <td>[{'iso_3166_1': 'US', 'name': 'United States o...</td>\n",
              "      <td>1995-12-15</td>\n",
              "      <td>262797249.0</td>\n",
              "      <td>104.0</td>\n",
              "      <td>[{'iso_639_1': 'en', 'name': 'English'}, {'iso...</td>\n",
              "      <td>Released</td>\n",
              "      <td>Roll the dice and unleash the excitement!</td>\n",
              "      <td>Jumanji</td>\n",
              "      <td>False</td>\n",
              "      <td>6.9</td>\n",
              "      <td>2413.0</td>\n",
              "      <td>[Robin Williams, Jonathan Hyde, Kirsten Dunst]</td>\n",
              "      <td>[{'credit_id': '52fe44bfc3a36847f80a7cd1', 'de...</td>\n",
              "      <td>[boardgam, disappear, basedonchildren'sbook, n...</td>\n",
              "      <td>26</td>\n",
              "      <td>16</td>\n",
              "      <td>[joejohnston, joejohnston, joejohnston]</td>\n",
              "      <td>boardgam disappear basedonchildren'sbook newho...</td>\n",
              "    </tr>\n",
              "    <tr>\n",
              "      <th>2</th>\n",
              "      <td>2</td>\n",
              "      <td>False</td>\n",
              "      <td>{'id': 119050, 'name': 'Grumpy Old Men Collect...</td>\n",
              "      <td>0</td>\n",
              "      <td>[Romance, Comedy]</td>\n",
              "      <td>NaN</td>\n",
              "      <td>15602</td>\n",
              "      <td>tt0113228</td>\n",
              "      <td>en</td>\n",
              "      <td>Grumpier Old Men</td>\n",
              "      <td>A family wedding reignites the ancient feud be...</td>\n",
              "      <td>11.7129</td>\n",
              "      <td>/6ksm1sjKMFLbO7UY2i6G1ju9SML.jpg</td>\n",
              "      <td>[{'name': 'Warner Bros.', 'id': 6194}, {'name'...</td>\n",
              "      <td>[{'iso_3166_1': 'US', 'name': 'United States o...</td>\n",
              "      <td>1995-12-22</td>\n",
              "      <td>0.0</td>\n",
              "      <td>101.0</td>\n",
              "      <td>[{'iso_639_1': 'en', 'name': 'English'}]</td>\n",
              "      <td>Released</td>\n",
              "      <td>Still Yelling. Still Fighting. Still Ready for...</td>\n",
              "      <td>Grumpier Old Men</td>\n",
              "      <td>False</td>\n",
              "      <td>6.5</td>\n",
              "      <td>92.0</td>\n",
              "      <td>[Walter Matthau, Jack Lemmon, Ann-Margret]</td>\n",
              "      <td>[{'credit_id': '52fe466a9251416c75077a89', 'de...</td>\n",
              "      <td>[fish, bestfriend, duringcreditssting]</td>\n",
              "      <td>7</td>\n",
              "      <td>4</td>\n",
              "      <td>[howarddeutch, howarddeutch, howarddeutch]</td>\n",
              "      <td>fish bestfriend duringcreditssting Walter Matt...</td>\n",
              "    </tr>\n",
              "    <tr>\n",
              "      <th>3</th>\n",
              "      <td>3</td>\n",
              "      <td>False</td>\n",
              "      <td>NaN</td>\n",
              "      <td>16000000</td>\n",
              "      <td>[Comedy, Drama, Romance]</td>\n",
              "      <td>NaN</td>\n",
              "      <td>31357</td>\n",
              "      <td>tt0114885</td>\n",
              "      <td>en</td>\n",
              "      <td>Waiting to Exhale</td>\n",
              "      <td>Cheated on, mistreated and stepped on, the wom...</td>\n",
              "      <td>3.85949</td>\n",
              "      <td>/16XOMpEaLWkrcPqSQqhTmeJuqQl.jpg</td>\n",
              "      <td>[{'name': 'Twentieth Century Fox Film Corporat...</td>\n",
              "      <td>[{'iso_3166_1': 'US', 'name': 'United States o...</td>\n",
              "      <td>1995-12-22</td>\n",
              "      <td>81452156.0</td>\n",
              "      <td>127.0</td>\n",
              "      <td>[{'iso_639_1': 'en', 'name': 'English'}]</td>\n",
              "      <td>Released</td>\n",
              "      <td>Friends are the people who let you be yourself...</td>\n",
              "      <td>Waiting to Exhale</td>\n",
              "      <td>False</td>\n",
              "      <td>6.1</td>\n",
              "      <td>34.0</td>\n",
              "      <td>[Whitney Houston, Angela Bassett, Loretta Devine]</td>\n",
              "      <td>[{'credit_id': '52fe44779251416c91011acb', 'de...</td>\n",
              "      <td>[basedonnovel, interracialrelationship, single...</td>\n",
              "      <td>10</td>\n",
              "      <td>10</td>\n",
              "      <td>[forestwhitaker, forestwhitaker, forestwhitaker]</td>\n",
              "      <td>basedonnovel interracialrelationship singlemot...</td>\n",
              "    </tr>\n",
              "    <tr>\n",
              "      <th>4</th>\n",
              "      <td>4</td>\n",
              "      <td>False</td>\n",
              "      <td>{'id': 96871, 'name': 'Father of the Bride Col...</td>\n",
              "      <td>0</td>\n",
              "      <td>[Comedy]</td>\n",
              "      <td>NaN</td>\n",
              "      <td>11862</td>\n",
              "      <td>tt0113041</td>\n",
              "      <td>en</td>\n",
              "      <td>Father of the Bride Part II</td>\n",
              "      <td>Just when George Banks has recovered from his ...</td>\n",
              "      <td>8.38752</td>\n",
              "      <td>/e64sOI48hQXyru7naBFyssKFxVd.jpg</td>\n",
              "      <td>[{'name': 'Sandollar Productions', 'id': 5842}...</td>\n",
              "      <td>[{'iso_3166_1': 'US', 'name': 'United States o...</td>\n",
              "      <td>1995-02-10</td>\n",
              "      <td>76578911.0</td>\n",
              "      <td>106.0</td>\n",
              "      <td>[{'iso_639_1': 'en', 'name': 'English'}]</td>\n",
              "      <td>Released</td>\n",
              "      <td>Just When His World Is Back To Normal... He's ...</td>\n",
              "      <td>Father of the Bride Part II</td>\n",
              "      <td>False</td>\n",
              "      <td>5.7</td>\n",
              "      <td>173.0</td>\n",
              "      <td>[Steve Martin, Diane Keaton, Martin Short]</td>\n",
              "      <td>[{'credit_id': '52fe44959251416c75039ed7', 'de...</td>\n",
              "      <td>[babi, midlifecrisi, confid, age, daughter, mo...</td>\n",
              "      <td>12</td>\n",
              "      <td>7</td>\n",
              "      <td>[charlesshyer, charlesshyer, charlesshyer]</td>\n",
              "      <td>babi midlifecrisi confid age daughter motherda...</td>\n",
              "    </tr>\n",
              "    <tr>\n",
              "      <th>...</th>\n",
              "      <td>...</td>\n",
              "      <td>...</td>\n",
              "      <td>...</td>\n",
              "      <td>...</td>\n",
              "      <td>...</td>\n",
              "      <td>...</td>\n",
              "      <td>...</td>\n",
              "      <td>...</td>\n",
              "      <td>...</td>\n",
              "      <td>...</td>\n",
              "      <td>...</td>\n",
              "      <td>...</td>\n",
              "      <td>...</td>\n",
              "      <td>...</td>\n",
              "      <td>...</td>\n",
              "      <td>...</td>\n",
              "      <td>...</td>\n",
              "      <td>...</td>\n",
              "      <td>...</td>\n",
              "      <td>...</td>\n",
              "      <td>...</td>\n",
              "      <td>...</td>\n",
              "      <td>...</td>\n",
              "      <td>...</td>\n",
              "      <td>...</td>\n",
              "      <td>...</td>\n",
              "      <td>...</td>\n",
              "      <td>...</td>\n",
              "      <td>...</td>\n",
              "      <td>...</td>\n",
              "      <td>...</td>\n",
              "      <td>...</td>\n",
              "    </tr>\n",
              "    <tr>\n",
              "      <th>9214</th>\n",
              "      <td>40952</td>\n",
              "      <td>False</td>\n",
              "      <td>NaN</td>\n",
              "      <td>8000000</td>\n",
              "      <td>[Drama]</td>\n",
              "      <td>NaN</td>\n",
              "      <td>159550</td>\n",
              "      <td>tt0255313</td>\n",
              "      <td>en</td>\n",
              "      <td>The Last Brickmaker in America</td>\n",
              "      <td>A man must cope with the loss of his wife and ...</td>\n",
              "      <td>0.038998</td>\n",
              "      <td>/yWp7PgydSlxlhl7benKhTnCvRjN.jpg</td>\n",
              "      <td>[{'name': 'Nasser Entertainment', 'id': 35802}]</td>\n",
              "      <td>[{'iso_3166_1': 'US', 'name': 'United States o...</td>\n",
              "      <td>2001-09-23</td>\n",
              "      <td>0.0</td>\n",
              "      <td>85.0</td>\n",
              "      <td>[]</td>\n",
              "      <td>Released</td>\n",
              "      <td>NaN</td>\n",
              "      <td>The Last Brickmaker in America</td>\n",
              "      <td>False</td>\n",
              "      <td>7.0</td>\n",
              "      <td>1.0</td>\n",
              "      <td>[Sidney Poitier, Wendy Crewson, Jay O. Sanders]</td>\n",
              "      <td>[{'credit_id': '544475aac3a36819fb000578', 'de...</td>\n",
              "      <td>[friendship]</td>\n",
              "      <td>7</td>\n",
              "      <td>2</td>\n",
              "      <td>[greggchampion, greggchampion, greggchampion]</td>\n",
              "      <td>friendship Sidney Poitier Wendy Crewson Jay O....</td>\n",
              "    </tr>\n",
              "    <tr>\n",
              "      <th>9215</th>\n",
              "      <td>41172</td>\n",
              "      <td>False</td>\n",
              "      <td>NaN</td>\n",
              "      <td>1000000</td>\n",
              "      <td>[Thriller, Romance]</td>\n",
              "      <td>NaN</td>\n",
              "      <td>392572</td>\n",
              "      <td>tt5165344</td>\n",
              "      <td>hi</td>\n",
              "      <td>रुस्तम</td>\n",
              "      <td>Rustom Pavri, an honourable officer of the Ind...</td>\n",
              "      <td>7.333139</td>\n",
              "      <td>/q1lrN6ZrIsOs077lQB86aPGKZRF.jpg</td>\n",
              "      <td>[{'name': 'KriArj Entertainment', 'id': 91689}]</td>\n",
              "      <td>[{'iso_3166_1': 'IN', 'name': 'India'}]</td>\n",
              "      <td>2016-08-12</td>\n",
              "      <td>0.0</td>\n",
              "      <td>150.0</td>\n",
              "      <td>[{'iso_639_1': 'hi', 'name': 'हिन्दी'}]</td>\n",
              "      <td>Released</td>\n",
              "      <td>Decorated Officer. Devoted Family Man. Defendi...</td>\n",
              "      <td>Rustom</td>\n",
              "      <td>False</td>\n",
              "      <td>7.3</td>\n",
              "      <td>25.0</td>\n",
              "      <td>[Akshay Kumar, Ileana D'Cruz, Esha Gupta]</td>\n",
              "      <td>[{'credit_id': '5951baf692514129c4016600', 'de...</td>\n",
              "      <td>[bollywood]</td>\n",
              "      <td>14</td>\n",
              "      <td>16</td>\n",
              "      <td>[tinusureshdesai, tinusureshdesai, tinusureshd...</td>\n",
              "      <td>bollywood Akshay Kumar Ileana D'Cruz Esha Gupt...</td>\n",
              "    </tr>\n",
              "    <tr>\n",
              "      <th>9216</th>\n",
              "      <td>41225</td>\n",
              "      <td>False</td>\n",
              "      <td>NaN</td>\n",
              "      <td>15050000</td>\n",
              "      <td>[Adventure, Drama, History, Romance]</td>\n",
              "      <td>NaN</td>\n",
              "      <td>402672</td>\n",
              "      <td>tt3859980</td>\n",
              "      <td>hi</td>\n",
              "      <td>Mohenjo Daro</td>\n",
              "      <td>Village lad Sarman is drawn to big, bad Mohenj...</td>\n",
              "      <td>1.423358</td>\n",
              "      <td>/q2XVemXiWSa18mbaVpI3rbLXG2u.jpg</td>\n",
              "      <td>[{'name': 'UTV Motion Pictures', 'id': 2320}, ...</td>\n",
              "      <td>[{'iso_3166_1': 'IN', 'name': 'India'}]</td>\n",
              "      <td>2016-08-11</td>\n",
              "      <td>16180000.0</td>\n",
              "      <td>155.0</td>\n",
              "      <td>[{'iso_639_1': 'hi', 'name': 'हिन्दी'}]</td>\n",
              "      <td>Released</td>\n",
              "      <td>NaN</td>\n",
              "      <td>Mohenjo Daro</td>\n",
              "      <td>False</td>\n",
              "      <td>6.7</td>\n",
              "      <td>26.0</td>\n",
              "      <td>[Hrithik Roshan, Pooja Hegde, Kabir Bedi]</td>\n",
              "      <td>[{'credit_id': '57cd5d3592514179d50018e8', 'de...</td>\n",
              "      <td>[bollywood]</td>\n",
              "      <td>12</td>\n",
              "      <td>16</td>\n",
              "      <td>[ashutoshgowariker, ashutoshgowariker, ashutos...</td>\n",
              "      <td>bollywood Hrithik Roshan Pooja Hegde Kabir Bed...</td>\n",
              "    </tr>\n",
              "    <tr>\n",
              "      <th>9217</th>\n",
              "      <td>41391</td>\n",
              "      <td>False</td>\n",
              "      <td>NaN</td>\n",
              "      <td>15000000</td>\n",
              "      <td>[Action, Adventure, Drama, Horror, Science Fic...</td>\n",
              "      <td>NaN</td>\n",
              "      <td>315011</td>\n",
              "      <td>tt4262980</td>\n",
              "      <td>ja</td>\n",
              "      <td>シン・ゴジラ</td>\n",
              "      <td>From the mind behind Evangelion comes a hit la...</td>\n",
              "      <td>9.285519</td>\n",
              "      <td>/8YWirGQidtZeSEmhqvQM5FrI6N1.jpg</td>\n",
              "      <td>[{'name': 'Cine Bazar', 'id': 5896}, {'name': ...</td>\n",
              "      <td>[{'iso_3166_1': 'JP', 'name': 'Japan'}]</td>\n",
              "      <td>2016-07-29</td>\n",
              "      <td>77000000.0</td>\n",
              "      <td>120.0</td>\n",
              "      <td>[{'iso_639_1': 'it', 'name': 'Italiano'}, {'is...</td>\n",
              "      <td>Released</td>\n",
              "      <td>A god incarnate. A city doomed.</td>\n",
              "      <td>Shin Godzilla</td>\n",
              "      <td>False</td>\n",
              "      <td>6.6</td>\n",
              "      <td>152.0</td>\n",
              "      <td>[Hiroki Hasegawa, Yutaka Takenouchi, Satomi Is...</td>\n",
              "      <td>[{'credit_id': '560892fa92514177550018b2', 'de...</td>\n",
              "      <td>[monster, godzilla, giantmonst, destruct, kaiju]</td>\n",
              "      <td>49</td>\n",
              "      <td>27</td>\n",
              "      <td>[hideakianno, hideakianno, hideakianno]</td>\n",
              "      <td>monster godzilla giantmonst destruct kaiju Hir...</td>\n",
              "    </tr>\n",
              "    <tr>\n",
              "      <th>9218</th>\n",
              "      <td>41669</td>\n",
              "      <td>False</td>\n",
              "      <td>NaN</td>\n",
              "      <td>0</td>\n",
              "      <td>[Documentary, Music]</td>\n",
              "      <td>http://www.thebeatlesliveproject.com/</td>\n",
              "      <td>391698</td>\n",
              "      <td>tt2531318</td>\n",
              "      <td>en</td>\n",
              "      <td>The Beatles: Eight Days a Week - The Touring Y...</td>\n",
              "      <td>The band stormed Europe in 1963, and, in 1964,...</td>\n",
              "      <td>7.078301</td>\n",
              "      <td>/uv7syi4vRyjvWoB8qExbqnbuCu5.jpg</td>\n",
              "      <td>[{'name': 'Imagine Entertainment', 'id': 23}, ...</td>\n",
              "      <td>[{'iso_3166_1': 'GB', 'name': 'United Kingdom'...</td>\n",
              "      <td>2016-09-15</td>\n",
              "      <td>0.0</td>\n",
              "      <td>99.0</td>\n",
              "      <td>[{'iso_639_1': 'en', 'name': 'English'}]</td>\n",
              "      <td>Released</td>\n",
              "      <td>The band you know. The story you don't.</td>\n",
              "      <td>The Beatles: Eight Days a Week - The Touring Y...</td>\n",
              "      <td>False</td>\n",
              "      <td>7.6</td>\n",
              "      <td>92.0</td>\n",
              "      <td>[Paul McCartney, Ringo Starr, John Lennon]</td>\n",
              "      <td>[{'credit_id': '57057c6cc3a3680dca000285', 'de...</td>\n",
              "      <td>[music, documentari]</td>\n",
              "      <td>28</td>\n",
              "      <td>7</td>\n",
              "      <td>[ronhoward, ronhoward, ronhoward]</td>\n",
              "      <td>music documentari Paul McCartney Ringo Starr J...</td>\n",
              "    </tr>\n",
              "  </tbody>\n",
              "</table>\n",
              "<p>9219 rows × 32 columns</p>\n",
              "</div>"
            ],
            "text/plain": [
              "      index  ...                                           document\n",
              "0         0  ...  jealousi toy boy friendship friend rivalri boy...\n",
              "1         1  ...  boardgam disappear basedonchildren'sbook newho...\n",
              "2         2  ...  fish bestfriend duringcreditssting Walter Matt...\n",
              "3         3  ...  basedonnovel interracialrelationship singlemot...\n",
              "4         4  ...  babi midlifecrisi confid age daughter motherda...\n",
              "...     ...  ...                                                ...\n",
              "9214  40952  ...  friendship Sidney Poitier Wendy Crewson Jay O....\n",
              "9215  41172  ...  bollywood Akshay Kumar Ileana D'Cruz Esha Gupt...\n",
              "9216  41225  ...  bollywood Hrithik Roshan Pooja Hegde Kabir Bed...\n",
              "9217  41391  ...  monster godzilla giantmonst destruct kaiju Hir...\n",
              "9218  41669  ...  music documentari Paul McCartney Ringo Starr J...\n",
              "\n",
              "[9219 rows x 32 columns]"
            ]
          },
          "metadata": {
            "tags": []
          },
          "execution_count": 156
        }
      ]
    },
    {
      "cell_type": "code",
      "metadata": {
        "id": "q8jGcD-t6Fja",
        "colab_type": "code",
        "colab": {}
      },
      "source": [
        "def get_recommendations(title):\n",
        "    idx = indices[title]\n",
        "    sim_scores = list(enumerate(similarity[idx]))\n",
        "    sim_scores = sorted(sim_scores, key=lambda x: x[1], reverse=True)\n",
        "    sim_scores = sim_scores[1:31]\n",
        "    movie_indices = [i[0] for i in sim_scores]\n",
        "    return titles.iloc[movie_indices]"
      ],
      "execution_count": 0,
      "outputs": []
    },
    {
      "cell_type": "code",
      "metadata": {
        "id": "hzuHSZA96IyF",
        "colab_type": "code",
        "colab": {}
      },
      "source": [
        "content_based_recommendations = get_recommendations('Batman Begins').head(10)"
      ],
      "execution_count": 0,
      "outputs": []
    },
    {
      "cell_type": "code",
      "metadata": {
        "id": "c6thmiWS6J-x",
        "colab_type": "code",
        "colab": {
          "base_uri": "https://localhost:8080/",
          "height": 102
        },
        "outputId": "47d343cf-99ab-42e4-bc4c-2da428c09006"
      },
      "source": [
        "ratings.count()"
      ],
      "execution_count": 159,
      "outputs": [
        {
          "output_type": "execute_result",
          "data": {
            "text/plain": [
              "userId       100004\n",
              "movieId      100004\n",
              "rating       100004\n",
              "timestamp    100004\n",
              "dtype: int64"
            ]
          },
          "metadata": {
            "tags": []
          },
          "execution_count": 159
        }
      ]
    },
    {
      "cell_type": "markdown",
      "metadata": {
        "id": "JlVDXvy6hiCZ",
        "colab_type": "text"
      },
      "source": [
        "Convert String to numbers"
      ]
    },
    {
      "cell_type": "code",
      "metadata": {
        "id": "7uOfKqrxhnJp",
        "colab_type": "code",
        "colab": {
          "base_uri": "https://localhost:8080/",
          "height": 204
        },
        "outputId": "de364db0-c0eb-4781-87d6-657e09c981ed"
      },
      "source": [
        "ratings.userId = ratings.userId.astype(str).astype(int)\n",
        "ratings.movieId = ratings.movieId.astype(str).astype(int)\n",
        "ratings.rating = ratings.rating.astype(str).astype(float)\n",
        "ratings.timestamp = pd.to_datetime(ratings.timestamp.astype(int), unit='s')\n",
        "ratings.head()"
      ],
      "execution_count": 160,
      "outputs": [
        {
          "output_type": "execute_result",
          "data": {
            "text/html": [
              "<div>\n",
              "<style scoped>\n",
              "    .dataframe tbody tr th:only-of-type {\n",
              "        vertical-align: middle;\n",
              "    }\n",
              "\n",
              "    .dataframe tbody tr th {\n",
              "        vertical-align: top;\n",
              "    }\n",
              "\n",
              "    .dataframe thead th {\n",
              "        text-align: right;\n",
              "    }\n",
              "</style>\n",
              "<table border=\"1\" class=\"dataframe\">\n",
              "  <thead>\n",
              "    <tr style=\"text-align: right;\">\n",
              "      <th></th>\n",
              "      <th>userId</th>\n",
              "      <th>movieId</th>\n",
              "      <th>rating</th>\n",
              "      <th>timestamp</th>\n",
              "    </tr>\n",
              "  </thead>\n",
              "  <tbody>\n",
              "    <tr>\n",
              "      <th>0</th>\n",
              "      <td>1</td>\n",
              "      <td>31</td>\n",
              "      <td>2.5</td>\n",
              "      <td>2009-12-14 02:52:24</td>\n",
              "    </tr>\n",
              "    <tr>\n",
              "      <th>1</th>\n",
              "      <td>1</td>\n",
              "      <td>1029</td>\n",
              "      <td>3.0</td>\n",
              "      <td>2009-12-14 02:52:59</td>\n",
              "    </tr>\n",
              "    <tr>\n",
              "      <th>2</th>\n",
              "      <td>1</td>\n",
              "      <td>1061</td>\n",
              "      <td>3.0</td>\n",
              "      <td>2009-12-14 02:53:02</td>\n",
              "    </tr>\n",
              "    <tr>\n",
              "      <th>3</th>\n",
              "      <td>1</td>\n",
              "      <td>1129</td>\n",
              "      <td>2.0</td>\n",
              "      <td>2009-12-14 02:53:05</td>\n",
              "    </tr>\n",
              "    <tr>\n",
              "      <th>4</th>\n",
              "      <td>1</td>\n",
              "      <td>1172</td>\n",
              "      <td>4.0</td>\n",
              "      <td>2009-12-14 02:53:25</td>\n",
              "    </tr>\n",
              "  </tbody>\n",
              "</table>\n",
              "</div>"
            ],
            "text/plain": [
              "   userId  movieId  rating           timestamp\n",
              "0       1       31     2.5 2009-12-14 02:52:24\n",
              "1       1     1029     3.0 2009-12-14 02:52:59\n",
              "2       1     1061     3.0 2009-12-14 02:53:02\n",
              "3       1     1129     2.0 2009-12-14 02:53:05\n",
              "4       1     1172     4.0 2009-12-14 02:53:25"
            ]
          },
          "metadata": {
            "tags": []
          },
          "execution_count": 160
        }
      ]
    },
    {
      "cell_type": "code",
      "metadata": {
        "id": "5YPaAO6yqIZr",
        "colab_type": "code",
        "colab": {
          "base_uri": "https://localhost:8080/",
          "height": 34
        },
        "outputId": "357b5d81-020d-45e4-a5b6-782aa807238e"
      },
      "source": [
        "len(movies_filtered)"
      ],
      "execution_count": 161,
      "outputs": [
        {
          "output_type": "execute_result",
          "data": {
            "text/plain": [
              "9219"
            ]
          },
          "metadata": {
            "tags": []
          },
          "execution_count": 161
        }
      ]
    },
    {
      "cell_type": "code",
      "metadata": {
        "id": "3jHBWFgXVW2b",
        "colab_type": "code",
        "colab": {
          "base_uri": "https://localhost:8080/",
          "height": 816
        },
        "outputId": "db027706-e850-4afe-c8e8-62c3945ee89f"
      },
      "source": [
        "movies_filtered['List Index']=movies_filtered.index.astype(str).astype(int)\n",
        "movies_filtered.head(6)"
      ],
      "execution_count": 162,
      "outputs": [
        {
          "output_type": "execute_result",
          "data": {
            "text/html": [
              "<div>\n",
              "<style scoped>\n",
              "    .dataframe tbody tr th:only-of-type {\n",
              "        vertical-align: middle;\n",
              "    }\n",
              "\n",
              "    .dataframe tbody tr th {\n",
              "        vertical-align: top;\n",
              "    }\n",
              "\n",
              "    .dataframe thead th {\n",
              "        text-align: right;\n",
              "    }\n",
              "</style>\n",
              "<table border=\"1\" class=\"dataframe\">\n",
              "  <thead>\n",
              "    <tr style=\"text-align: right;\">\n",
              "      <th></th>\n",
              "      <th>index</th>\n",
              "      <th>adult</th>\n",
              "      <th>belongs_to_collection</th>\n",
              "      <th>budget</th>\n",
              "      <th>genres</th>\n",
              "      <th>homepage</th>\n",
              "      <th>id</th>\n",
              "      <th>imdb_id</th>\n",
              "      <th>original_language</th>\n",
              "      <th>original_title</th>\n",
              "      <th>overview</th>\n",
              "      <th>popularity</th>\n",
              "      <th>poster_path</th>\n",
              "      <th>production_companies</th>\n",
              "      <th>production_countries</th>\n",
              "      <th>release_date</th>\n",
              "      <th>revenue</th>\n",
              "      <th>runtime</th>\n",
              "      <th>spoken_languages</th>\n",
              "      <th>status</th>\n",
              "      <th>tagline</th>\n",
              "      <th>title</th>\n",
              "      <th>video</th>\n",
              "      <th>vote_average</th>\n",
              "      <th>vote_count</th>\n",
              "      <th>cast</th>\n",
              "      <th>crew</th>\n",
              "      <th>keywords</th>\n",
              "      <th>cast_size</th>\n",
              "      <th>crew_size</th>\n",
              "      <th>director</th>\n",
              "      <th>document</th>\n",
              "      <th>List Index</th>\n",
              "    </tr>\n",
              "  </thead>\n",
              "  <tbody>\n",
              "    <tr>\n",
              "      <th>0</th>\n",
              "      <td>0</td>\n",
              "      <td>False</td>\n",
              "      <td>{'id': 10194, 'name': 'Toy Story Collection', ...</td>\n",
              "      <td>30000000</td>\n",
              "      <td>[Animation, Comedy, Family]</td>\n",
              "      <td>http://toystory.disney.com/toy-story</td>\n",
              "      <td>862</td>\n",
              "      <td>tt0114709</td>\n",
              "      <td>en</td>\n",
              "      <td>Toy Story</td>\n",
              "      <td>Led by Woody, Andy's toys live happily in his ...</td>\n",
              "      <td>21.9469</td>\n",
              "      <td>/rhIRbceoE9lR4veEXuwCC2wARtG.jpg</td>\n",
              "      <td>[{'name': 'Pixar Animation Studios', 'id': 3}]</td>\n",
              "      <td>[{'iso_3166_1': 'US', 'name': 'United States o...</td>\n",
              "      <td>1995-10-30</td>\n",
              "      <td>373554033.0</td>\n",
              "      <td>81.0</td>\n",
              "      <td>[{'iso_639_1': 'en', 'name': 'English'}]</td>\n",
              "      <td>Released</td>\n",
              "      <td>NaN</td>\n",
              "      <td>Toy Story</td>\n",
              "      <td>False</td>\n",
              "      <td>7.7</td>\n",
              "      <td>5415.0</td>\n",
              "      <td>[Tom Hanks, Tim Allen, Don Rickles]</td>\n",
              "      <td>[{'credit_id': '52fe4284c3a36847f8024f49', 'de...</td>\n",
              "      <td>[jealousi, toy, boy, friendship, friend, rival...</td>\n",
              "      <td>13</td>\n",
              "      <td>106</td>\n",
              "      <td>[johnlasseter, johnlasseter, johnlasseter]</td>\n",
              "      <td>jealousi toy boy friendship friend rivalri boy...</td>\n",
              "      <td>0</td>\n",
              "    </tr>\n",
              "    <tr>\n",
              "      <th>1</th>\n",
              "      <td>1</td>\n",
              "      <td>False</td>\n",
              "      <td>NaN</td>\n",
              "      <td>65000000</td>\n",
              "      <td>[Adventure, Fantasy, Family]</td>\n",
              "      <td>NaN</td>\n",
              "      <td>8844</td>\n",
              "      <td>tt0113497</td>\n",
              "      <td>en</td>\n",
              "      <td>Jumanji</td>\n",
              "      <td>When siblings Judy and Peter discover an encha...</td>\n",
              "      <td>17.0155</td>\n",
              "      <td>/vzmL6fP7aPKNKPRTFnZmiUfciyV.jpg</td>\n",
              "      <td>[{'name': 'TriStar Pictures', 'id': 559}, {'na...</td>\n",
              "      <td>[{'iso_3166_1': 'US', 'name': 'United States o...</td>\n",
              "      <td>1995-12-15</td>\n",
              "      <td>262797249.0</td>\n",
              "      <td>104.0</td>\n",
              "      <td>[{'iso_639_1': 'en', 'name': 'English'}, {'iso...</td>\n",
              "      <td>Released</td>\n",
              "      <td>Roll the dice and unleash the excitement!</td>\n",
              "      <td>Jumanji</td>\n",
              "      <td>False</td>\n",
              "      <td>6.9</td>\n",
              "      <td>2413.0</td>\n",
              "      <td>[Robin Williams, Jonathan Hyde, Kirsten Dunst]</td>\n",
              "      <td>[{'credit_id': '52fe44bfc3a36847f80a7cd1', 'de...</td>\n",
              "      <td>[boardgam, disappear, basedonchildren'sbook, n...</td>\n",
              "      <td>26</td>\n",
              "      <td>16</td>\n",
              "      <td>[joejohnston, joejohnston, joejohnston]</td>\n",
              "      <td>boardgam disappear basedonchildren'sbook newho...</td>\n",
              "      <td>1</td>\n",
              "    </tr>\n",
              "    <tr>\n",
              "      <th>2</th>\n",
              "      <td>2</td>\n",
              "      <td>False</td>\n",
              "      <td>{'id': 119050, 'name': 'Grumpy Old Men Collect...</td>\n",
              "      <td>0</td>\n",
              "      <td>[Romance, Comedy]</td>\n",
              "      <td>NaN</td>\n",
              "      <td>15602</td>\n",
              "      <td>tt0113228</td>\n",
              "      <td>en</td>\n",
              "      <td>Grumpier Old Men</td>\n",
              "      <td>A family wedding reignites the ancient feud be...</td>\n",
              "      <td>11.7129</td>\n",
              "      <td>/6ksm1sjKMFLbO7UY2i6G1ju9SML.jpg</td>\n",
              "      <td>[{'name': 'Warner Bros.', 'id': 6194}, {'name'...</td>\n",
              "      <td>[{'iso_3166_1': 'US', 'name': 'United States o...</td>\n",
              "      <td>1995-12-22</td>\n",
              "      <td>0.0</td>\n",
              "      <td>101.0</td>\n",
              "      <td>[{'iso_639_1': 'en', 'name': 'English'}]</td>\n",
              "      <td>Released</td>\n",
              "      <td>Still Yelling. Still Fighting. Still Ready for...</td>\n",
              "      <td>Grumpier Old Men</td>\n",
              "      <td>False</td>\n",
              "      <td>6.5</td>\n",
              "      <td>92.0</td>\n",
              "      <td>[Walter Matthau, Jack Lemmon, Ann-Margret]</td>\n",
              "      <td>[{'credit_id': '52fe466a9251416c75077a89', 'de...</td>\n",
              "      <td>[fish, bestfriend, duringcreditssting]</td>\n",
              "      <td>7</td>\n",
              "      <td>4</td>\n",
              "      <td>[howarddeutch, howarddeutch, howarddeutch]</td>\n",
              "      <td>fish bestfriend duringcreditssting Walter Matt...</td>\n",
              "      <td>2</td>\n",
              "    </tr>\n",
              "    <tr>\n",
              "      <th>3</th>\n",
              "      <td>3</td>\n",
              "      <td>False</td>\n",
              "      <td>NaN</td>\n",
              "      <td>16000000</td>\n",
              "      <td>[Comedy, Drama, Romance]</td>\n",
              "      <td>NaN</td>\n",
              "      <td>31357</td>\n",
              "      <td>tt0114885</td>\n",
              "      <td>en</td>\n",
              "      <td>Waiting to Exhale</td>\n",
              "      <td>Cheated on, mistreated and stepped on, the wom...</td>\n",
              "      <td>3.85949</td>\n",
              "      <td>/16XOMpEaLWkrcPqSQqhTmeJuqQl.jpg</td>\n",
              "      <td>[{'name': 'Twentieth Century Fox Film Corporat...</td>\n",
              "      <td>[{'iso_3166_1': 'US', 'name': 'United States o...</td>\n",
              "      <td>1995-12-22</td>\n",
              "      <td>81452156.0</td>\n",
              "      <td>127.0</td>\n",
              "      <td>[{'iso_639_1': 'en', 'name': 'English'}]</td>\n",
              "      <td>Released</td>\n",
              "      <td>Friends are the people who let you be yourself...</td>\n",
              "      <td>Waiting to Exhale</td>\n",
              "      <td>False</td>\n",
              "      <td>6.1</td>\n",
              "      <td>34.0</td>\n",
              "      <td>[Whitney Houston, Angela Bassett, Loretta Devine]</td>\n",
              "      <td>[{'credit_id': '52fe44779251416c91011acb', 'de...</td>\n",
              "      <td>[basedonnovel, interracialrelationship, single...</td>\n",
              "      <td>10</td>\n",
              "      <td>10</td>\n",
              "      <td>[forestwhitaker, forestwhitaker, forestwhitaker]</td>\n",
              "      <td>basedonnovel interracialrelationship singlemot...</td>\n",
              "      <td>3</td>\n",
              "    </tr>\n",
              "    <tr>\n",
              "      <th>4</th>\n",
              "      <td>4</td>\n",
              "      <td>False</td>\n",
              "      <td>{'id': 96871, 'name': 'Father of the Bride Col...</td>\n",
              "      <td>0</td>\n",
              "      <td>[Comedy]</td>\n",
              "      <td>NaN</td>\n",
              "      <td>11862</td>\n",
              "      <td>tt0113041</td>\n",
              "      <td>en</td>\n",
              "      <td>Father of the Bride Part II</td>\n",
              "      <td>Just when George Banks has recovered from his ...</td>\n",
              "      <td>8.38752</td>\n",
              "      <td>/e64sOI48hQXyru7naBFyssKFxVd.jpg</td>\n",
              "      <td>[{'name': 'Sandollar Productions', 'id': 5842}...</td>\n",
              "      <td>[{'iso_3166_1': 'US', 'name': 'United States o...</td>\n",
              "      <td>1995-02-10</td>\n",
              "      <td>76578911.0</td>\n",
              "      <td>106.0</td>\n",
              "      <td>[{'iso_639_1': 'en', 'name': 'English'}]</td>\n",
              "      <td>Released</td>\n",
              "      <td>Just When His World Is Back To Normal... He's ...</td>\n",
              "      <td>Father of the Bride Part II</td>\n",
              "      <td>False</td>\n",
              "      <td>5.7</td>\n",
              "      <td>173.0</td>\n",
              "      <td>[Steve Martin, Diane Keaton, Martin Short]</td>\n",
              "      <td>[{'credit_id': '52fe44959251416c75039ed7', 'de...</td>\n",
              "      <td>[babi, midlifecrisi, confid, age, daughter, mo...</td>\n",
              "      <td>12</td>\n",
              "      <td>7</td>\n",
              "      <td>[charlesshyer, charlesshyer, charlesshyer]</td>\n",
              "      <td>babi midlifecrisi confid age daughter motherda...</td>\n",
              "      <td>4</td>\n",
              "    </tr>\n",
              "    <tr>\n",
              "      <th>5</th>\n",
              "      <td>5</td>\n",
              "      <td>False</td>\n",
              "      <td>NaN</td>\n",
              "      <td>60000000</td>\n",
              "      <td>[Action, Crime, Drama, Thriller]</td>\n",
              "      <td>NaN</td>\n",
              "      <td>949</td>\n",
              "      <td>tt0113277</td>\n",
              "      <td>en</td>\n",
              "      <td>Heat</td>\n",
              "      <td>Obsessive master thief, Neil McCauley leads a ...</td>\n",
              "      <td>17.9249</td>\n",
              "      <td>/zMyfPUelumio3tiDKPffaUpsQTD.jpg</td>\n",
              "      <td>[{'name': 'Regency Enterprises', 'id': 508}, {...</td>\n",
              "      <td>[{'iso_3166_1': 'US', 'name': 'United States o...</td>\n",
              "      <td>1995-12-15</td>\n",
              "      <td>187436818.0</td>\n",
              "      <td>170.0</td>\n",
              "      <td>[{'iso_639_1': 'en', 'name': 'English'}, {'iso...</td>\n",
              "      <td>Released</td>\n",
              "      <td>A Los Angeles Crime Saga</td>\n",
              "      <td>Heat</td>\n",
              "      <td>False</td>\n",
              "      <td>7.7</td>\n",
              "      <td>1886.0</td>\n",
              "      <td>[Al Pacino, Robert De Niro, Val Kilmer]</td>\n",
              "      <td>[{'credit_id': '52fe4292c3a36847f802916d', 'de...</td>\n",
              "      <td>[robberi, detect, bank, obsess, chase, shoot, ...</td>\n",
              "      <td>65</td>\n",
              "      <td>71</td>\n",
              "      <td>[michaelmann, michaelmann, michaelmann]</td>\n",
              "      <td>robberi detect bank obsess chase shoot thief h...</td>\n",
              "      <td>5</td>\n",
              "    </tr>\n",
              "  </tbody>\n",
              "</table>\n",
              "</div>"
            ],
            "text/plain": [
              "   index  adult  ...                                           document List Index\n",
              "0      0  False  ...  jealousi toy boy friendship friend rivalri boy...          0\n",
              "1      1  False  ...  boardgam disappear basedonchildren'sbook newho...          1\n",
              "2      2  False  ...  fish bestfriend duringcreditssting Walter Matt...          2\n",
              "3      3  False  ...  basedonnovel interracialrelationship singlemot...          3\n",
              "4      4  False  ...  babi midlifecrisi confid age daughter motherda...          4\n",
              "5      5  False  ...  robberi detect bank obsess chase shoot thief h...          5\n",
              "\n",
              "[6 rows x 33 columns]"
            ]
          },
          "metadata": {
            "tags": []
          },
          "execution_count": 162
        }
      ]
    },
    {
      "cell_type": "code",
      "metadata": {
        "id": "Swhc76XGOz7J",
        "colab_type": "code",
        "colab": {}
      },
      "source": [
        ""
      ],
      "execution_count": 0,
      "outputs": []
    },
    {
      "cell_type": "code",
      "metadata": {
        "id": "7EfOqDbCWzfS",
        "colab_type": "code",
        "colab": {}
      },
      "source": [
        "data_combined=pd.merge(movies_filtered, ratings, left_on='id' , right_on='movieId')"
      ],
      "execution_count": 0,
      "outputs": []
    },
    {
      "cell_type": "code",
      "metadata": {
        "id": "jvbDE_sVz5Ic",
        "colab_type": "code",
        "colab": {}
      },
      "source": [
        "def getCombinedData():\n",
        "  return data_combined"
      ],
      "execution_count": 0,
      "outputs": []
    },
    {
      "cell_type": "code",
      "metadata": {
        "id": "gv0PTd5dYBam",
        "colab_type": "code",
        "colab": {
          "base_uri": "https://localhost:8080/",
          "height": 34
        },
        "outputId": "1d8eb5af-b52a-4487-92df-27f0d3d54947"
      },
      "source": [
        "len(data_combined)"
      ],
      "execution_count": 165,
      "outputs": [
        {
          "output_type": "execute_result",
          "data": {
            "text/plain": [
              "32166"
            ]
          },
          "metadata": {
            "tags": []
          },
          "execution_count": 165
        }
      ]
    },
    {
      "cell_type": "code",
      "metadata": {
        "id": "6X1YR-bKYSSv",
        "colab_type": "code",
        "colab": {
          "base_uri": "https://localhost:8080/",
          "height": 204
        },
        "outputId": "05cf702a-9032-4b99-e6ae-97b041ffe466"
      },
      "source": [
        "data_combined = data_combined[['movieId', 'List Index', 'userId', 'rating']]\n",
        "\n",
        "data_combined['List Index']=data_combined['List Index'].astype(str).astype(int)\n",
        "data_combined.head()"
      ],
      "execution_count": 166,
      "outputs": [
        {
          "output_type": "execute_result",
          "data": {
            "text/html": [
              "<div>\n",
              "<style scoped>\n",
              "    .dataframe tbody tr th:only-of-type {\n",
              "        vertical-align: middle;\n",
              "    }\n",
              "\n",
              "    .dataframe tbody tr th {\n",
              "        vertical-align: top;\n",
              "    }\n",
              "\n",
              "    .dataframe thead th {\n",
              "        text-align: right;\n",
              "    }\n",
              "</style>\n",
              "<table border=\"1\" class=\"dataframe\">\n",
              "  <thead>\n",
              "    <tr style=\"text-align: right;\">\n",
              "      <th></th>\n",
              "      <th>movieId</th>\n",
              "      <th>List Index</th>\n",
              "      <th>userId</th>\n",
              "      <th>rating</th>\n",
              "    </tr>\n",
              "  </thead>\n",
              "  <tbody>\n",
              "    <tr>\n",
              "      <th>0</th>\n",
              "      <td>949</td>\n",
              "      <td>5</td>\n",
              "      <td>23</td>\n",
              "      <td>3.5</td>\n",
              "    </tr>\n",
              "    <tr>\n",
              "      <th>1</th>\n",
              "      <td>949</td>\n",
              "      <td>5</td>\n",
              "      <td>102</td>\n",
              "      <td>4.0</td>\n",
              "    </tr>\n",
              "    <tr>\n",
              "      <th>2</th>\n",
              "      <td>949</td>\n",
              "      <td>5</td>\n",
              "      <td>232</td>\n",
              "      <td>2.0</td>\n",
              "    </tr>\n",
              "    <tr>\n",
              "      <th>3</th>\n",
              "      <td>949</td>\n",
              "      <td>5</td>\n",
              "      <td>242</td>\n",
              "      <td>5.0</td>\n",
              "    </tr>\n",
              "    <tr>\n",
              "      <th>4</th>\n",
              "      <td>949</td>\n",
              "      <td>5</td>\n",
              "      <td>263</td>\n",
              "      <td>3.0</td>\n",
              "    </tr>\n",
              "  </tbody>\n",
              "</table>\n",
              "</div>"
            ],
            "text/plain": [
              "   movieId  List Index  userId  rating\n",
              "0      949           5      23     3.5\n",
              "1      949           5     102     4.0\n",
              "2      949           5     232     2.0\n",
              "3      949           5     242     5.0\n",
              "4      949           5     263     3.0"
            ]
          },
          "metadata": {
            "tags": []
          },
          "execution_count": 166
        }
      ]
    },
    {
      "cell_type": "markdown",
      "metadata": {
        "id": "4XLapn77q6uU",
        "colab_type": "text"
      },
      "source": [
        "Group By UserId"
      ]
    },
    {
      "cell_type": "code",
      "metadata": {
        "id": "s59xmV1kqdUL",
        "colab_type": "code",
        "colab": {}
      },
      "source": [
        "user_group = data_combined.groupby('userId')"
      ],
      "execution_count": 0,
      "outputs": []
    },
    {
      "cell_type": "code",
      "metadata": {
        "id": "2OO5HegXiQHS",
        "colab_type": "code",
        "colab": {
          "base_uri": "https://localhost:8080/",
          "height": 419
        },
        "outputId": "ffd56a1d-cd4f-4250-dcdb-1a8918436b09"
      },
      "source": [
        "user_group.head(10)"
      ],
      "execution_count": 168,
      "outputs": [
        {
          "output_type": "execute_result",
          "data": {
            "text/html": [
              "<div>\n",
              "<style scoped>\n",
              "    .dataframe tbody tr th:only-of-type {\n",
              "        vertical-align: middle;\n",
              "    }\n",
              "\n",
              "    .dataframe tbody tr th {\n",
              "        vertical-align: top;\n",
              "    }\n",
              "\n",
              "    .dataframe thead th {\n",
              "        text-align: right;\n",
              "    }\n",
              "</style>\n",
              "<table border=\"1\" class=\"dataframe\">\n",
              "  <thead>\n",
              "    <tr style=\"text-align: right;\">\n",
              "      <th></th>\n",
              "      <th>movieId</th>\n",
              "      <th>List Index</th>\n",
              "      <th>userId</th>\n",
              "      <th>rating</th>\n",
              "    </tr>\n",
              "  </thead>\n",
              "  <tbody>\n",
              "    <tr>\n",
              "      <th>0</th>\n",
              "      <td>949</td>\n",
              "      <td>5</td>\n",
              "      <td>23</td>\n",
              "      <td>3.5</td>\n",
              "    </tr>\n",
              "    <tr>\n",
              "      <th>1</th>\n",
              "      <td>949</td>\n",
              "      <td>5</td>\n",
              "      <td>102</td>\n",
              "      <td>4.0</td>\n",
              "    </tr>\n",
              "    <tr>\n",
              "      <th>2</th>\n",
              "      <td>949</td>\n",
              "      <td>5</td>\n",
              "      <td>232</td>\n",
              "      <td>2.0</td>\n",
              "    </tr>\n",
              "    <tr>\n",
              "      <th>3</th>\n",
              "      <td>949</td>\n",
              "      <td>5</td>\n",
              "      <td>242</td>\n",
              "      <td>5.0</td>\n",
              "    </tr>\n",
              "    <tr>\n",
              "      <th>4</th>\n",
              "      <td>949</td>\n",
              "      <td>5</td>\n",
              "      <td>263</td>\n",
              "      <td>3.0</td>\n",
              "    </tr>\n",
              "    <tr>\n",
              "      <th>...</th>\n",
              "      <td>...</td>\n",
              "      <td>...</td>\n",
              "      <td>...</td>\n",
              "      <td>...</td>\n",
              "    </tr>\n",
              "    <tr>\n",
              "      <th>32128</th>\n",
              "      <td>4226</td>\n",
              "      <td>8857</td>\n",
              "      <td>526</td>\n",
              "      <td>4.0</td>\n",
              "    </tr>\n",
              "    <tr>\n",
              "      <th>32130</th>\n",
              "      <td>4226</td>\n",
              "      <td>8857</td>\n",
              "      <td>540</td>\n",
              "      <td>4.0</td>\n",
              "    </tr>\n",
              "    <tr>\n",
              "      <th>32138</th>\n",
              "      <td>4226</td>\n",
              "      <td>8857</td>\n",
              "      <td>579</td>\n",
              "      <td>3.5</td>\n",
              "    </tr>\n",
              "    <tr>\n",
              "      <th>32143</th>\n",
              "      <td>4226</td>\n",
              "      <td>8857</td>\n",
              "      <td>601</td>\n",
              "      <td>4.5</td>\n",
              "    </tr>\n",
              "    <tr>\n",
              "      <th>32147</th>\n",
              "      <td>4226</td>\n",
              "      <td>8857</td>\n",
              "      <td>622</td>\n",
              "      <td>5.0</td>\n",
              "    </tr>\n",
              "  </tbody>\n",
              "</table>\n",
              "<p>6364 rows × 4 columns</p>\n",
              "</div>"
            ],
            "text/plain": [
              "       movieId  List Index  userId  rating\n",
              "0          949           5      23     3.5\n",
              "1          949           5     102     4.0\n",
              "2          949           5     232     2.0\n",
              "3          949           5     242     5.0\n",
              "4          949           5     263     3.0\n",
              "...        ...         ...     ...     ...\n",
              "32128     4226        8857     526     4.0\n",
              "32130     4226        8857     540     4.0\n",
              "32138     4226        8857     579     3.5\n",
              "32143     4226        8857     601     4.5\n",
              "32147     4226        8857     622     5.0\n",
              "\n",
              "[6364 rows x 4 columns]"
            ]
          },
          "metadata": {
            "tags": []
          },
          "execution_count": 168
        }
      ]
    },
    {
      "cell_type": "code",
      "metadata": {
        "id": "-c9pp063xf28",
        "colab_type": "code",
        "colab": {
          "base_uri": "https://localhost:8080/",
          "height": 34
        },
        "outputId": "3c6e9735-90b1-4650-ec06-539caf65cad4"
      },
      "source": [
        "n_users = user_group.first().shape[0]\n",
        "n_users"
      ],
      "execution_count": 169,
      "outputs": [
        {
          "output_type": "execute_result",
          "data": {
            "text/plain": [
              "671"
            ]
          },
          "metadata": {
            "tags": []
          },
          "execution_count": 169
        }
      ]
    },
    {
      "cell_type": "code",
      "metadata": {
        "id": "sg_QbwTaqXhZ",
        "colab_type": "code",
        "colab": {}
      },
      "source": [
        "totalUsers=n_users\n",
        "user_movie = [None]* n_users\n",
        "\n",
        "for userId, curUser in user_group:\n",
        "  temp = [0]* len(movies_filtered)\n",
        "\n",
        "  for num, movie in curUser.iterrows():\n",
        "    #print(movie)\n",
        "    temp[int(movie['List Index'])] = movie['rating']/5.0\n",
        " # print(userId)\n",
        "  user_movie[userId-1]=temp\n",
        "\n",
        "  if totalUsers == 0:\n",
        "    break\n",
        "  totalUsers-=1"
      ],
      "execution_count": 0,
      "outputs": []
    },
    {
      "cell_type": "code",
      "metadata": {
        "id": "H8S9j9sDemtd",
        "colab_type": "code",
        "colab": {
          "base_uri": "https://localhost:8080/",
          "height": 34
        },
        "outputId": "af056eea-cb0a-4079-edcf-b482af77d96d"
      },
      "source": [
        "len(user_movie)"
      ],
      "execution_count": 171,
      "outputs": [
        {
          "output_type": "execute_result",
          "data": {
            "text/plain": [
              "671"
            ]
          },
          "metadata": {
            "tags": []
          },
          "execution_count": 171
        }
      ]
    },
    {
      "cell_type": "code",
      "metadata": {
        "id": "tcgjdUHwcvlY",
        "colab_type": "code",
        "colab": {}
      },
      "source": [
        "hidden_units=256\n",
        "visible_units = len(movies_filtered)\n",
        "visible = tf.placeholder(\"float\", [visible_units])\n",
        "hidden = tf.placeholder(\"float\", [hidden_units])\n",
        "w= tf.placeholder(\"float\", [visible_units, hidden_units])"
      ],
      "execution_count": 0,
      "outputs": []
    },
    {
      "cell_type": "markdown",
      "metadata": {
        "id": "pABhKr7ciXPM",
        "colab_type": "text"
      },
      "source": [
        "Forward pass"
      ]
    },
    {
      "cell_type": "code",
      "metadata": {
        "id": "0qdWPCIXl-D_",
        "colab_type": "code",
        "colab": {}
      },
      "source": [
        "v0 = tf.placeholder(\"float\", [None, visible_units])\n",
        "_h0 = tf.nn.sigmoid(tf.matmul(v0, w)+hidden)\n",
        "h0 = tf.nn.relu(tf.sign(_h0 - tf.random_uniform(tf.shape(_h0))))"
      ],
      "execution_count": 0,
      "outputs": []
    },
    {
      "cell_type": "markdown",
      "metadata": {
        "id": "FZG4FDS6jKj9",
        "colab_type": "text"
      },
      "source": [
        "Backward pass"
      ]
    },
    {
      "cell_type": "code",
      "metadata": {
        "id": "Am_T7zWHjJhR",
        "colab_type": "code",
        "colab": {}
      },
      "source": [
        "_v1 = tf.nn.sigmoid(tf.matmul(h0, tf.transpose(w))+visible)  \n",
        "v1 = tf.nn.relu(tf.sign(_v1 - tf.random_uniform(tf.shape(_v1))))\n",
        "h1 = tf.nn.sigmoid(tf.matmul(v1, w)+ hidden)"
      ],
      "execution_count": 0,
      "outputs": []
    },
    {
      "cell_type": "code",
      "metadata": {
        "id": "_KiGao2woLJo",
        "colab_type": "code",
        "colab": {}
      },
      "source": [
        "alpha = 0.5\n",
        "positive_phase = tf.matmul(tf.transpose(v0), h0)\n",
        "negative_phase = tf.matmul(tf.transpose(v1), h1)\n",
        "contrastive_divergernce = positive_phase - negative_phase\n",
        "contrastive_divergernce = contrastive_divergernce/tf.to_float(tf.shape(v0)[0])\n",
        "update_w = w+ alpha * contrastive_divergernce\n",
        "update_vb = visible + alpha * tf.reduce_mean(v0-v1, 0)\n",
        "update_hb = hidden + alpha * tf.reduce_mean(h0-h1, 0)"
      ],
      "execution_count": 0,
      "outputs": []
    },
    {
      "cell_type": "code",
      "metadata": {
        "id": "RH8C5GKtoU_C",
        "colab_type": "code",
        "colab": {}
      },
      "source": [
        "err = v0-v1\n",
        "err_sum = tf.reduce_mean(err * err)"
      ],
      "execution_count": 0,
      "outputs": []
    },
    {
      "cell_type": "code",
      "metadata": {
        "id": "4teF2A-cotTm",
        "colab_type": "code",
        "colab": {}
      },
      "source": [
        "cur_w = np.zeros([visible_units, hidden_units], np.float32)\n",
        "cur_vb = np.zeros([visible_units], np.float32)\n",
        "cur_hb = np.zeros([hidden_units], np.float32)\n",
        "\n",
        "prev_w = np.zeros([visible_units, hidden_units], np.float32)\n",
        "prev_vb = np.zeros([visible_units], np.float32)\n",
        "prev_hb = np.zeros([hidden_units], np.float32)\n",
        "\n",
        "sess = tf.Session()\n",
        "sess.run(tf.global_variables_initializer())"
      ],
      "execution_count": 0,
      "outputs": []
    },
    {
      "cell_type": "code",
      "metadata": {
        "id": "fTsFIl_Ep75h",
        "colab_type": "code",
        "colab": {
          "base_uri": "https://localhost:8080/",
          "height": 357
        },
        "outputId": "1a640538-4a69-43e1-a280-b915a313fdbe"
      },
      "source": [
        "epochs=20\n",
        "batchsize=20\n",
        "errors=[]\n",
        "for i in range(epochs):\n",
        "  for start, end in zip(range(0, len(user_movie), batchsize), range(batchsize, len(user_movie), batchsize) ):\n",
        "    batch = user_movie[start:end]\n",
        "    cur_w = sess.run(update_w, feed_dict={v0 : batch, w : prev_w, visible: prev_vb , hidden : prev_hb})\n",
        "    cur_vb = sess.run(update_vb, feed_dict={v0 : batch, w : prev_w, visible: prev_vb , hidden : prev_hb})\n",
        "    cur_hb = sess.run(update_hb, feed_dict={v0 : batch, w : prev_w, visible: prev_vb , hidden : prev_hb})\n",
        "    prev_w = cur_w\n",
        "    prev_vb = prev_vb\n",
        "    prev_hb = prev_hb\n",
        "  errors.append(sess.run(err_sum, feed_dict={v0 : user_movie, w : cur_w, visible: cur_vb , hidden : cur_hb}))\n",
        "  print(errors[-1])\n"
      ],
      "execution_count": 178,
      "outputs": [
        {
          "output_type": "stream",
          "text": [
            "0.038909376\n",
            "0.02686877\n",
            "0.022865502\n",
            "0.021662874\n",
            "0.018467793\n",
            "0.016988637\n",
            "0.015892409\n",
            "0.0147732925\n",
            "0.013166005\n",
            "0.013817514\n",
            "0.01254437\n",
            "0.012153192\n",
            "0.011932176\n",
            "0.011595477\n",
            "0.011118009\n",
            "0.010734365\n",
            "0.010483926\n",
            "0.01009359\n",
            "0.0099539505\n",
            "0.009752559\n"
          ],
          "name": "stdout"
        }
      ]
    },
    {
      "cell_type": "code",
      "metadata": {
        "id": "W7XIe_8m9-E7",
        "colab_type": "code",
        "colab": {
          "base_uri": "https://localhost:8080/",
          "height": 281
        },
        "outputId": "72c21d05-41c7-44dd-d949-7e708d012bdc"
      },
      "source": [
        "plt.plot(errors, label=\"train RMSE\")\n",
        "plt.ylabel('Errors')\n",
        "plt.legend()\n",
        "plt.xlabel('Epoch')\n",
        "plt.show()"
      ],
      "execution_count": 182,
      "outputs": [
        {
          "output_type": "display_data",
          "data": {
            "image/png": "[encoded data removed]",
            "text/plain": [
              "<Figure size 432x288 with 1 Axes>"
            ]
          },
          "metadata": {
            "tags": [],
            "needs_background": "light"
          }
        }
      ]
    },
    {
      "cell_type": "code",
      "metadata": {
        "id": "MbjnBcg9sdd3",
        "colab_type": "code",
        "colab": {}
      },
      "source": [
        "testUserId =21\n",
        "testUser = [user_movie[testUserId-1]]"
      ],
      "execution_count": 0,
      "outputs": []
    },
    {
      "cell_type": "code",
      "metadata": {
        "id": "RrMFM_2Gs20B",
        "colab_type": "code",
        "colab": {}
      },
      "source": [
        "hh0 = tf.nn.sigmoid(tf.matmul(v0, w)+hidden)\n",
        "vv1 = tf.nn.sigmoid(tf.matmul(hh0, tf.transpose(w))+visible)\n",
        "feed = sess.run(hh0, feed_dict={v0 : testUser, w: prev_w, hidden : prev_hb})\n",
        "rec = sess.run(vv1, feed_dict={hh0 : feed, w: prev_w, visible : prev_vb})"
      ],
      "execution_count": 0,
      "outputs": []
    },
    {
      "cell_type": "code",
      "metadata": {
        "id": "c9_vxhDfAOy4",
        "colab_type": "code",
        "colab": {}
      },
      "source": [
        "scored_movies=movies_filtered\n",
        "scored_movies['Recommended Scores']=rec[0]"
      ],
      "execution_count": 0,
      "outputs": []
    },
    {
      "cell_type": "code",
      "metadata": {
        "id": "MMCMY5lsCMR4",
        "colab_type": "code",
        "colab": {}
      },
      "source": [
        "scored_movies.sort_values(['Recommended Scores'], ascending=False).head(10)"
      ],
      "execution_count": 0,
      "outputs": []
    },
    {
      "cell_type": "code",
      "metadata": {
        "id": "Imm4rXXmLC8n",
        "colab_type": "code",
        "colab": {}
      },
      "source": [
        "def predict(userId):\n",
        "  testUser = [user_movie[userId-1]]\n",
        "  hh0 = tf.nn.sigmoid(tf.matmul(v0, w)+hidden)\n",
        "  vv1 = tf.nn.sigmoid(tf.matmul(hh0, tf.transpose(w))+visible)\n",
        "  feed = sess.run(hh0, feed_dict={v0 : testUser, w: prev_w, hidden : prev_hb})\n",
        "  rec = sess.run(vv1, feed_dict={hh0 : feed, w: prev_w, visible : prev_vb})\n",
        "  scored_movies['Recommended Scores']=rec[0]\n",
        "  #recommendations = scored_movies.sort_values(['Recommended Scores'], ascending=False).head(10)\n",
        "  #return recommendations\n",
        "  return scored_movies"
      ],
      "execution_count": 0,
      "outputs": []
    },
    {
      "cell_type": "code",
      "metadata": {
        "id": "o4X3qNpwr-RN",
        "colab_type": "code",
        "colab": {}
      },
      "source": [
        "def convert_int(x):\n",
        "    try:\n",
        "        return int(x)\n",
        "    except:\n",
        "        return np.nan"
      ],
      "execution_count": 0,
      "outputs": []
    },
    {
      "cell_type": "code",
      "metadata": {
        "id": "ZuazNe3OSOuB",
        "colab_type": "code",
        "colab": {}
      },
      "source": [
        "id_map = pd.read_csv('/content/drive/My Drive/SWM/the-movies-dataset/links_small.csv')[['movieId', 'tmdbId']]\n",
        "id_map['tmdbId'] = id_map['tmdbId'].apply(convert_int)\n",
        "id_map.columns = ['movieId', 'id']\n",
        "id_map = id_map.merge(movies_filtered[['title', 'id']], on='id').set_index('title')\n"
      ],
      "execution_count": 0,
      "outputs": []
    },
    {
      "cell_type": "code",
      "metadata": {
        "id": "jc9wv1GTShKQ",
        "colab_type": "code",
        "colab": {}
      },
      "source": [
        "indices_map = id_map.set_index('id')"
      ],
      "execution_count": 0,
      "outputs": []
    },
    {
      "cell_type": "code",
      "metadata": {
        "id": "eMtmyki0TvSh",
        "colab_type": "code",
        "colab": {}
      },
      "source": [
        "def hybrid(userId, title):\n",
        "    idx = indices[title]\n",
        "    tmdbId = id_map.loc[title]['id']\n",
        "    #print(idx)\n",
        "    movie_id = id_map.loc[title]['movieId']\n",
        "    \n",
        "    sim_scores = list(enumerate(similarity[int(idx)]))\n",
        "    sim_scores = sorted(sim_scores, key=lambda x: x[1], reverse=True)\n",
        "    sim_scores = sim_scores[1:26]\n",
        "    movie_indices = [i[0] for i in sim_scores]\n",
        "    \n",
        "    movies = movies_filtered.iloc[movie_indices][['title', 'id']]\n",
        "\n",
        "    print(len(movies))\n",
        "    print(movies.head(10))\n",
        "    recommendations=predict(userId)\n",
        "    \n",
        "    #print(recommendations['id'].isin(movies['id']))\n",
        "    recommendations1 = recommendations[recommendations['id'].isin(movies['id'])]\n",
        "    print(len(recommendations1))\n",
        "    #movies['Recommended scores'] = movies['id'].apply(lambda id:  recommendations svd.predict(userId, indices_map.loc[x]['movieId']).est)\n",
        "    recommendations1 = recommendations1.sort_values('Recommended Scores', ascending=False)\n",
        "    \n",
        "    return recommendations1[['title', 'id', 'genres', 'Recommended Scores']].head(10)"
      ],
      "execution_count": 0,
      "outputs": []
    },
    {
      "cell_type": "code",
      "metadata": {
        "id": "3FrW9pmjOBpm",
        "colab_type": "code",
        "colab": {}
      },
      "source": [
        " hybrid(7,\"Avatar\")"
      ],
      "execution_count": 0,
      "outputs": []
    },
    {
      "cell_type": "code",
      "metadata": {
        "id": "I02BaNk-p6g-",
        "colab_type": "code",
        "colab": {}
      },
      "source": [
        "rec1"
      ],
      "execution_count": 0,
      "outputs": []
    },
    {
      "cell_type": "code",
      "metadata": {
        "id": "9Sb5m-Hcp7tY",
        "colab_type": "code",
        "colab": {}
      },
      "source": [
        "rec2"
      ],
      "execution_count": 0,
      "outputs": []
    }
  ]
}