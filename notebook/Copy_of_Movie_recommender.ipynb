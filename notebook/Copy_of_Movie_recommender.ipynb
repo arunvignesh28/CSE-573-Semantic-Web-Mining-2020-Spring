{
  "nbformat": 4,
  "nbformat_minor": 0,
  "metadata": {
    "colab": {
      "name": "Copy of Movie recommender.ipynb",
      "provenance": [],
      "collapsed_sections": [],
      "machine_shape": "hm"
    },
    "kernelspec": {
      "name": "python3",
      "display_name": "Python 3"
    },
    "accelerator": "TPU"
  },
  "cells": [
    {
      "cell_type": "code",
      "metadata": {
        "id": "K8WYXgBBYp3o",
        "colab_type": "code",
        "colab": {}
      },
      "source": [
        "!apt-get install openjdk-8-jdk-headless -qq > /dev/null\n",
        "!wget -q https://downloads.apache.org/spark/spark-2.4.5/spark-2.4.5-bin-hadoop2.7.tgz\n",
        "!tar xf spark-2.4.5-bin-hadoop2.7.tgz\n",
        "!pip install -q findspark"
      ],
      "execution_count": 0,
      "outputs": []
    },
    {
      "cell_type": "code",
      "metadata": {
        "id": "E4LqajvuZXMJ",
        "colab_type": "code",
        "colab": {}
      },
      "source": [
        "import os\n",
        "os.environ[\"JAVA_HOME\"] = \"/usr/lib/jvm/java-8-openjdk-amd64\"\n",
        "os.environ[\"SPARK_HOME\"] = \"/content/spark-2.4.5-bin-hadoop2.7\""
      ],
      "execution_count": 0,
      "outputs": []
    },
    {
      "cell_type": "code",
      "metadata": {
        "id": "09vDetJsbD_B",
        "colab_type": "code",
        "outputId": "d0a5891e-cb66-4a3c-b321-8a9f6fadcc37",
        "colab": {
          "base_uri": "https://localhost:8080/",
          "height": 266
        }
      },
      "source": [
        "pip install pyspark"
      ],
      "execution_count": 0,
      "outputs": [
        {
          "output_type": "stream",
          "text": [
            "Collecting pyspark\n",
            "\u001b[?25l  Downloading https://files.pythonhosted.org/packages/9a/5a/271c416c1c2185b6cb0151b29a91fff6fcaed80173c8584ff6d20e46b465/pyspark-2.4.5.tar.gz (217.8MB)\n",
            "\u001b[K     |████████████████████████████████| 217.8MB 22kB/s \n",
            "\u001b[?25hCollecting py4j==0.10.7\n",
            "\u001b[?25l  Downloading https://files.pythonhosted.org/packages/e3/53/c737818eb9a7dc32a7cd4f1396e787bd94200c3997c72c1dbe028587bd76/py4j-0.10.7-py2.py3-none-any.whl (197kB)\n",
            "\u001b[K     |████████████████████████████████| 204kB 55.4MB/s \n",
            "\u001b[?25hBuilding wheels for collected packages: pyspark\n",
            "  Building wheel for pyspark (setup.py) ... \u001b[?25l\u001b[?25hdone\n",
            "  Created wheel for pyspark: filename=pyspark-2.4.5-py2.py3-none-any.whl size=218257927 sha256=40521dfd0f7e066546d9c0c83e9a1d92c7c2704665633a74cee31865da6ead2e\n",
            "  Stored in directory: /root/.cache/pip/wheels/bf/db/04/61d66a5939364e756eb1c1be4ec5bdce6e04047fc7929a3c3c\n",
            "Successfully built pyspark\n",
            "Installing collected packages: py4j, pyspark\n",
            "Successfully installed py4j-0.10.7 pyspark-2.4.5\n"
          ],
          "name": "stdout"
        }
      ]
    },
    {
      "cell_type": "code",
      "metadata": {
        "id": "o24snMKbbNJy",
        "colab_type": "code",
        "outputId": "ed57e417-a3a7-482d-a1ca-88a44d460483",
        "colab": {
          "base_uri": "https://localhost:8080/",
          "height": 72
        }
      },
      "source": [
        "import time\n",
        "import os\n",
        "import math\n",
        "import numpy as np\n",
        "import pandas as pd\n",
        "from pyspark.sql import SparkSession\n",
        "from pyspark.sql.functions import UserDefinedFunction, explode, desc\n",
        "from pyspark.sql.types import StringType, ArrayType\n",
        "from pyspark.mllib.recommendation import ALS\n",
        "\n",
        "import seaborn as sns\n",
        "import matplotlib.pyplot as plt\n",
        "%matplotlib inline"
      ],
      "execution_count": 0,
      "outputs": [
        {
          "output_type": "stream",
          "text": [
            "/usr/local/lib/python3.6/dist-packages/statsmodels/tools/_testing.py:19: FutureWarning: pandas.util.testing is deprecated. Use the functions in the public API at pandas.testing instead.\n",
            "  import pandas.util.testing as tm\n"
          ],
          "name": "stderr"
        }
      ]
    },
    {
      "cell_type": "code",
      "metadata": {
        "id": "EcSLtYsrbk53",
        "colab_type": "code",
        "colab": {}
      },
      "source": [
        "spark = SparkSession \\\n",
        "    .builder \\\n",
        "    .appName(\"movie recommendation\") \\\n",
        "    .config(\"spark.driver.maxResultSize\", \"96g\") \\\n",
        "    .config(\"spark.driver.memory\", \"96g\") \\\n",
        "    .config(\"spark.executor.memory\", \"8g\") \\\n",
        "    .config(\"spark.master\", \"local[12]\") \\\n",
        "    .getOrCreate()\n",
        "\n",
        "sc = spark.sparkContext"
      ],
      "execution_count": 0,
      "outputs": []
    },
    {
      "cell_type": "code",
      "metadata": {
        "id": "Co7y-Q4pbn_T",
        "colab_type": "code",
        "colab": {}
      },
      "source": [
        "data_path = '/content/drive/My Drive/ml-latest-small/'\n",
        "movies = spark.read.load(os.path.join(data_path, 'movies.csv'), format='csv', header=True, inferSchema=True)\n",
        "ratings = spark.read.load(os.path.join(data_path, 'ratings.csv'), format='csv', header=True, inferSchema=True)\n",
        "links = spark.read.load(os.path.join(data_path, 'links.csv'), format='csv', header=True, inferSchema=True)\n",
        "tags = spark.read.load(os.path.join(data_path, 'tags.csv'), format='csv', header=True, inferSchema=True)"
      ],
      "execution_count": 0,
      "outputs": []
    },
    {
      "cell_type": "code",
      "metadata": {
        "id": "f1X7CE5DccZY",
        "colab_type": "code",
        "colab": {}
      },
      "source": [
        "movie_rating = sc.textFile(os.path.join(data_path, 'ratings.csv'))\n",
        "header = movie_rating.take(1)[0]\n",
        "rating_data = movie_rating \\\n",
        "    .filter(lambda line: line!=header) \\\n",
        "    .map(lambda line: line.split(\",\")) \\\n",
        "    .map(lambda tokens: (int(tokens[0]), int(tokens[1]), float(tokens[2]))) \\\n",
        "    .cache()\n"
      ],
      "execution_count": 0,
      "outputs": []
    },
    {
      "cell_type": "code",
      "metadata": {
        "id": "uk3vmQADcv12",
        "colab_type": "code",
        "outputId": "42841f53-6256-4299-eec2-9b1ecf3b76fd",
        "colab": {
          "base_uri": "https://localhost:8080/",
          "height": 34
        }
      },
      "source": [
        "train, validation, test = rating_data.randomSplit([6, 2, 2], seed=99)\n",
        "train.cache()\n",
        "validation.cache()\n",
        "test.cache()"
      ],
      "execution_count": 0,
      "outputs": [
        {
          "output_type": "execute_result",
          "data": {
            "text/plain": [
              "PythonRDD[46] at RDD at PythonRDD.scala:53"
            ]
          },
          "metadata": {
            "tags": []
          },
          "execution_count": 9
        }
      ]
    },
    {
      "cell_type": "code",
      "metadata": {
        "id": "qE7DtAY0czaH",
        "colab_type": "code",
        "colab": {}
      },
      "source": [
        "\n",
        "def train_ALS(train_data, validation_data, num_iters, reg_param, ranks):\n",
        "    min_error = float('inf')\n",
        "    best_rank = -1\n",
        "    best_regularization = 0\n",
        "    best_model = None\n",
        "    for rank in ranks:\n",
        "        for reg in reg_param:\n",
        "            # train ALS model\n",
        "            model = ALS.train(\n",
        "                ratings=train_data,    \n",
        "                iterations=num_iters,\n",
        "                rank=rank,\n",
        "                lambda_=reg,           \n",
        "                seed=99)\n",
        "          \n",
        "            valid_data = validation_data.map(lambda p: (p[0], p[1]))\n",
        "            predictions = model.predictAll(valid_data).map(lambda r: ((r[0], r[1]), r[2]))\n",
        "          \n",
        "            ratesAndPreds = validation_data.map(lambda r: ((r[0], r[1]), r[2])).join(predictions)\n",
        "          \n",
        "            MSE = ratesAndPreds.map(lambda r: (r[1][0] - r[1][1])**2).mean()\n",
        "            error = math.sqrt(MSE)\n",
        "            print('{} latent factors and regularization = {}: validation RMSE is {}'.format(rank, reg, error))\n",
        "            if error < min_error:\n",
        "                min_error = error\n",
        "                best_rank = rank\n",
        "                best_regularization = reg\n",
        "                best_model = model\n",
        "    print('\\nThe best model has {} latent factors and regularization = {}'.format(best_rank, best_regularization))\n",
        "    return best_model"
      ],
      "execution_count": 0,
      "outputs": []
    },
    {
      "cell_type": "code",
      "metadata": {
        "id": "l4a1eW4sc2KN",
        "colab_type": "code",
        "outputId": "905d8b7d-6cbd-4da5-d0ae-f6bae24aed7d",
        "colab": {
          "base_uri": "https://localhost:8080/",
          "height": 492
        }
      },
      "source": [
        "num_iterations = 10\n",
        "ranks = [10, 12, 14, 16, 18, 20]\n",
        "reg_params = [0.01, 0.05, 0.1, 0.2]\n",
        "\n",
        "# grid search and select best model\n",
        "start_time = time.time()\n",
        "final_model = train_ALS(train, validation, num_iterations, reg_params, ranks)\n",
        "\n",
        "print ('Total Runtime: {:.2f} seconds'.format(time.time() - start_time))"
      ],
      "execution_count": 0,
      "outputs": [
        {
          "output_type": "stream",
          "text": [
            "10 latent factors and regularization = 0.01: validation RMSE is 1.1997655036811583\n",
            "10 latent factors and regularization = 0.05: validation RMSE is 0.9946714474591942\n",
            "10 latent factors and regularization = 0.1: validation RMSE is 0.9139057402588864\n",
            "10 latent factors and regularization = 0.2: validation RMSE is 0.8922184864535349\n",
            "12 latent factors and regularization = 0.01: validation RMSE is 1.2199803124948976\n",
            "12 latent factors and regularization = 0.05: validation RMSE is 0.9934409924050976\n",
            "12 latent factors and regularization = 0.1: validation RMSE is 0.9105980441631525\n",
            "12 latent factors and regularization = 0.2: validation RMSE is 0.8915968568036029\n",
            "14 latent factors and regularization = 0.01: validation RMSE is 1.253684022139703\n",
            "14 latent factors and regularization = 0.05: validation RMSE is 1.0000377913982483\n",
            "14 latent factors and regularization = 0.1: validation RMSE is 0.9096210171148031\n",
            "14 latent factors and regularization = 0.2: validation RMSE is 0.8912747068649134\n",
            "16 latent factors and regularization = 0.01: validation RMSE is 1.2787622007261255\n",
            "16 latent factors and regularization = 0.05: validation RMSE is 1.0014768230520132\n",
            "16 latent factors and regularization = 0.1: validation RMSE is 0.9106787977684108\n",
            "16 latent factors and regularization = 0.2: validation RMSE is 0.8928274740244271\n",
            "18 latent factors and regularization = 0.01: validation RMSE is 1.3105165443463238\n",
            "18 latent factors and regularization = 0.05: validation RMSE is 1.0069996938487458\n",
            "18 latent factors and regularization = 0.1: validation RMSE is 0.9138942444009528\n",
            "18 latent factors and regularization = 0.2: validation RMSE is 0.8943349876266506\n",
            "20 latent factors and regularization = 0.01: validation RMSE is 1.3227335142667582\n",
            "20 latent factors and regularization = 0.05: validation RMSE is 1.0050864447318606\n",
            "20 latent factors and regularization = 0.1: validation RMSE is 0.9099394702016125\n",
            "20 latent factors and regularization = 0.2: validation RMSE is 0.8934640980968968\n",
            "\n",
            "The best model has 14 latent factors and regularization = 0.2\n",
            "Total Runtime: 52.55 seconds\n"
          ],
          "name": "stdout"
        }
      ]
    },
    {
      "cell_type": "code",
      "metadata": {
        "id": "U9FKCl0cc6nn",
        "colab_type": "code",
        "colab": {}
      },
      "source": [
        "def plot_learning_curve(arr_iters, train_data, validation_data, reg, rank):\n",
        "    errors = []\n",
        "    for num_iters in arr_iters:\n",
        "        # train ALS model\n",
        "        model = ALS.train(\n",
        "            ratings=train_data,   \n",
        "            iterations=num_iters,\n",
        "            rank=rank,\n",
        "            lambda_=reg,          \n",
        "            seed=99)\n",
        "        \n",
        "        valid_data = validation_data.map(lambda p: (p[0], p[1]))\n",
        "        predictions = model.predictAll(valid_data).map(lambda r: ((r[0], r[1]), r[2]))\n",
        "        \n",
        "        ratesAndPreds = validation_data.map(lambda r: ((r[0], r[1]), r[2])).join(predictions)\n",
        "        \n",
        "        MSE = ratesAndPreds.map(lambda r: (r[1][0] - r[1][1])**2).mean()\n",
        "        error = math.sqrt(MSE)\n",
        "        \n",
        "        errors.append(error)\n",
        "\n",
        "\n",
        "    plt.figure(figsize=(12, 6))\n",
        "    plt.plot(arr_iters, errors)\n",
        "    plt.xlabel('number of iterations')\n",
        "    plt.ylabel('RMSE')\n",
        "    plt.title('ALS Learning Curve')\n",
        "    plt.grid(True)\n",
        "    plt.show()"
      ],
      "execution_count": 0,
      "outputs": []
    },
    {
      "cell_type": "code",
      "metadata": {
        "id": "6cqWWMYf_oo6",
        "colab_type": "code",
        "outputId": "4263d662-611e-4254-9088-1614bc68c33c",
        "colab": {
          "base_uri": "https://localhost:8080/",
          "height": 404
        }
      },
      "source": [
        "iter_array = list(range(1, 11))\n",
        "plot_learning_curve(iter_array, train, validation, 0.05, 20)"
      ],
      "execution_count": 0,
      "outputs": [
        {
          "output_type": "display_data",
          "data": {
            "image/png": "[encoded data removed]",
            "text/plain": [
              "<Figure size 864x432 with 1 Axes>"
            ]
          },
          "metadata": {
            "tags": [],
            "needs_background": "light"
          }
        }
      ]
    },
    {
      "cell_type": "code",
      "metadata": {
        "id": "SFO-p1vf_rZG",
        "colab_type": "code",
        "outputId": "9c1779ac-4543-4f99-9d25-57471afa44d4",
        "colab": {
          "base_uri": "https://localhost:8080/",
          "height": 34
        }
      },
      "source": [
        "test_data = test.map(lambda p: (p[0], p[1]))\n",
        "predictions = final_model.predictAll(test_data).map(lambda r: ((r[0], r[1]), r[2]))\n",
        "ratesAndPreds = test.map(lambda r: ((r[0], r[1]), r[2])).join(predictions)\n",
        "MSE = ratesAndPreds.map(lambda r: (r[1][0] - r[1][1])**2).mean()\n",
        "error = math.sqrt(MSE)\n",
        "print('The out-of-sample RMSE of rating predictions is', round(error, 4))"
      ],
      "execution_count": 0,
      "outputs": [
        {
          "output_type": "stream",
          "text": [
            "The out-of-sample RMSE of rating predictions is 0.9009\n"
          ],
          "name": "stdout"
        }
      ]
    },
    {
      "cell_type": "code",
      "metadata": {
        "id": "2nrbXX3TDXD_",
        "colab_type": "code",
        "colab": {}
      },
      "source": [
        "def get_movieId(df_movies, fav_movie_list):  \n",
        "    movieId_list = []\n",
        "    for movie in fav_movie_list:\n",
        "        movieIds = df_movies \\\n",
        "            .filter(movies.title.like('%{}%'.format(movie))) \\\n",
        "            .select('movieId') \\\n",
        "            .rdd \\\n",
        "            .map(lambda r: r[0]) \\\n",
        "            .collect()\n",
        "        movieId_list.extend(movieIds)\n",
        "    return list(set(movieId_list))\n",
        "\n",
        "\n",
        "def add_new_user_to_data(train_data, movieId_list, spark_context):\n",
        "    new_id = train_data.map(lambda r: r[0]).max() + 1\n",
        "    max_rating = train_data.map(lambda r: r[2]).max()\n",
        "    user_rows = [(new_id, movieId, max_rating) for movieId in movieId_list]\n",
        "    new_rdd = spark_context.parallelize(user_rows)\n",
        "    return train_data.union(new_rdd)\n",
        "\n",
        "\n",
        "def get_inference_data(train_data, df_movies, movieId_list):\n",
        "    new_id = train_data.map(lambda r: r[0]).max() + 1\n",
        "    return df_movies.rdd \\\n",
        "        .map(lambda r: r[0]) \\\n",
        "        .distinct() \\\n",
        "        .filter(lambda x: x not in movieId_list) \\\n",
        "        .map(lambda x: (new_id, x))\n",
        "\n",
        "\n",
        "def make_recommendation(best_model_params, ratings_data, df_movies, \n",
        "                        fav_movie_list, n_recommendations, spark_context):\n",
        "    \n",
        "    movieId_list = get_movieId(df_movies, fav_movie_list)\n",
        "    train_data = add_new_user_to_data(ratings_data, movieId_list, spark_context)\n",
        "    \n",
        "    \n",
        "    model = ALS.train(\n",
        "        ratings=train_data,\n",
        "        iterations=best_model_params.get('iterations', None),\n",
        "        rank=best_model_params.get('rank', None),\n",
        "        lambda_=best_model_params.get('lambda_', None),\n",
        "        seed=99)\n",
        "    \n",
        "    \n",
        "    inference_rdd = get_inference_data(ratings_data, df_movies, movieId_list)\n",
        "    \n",
        "    predictions = model.predictAll(inference_rdd).map(lambda r: (r[1], r[2]))\n",
        "    \n",
        "    \n",
        "    topn_rows = predictions.sortBy(lambda r: r[1], ascending=False).take(n_recommendations)\n",
        "    topn_ids = [r[0] for r in topn_rows]\n",
        "    \n",
        "    return df_movies.filter(movies.movieId.isin(topn_ids)) \\\n",
        "                    .select('title') \\\n",
        "                    .rdd \\\n",
        "                    .map(lambda r: r[0]) \\\n",
        "                    .collect()"
      ],
      "execution_count": 0,
      "outputs": []
    },
    {
      "cell_type": "code",
      "metadata": {
        "id": "7qLd4JC6_u-2",
        "colab_type": "code",
        "outputId": "cfd0c7df-76c8-4c2a-b80a-abf39ebdb0a7",
        "colab": {
          "base_uri": "https://localhost:8080/",
          "height": 210
        }
      },
      "source": [
        "my_favorite_movies = ['Dark Knight']\n",
        "\n",
        "recommends = make_recommendation(\n",
        "    best_model_params={'iterations': 10, 'rank': 14, 'lambda_': 0.2}, \n",
        "    ratings_data=rating_data, \n",
        "    df_movies=movies, \n",
        "    fav_movie_list=my_favorite_movies, \n",
        "    n_recommendations=10, \n",
        "    spark_context=sc)\n",
        "\n",
        "print('Recommendations for {}:'.format(my_favorite_movies[0]))\n",
        "for i, title in enumerate(recommends):\n",
        "    print('{0}: {1}'.format(i+1, title))"
      ],
      "execution_count": 0,
      "outputs": [
        {
          "output_type": "stream",
          "text": [
            "Recommendations for Dark Knight:\n",
            "1: On the Beach (1959)\n",
            "2: The Big Bus (1976)\n",
            "3: Saving Face (2004)\n",
            "4: Visitor, The (2007)\n",
            "5: Frozen River (2008)\n",
            "6: Strictly Sexual (2008)\n",
            "7: Dylan Moran: Monster (2004)\n",
            "8: Bill Hicks: Revelations (1993)\n",
            "9: Seve (2014)\n",
            "10: Deathgasm (2015)\n"
          ],
          "name": "stdout"
        }
      ]
    },
    {
      "cell_type": "code",
      "metadata": {
        "id": "uXr9jtpIET8M",
        "colab_type": "code",
        "colab": {}
      },
      "source": [
        ""
      ],
      "execution_count": 0,
      "outputs": []
    },
    {
      "cell_type": "code",
      "metadata": {
        "id": "cL4XUXmjFIre",
        "colab_type": "code",
        "colab": {}
      },
      "source": [
        ""
      ],
      "execution_count": 0,
      "outputs": []
    }
  ]
}