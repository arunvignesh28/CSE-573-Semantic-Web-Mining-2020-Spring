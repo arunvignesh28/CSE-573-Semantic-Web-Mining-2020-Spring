{
  "nbformat": 4,
  "nbformat_minor": 0,
  "metadata": {
    "colab": {
      "name": "Untitled2.ipynb",
      "provenance": [],
      "collapsed_sections": []
    },
    "kernelspec": {
      "name": "python3",
      "display_name": "Python 3"
    }
  },
  "cells": [
    {
      "cell_type": "code",
      "metadata": {
        "id": "4K1oRjphm0qV",
        "colab_type": "code",
        "outputId": "c5951696-afa6-485d-fa19-34feac3faa04",
        "colab": {
          "base_uri": "https://localhost:8080/",
          "height": 520
        }
      },
      "source": [
        "# downloading the dataset\n",
        "!curl -O http://files.grouplens.org/datasets/movielens/ml-100k.zip\n",
        "!unzip ml-100k.zip\n",
        "!cd ml-100k/\n"
      ],
      "execution_count": 2,
      "outputs": [
        {
          "output_type": "stream",
          "text": [
            "  % Total    % Received % Xferd  Average Speed   Time    Time     Time  Current\n",
            "                                 Dload  Upload   Total   Spent    Left  Speed\n",
            "\r  0     0    0     0    0     0      0      0 --:--:-- --:--:-- --:--:--     0\r100 4808k  100 4808k    0     0  9578k      0 --:--:-- --:--:-- --:--:-- 9578k\n",
            "Archive:  ml-100k.zip\n",
            "replace ml-100k/allbut.pl? [y]es, [n]o, [A]ll, [N]one, [r]ename: y\n",
            "  inflating: ml-100k/allbut.pl       \n",
            "replace ml-100k/mku.sh? [y]es, [n]o, [A]ll, [N]one, [r]ename: A\n",
            "  inflating: ml-100k/mku.sh          \n",
            "  inflating: ml-100k/README          \n",
            "  inflating: ml-100k/u.data          \n",
            "  inflating: ml-100k/u.genre         \n",
            "  inflating: ml-100k/u.info          \n",
            "  inflating: ml-100k/u.item          \n",
            "  inflating: ml-100k/u.occupation    \n",
            "  inflating: ml-100k/u.user          \n",
            "  inflating: ml-100k/u1.base         \n",
            "  inflating: ml-100k/u1.test         \n",
            "  inflating: ml-100k/u2.base         \n",
            "  inflating: ml-100k/u2.test         \n",
            "  inflating: ml-100k/u3.base         \n",
            "  inflating: ml-100k/u3.test         \n",
            "  inflating: ml-100k/u4.base         \n",
            "  inflating: ml-100k/u4.test         \n",
            "  inflating: ml-100k/u5.base         \n",
            "  inflating: ml-100k/u5.test         \n",
            "  inflating: ml-100k/ua.base         \n",
            "  inflating: ml-100k/ua.test         \n",
            "  inflating: ml-100k/ub.base         \n",
            "  inflating: ml-100k/ub.test         \n"
          ],
          "name": "stdout"
        }
      ]
    },
    {
      "cell_type": "code",
      "metadata": {
        "id": "WLmIP3oam6Ja",
        "colab_type": "code",
        "outputId": "e12b7697-5a75-48c6-f340-faac59190b1f",
        "colab": {
          "base_uri": "https://localhost:8080/",
          "height": 72
        }
      },
      "source": [
        "import pandas as pd\n",
        "import numpy as np\n",
        "import math\n",
        "import sys\n",
        "from sklearn.metrics import mean_squared_error\n",
        "# calculate the RMSE of the train error and test error\n",
        "def error(predicted_values, actual_values):\n",
        "    n = actual_values.nonzero()\n",
        "    predicted_values = predicted_values[n].flatten()\n",
        "    actual_values = actual_values[n].flatten()\n",
        "    mse = mean_squared_error(predicted_values, actual_values)\n",
        "    return math.sqrt(mse)\n",
        "\n",
        "# function to predict values of the movies\n",
        "def predicted_values(w1, w2):\n",
        "  return np.dot(w1.T, w2)\n",
        "\n",
        "#creating the model using th train set and predicting the values of the test set\n",
        "def fit(train, test):\n",
        "  train_rmse = []\n",
        "  test_rmse = []\n",
        "  m, n = train.shape\n",
        "  latentfeatures = 40\n",
        "  w1 = 3 * np.random.rand(latentfeatures, m)\n",
        "  w2 = 3 * np.random.rand(latentfeatures, n)\n",
        " \n",
        " \n",
        "  lmbda =0.0\n",
        "  users, items = train.nonzero()\n",
        "  lr = 0.00001\n",
        "  for epoch in range(200):\n",
        "      for user, item in zip(users, items):\n",
        "          e = train[user, item] - predicted_values(w1[:,user], w2[:,item])\n",
        "          w1[:, user] += lr * (e * w2[:, item] - lmbda * w1[:, user])\n",
        "          w2[:, item] +=  lr * (e * w1[:, user] - lmbda * w2[:, item])\n",
        "         \n",
        "          \n",
        "      values = predicted_values(w1, w2)\n",
        "      train_value = error(values, train)\n",
        "      test_value = error(values, test)\n",
        "      train_rmse.append(train_value)\n",
        "      test_rmse.append(test_value)\n",
        "  return train_rmse, test_rmse, w1, w2\n",
        "\n",
        "\n",
        "# splitting the dataset into tarining and test\n",
        "def split(user_item_matrix):\n",
        "  \n",
        "    test = np.zeros(user_item_matrix.shape)\n",
        "    train = user_item_matrix.copy()\n",
        "    length = user_item_matrix.shape[0]\n",
        "    for user in range(length):\n",
        "        choice = user_item_matrix[user, :].nonzero()[0]\n",
        "        value = np.random.choice(choice, size=10, replace=False)\n",
        "        train[user, value] = 0.\n",
        "        test[user, value] = user_item_matrix[user, value]\n",
        "        \n",
        "   \n",
        "    return train, test\n",
        "\n",
        "\n",
        "names = ['user_id', 'item_id', 'rating', 'timestamp']\n",
        "\n",
        "# reading the values from the file\n",
        "df = pd.read_csv(\"ml-100k/u.data\", sep='\\t', names=names)\n",
        "\n",
        "user_item_matrix = df.pivot(index='user_id',columns='item_id',values='rating')\n",
        "\n",
        "user_item_matrix1 = user_item_matrix.fillna(0).values\n",
        "\n",
        "\n",
        "\n",
        "train, test = split(user_item_matrix1)\n",
        "\n",
        "train_error, test_error, w1, w2 = fit(train, test)\n",
        "print(train_error)\n",
        "print(test_error)"
      ],
      "execution_count": 10,
      "outputs": [
        {
          "output_type": "stream",
          "text": [
            "[66.61514557160905, 54.57226907361971, 46.6739898256853, 41.06216695542985, 36.85114807006574, 33.563656228235786, 30.918952082846143, 28.740679553666723, 26.912237827407342, 25.353312745849234, 24.00670007901325, 22.8305023042622, 21.79329879296719, 20.87104307233077, 20.045005278725288, 19.300369786582706, 18.625256240419535, 18.01002160102721, 17.446753141789074, 16.9288939400697, 16.450962042624358, 16.00833698662234, 15.59709549912527, 15.213883607155912, 14.855816051058822, 14.520396412805631, 14.20545313104915, 13.90908782213729, 13.6296332219205, 13.365618714040785, 13.115741888704157, 12.87884493114281, 12.653894905339635, 12.439967200166915, 12.236231558952385, 12.041940231874232, 11.856417882373213, 11.679052950442733, 11.509290232003755, 11.346624478152256, 11.190594853553973, 11.040780121672242, 10.89679444738575, 10.758283726060563, 10.624922363191759, 10.496410441028369, 10.372471218690071, 10.252848920606095, 10.137306774995881, 10.02562526983684, 9.917600598541474, 9.813043271566364, 9.71177687353689, 9.613636948305919, 9.518469996762386, 9.426132574240443, 9.336490476111672, 9.2494180016215, 9.164797287296638, 9.082517702336936, 9.002475299340285, 8.924572314516142, 8.848716712241371, 8.774821769417303, 8.70280569561303, 8.632591285438092, 8.564105599987746, 8.497279674553837, 8.43204825010104, 8.368349526277514, 8.306124933966139, 8.245318925591373, 8.18587878158139, 8.12775443154837, 8.070898288894629, 8.015265097680635, 7.960811790705263, 7.907497357850332, 7.855282723832213, 7.804130634584344, 7.754005551567021, 7.704873553365701, 7.65670224399745, 7.609460667397366, 7.56311922760397, 7.517649614204925, 7.473024732642659, 7.4292186390139925, 7.386206479029039, 7.343964430822918, 7.302469651339333, 7.26170022602831, 7.221635121621415, 7.182254141766912, 7.143537885324743, 7.105467707137063, 7.068025681104512, 7.031194565411598, 6.994957769756614, 6.95929932445254, 6.9242038512754185, 6.889656535945959, 6.855643102138586, 6.822149786919876, 6.7891633175254675, 6.756670889391119, 6.724660145359529, 6.693119155990148, 6.662036400904288, 6.631400751102532, 6.6012014521958005, 6.571428108495448, 6.542070667911439, 6.513119407611081, 6.484564920393998, 6.4563981017418755, 6.428610137504318, 6.401192492184596, 6.37413689779145, 6.347435343225225, 6.321080064168716, 6.29506353345484, 6.2693784518851166, 6.244017739474472, 6.2189745270994194, 6.194242148528064, 6.169814132811684, 6.145684197018865, 6.121846239294276, 6.098294332225281, 6.075022716500519, 6.052025794845549, 6.029298126221489, 6.006834420273434, 5.984629532016131, 5.962678456745152, 5.940976325162456, 5.9195183987058115, 5.898300065072208, 5.877316833925885, 5.856564332782098, 5.836038303058288, 5.815734596284722, 5.795649170467116, 5.775778086594153, 5.756117505283165, 5.736663683557643, 5.7174129717505195, 5.698361810527532, 5.67950672802522, 5.6608443370984425, 5.642371332672512, 5.62408448919532, 5.605980658185059, 5.588056765869369, 5.570309810911893, 5.5527368622225355, 5.535335056847775, 5.518101597937642, 5.50103375278611, 5.484128850941806, 5.4673842823860985, 5.450797495775746, 5.434365996747468, 5.4180873462818395, 5.401959159124147, 5.385979102259836, 5.370144893442381, 5.354454299771454, 5.3389051363193945, 5.323495264804051, 5.308222592306184, 5.293085070029659, 5.278080692102775, 5.263207494419128, 5.248463553516487, 5.233846985492223, 5.219355944953888, 5.2049886240036365, 5.1907432512551726, 5.17661809088205, 5.162611441696109, 5.148721636254972, 5.134947039997495, 5.121286050406167, 5.107737096195468, 5.094298636525243, 5.080969160238188, 5.067747185120581, 5.0546312571854335, 5.041619949977259, 5.028711863897695, 5.015905625551246, 5.003199887110448, 4.990593325699766, 4.9780846427975955, 4.965672563655721, 4.9533558367356525, 4.941133233161253, 4.929003546187109]\n",
            "[71.36498083047066, 61.67519680946285, 55.06191540798336, 50.20210733071232, 46.44660267117421, 43.43675043908453, 40.95703573412665, 38.86953684746561, 37.0815452688487, 35.528235638428804, 34.16278503183601, 32.95044261391028, 31.8648153047295, 30.885456123384955, 29.996249280414496, 29.18429946465481, 28.43914978081666, 27.752219556731532, 27.116392673376396, 26.52571108414493, 25.975143214236077, 25.46040656200998, 24.977830134158868, 24.524246563341, 24.09690662615604, 23.693410864112625, 23.311654404155792, 22.949782068053725, 22.60615157615493, 22.27930317397873, 21.967934396229435, 21.670878970911104, 21.38708908326259, 21.115620384250423, 20.855619254900148, 20.606311935571057, 20.366995205478826, 20.137028357553035, 19.91582626093775, 19.702853340982497, 19.497618336595608, 19.29966971898478, 19.108591675346577, 18.924000576951656, 18.745541864053454, 18.57288729070552, 18.4057324813626, 18.243794758421764, 18.08681120591552, 17.934536939626398, 17.786743558131143, 17.643217752849015, 17.503760058179417, 17.368183725364037, 17.236313705875972, 17.107985731985444, 16.98304548373108, 16.861347832879886, 16.74275615562328, 16.627141706760263, 16.514383048986385, 16.404365531658637, 16.296980814059456, 16.19212642875124, 16.089705381108594, 15.98962578154931, 15.891800507364785, 15.796146891384371, 15.702586435001525, 15.611044543348331, 15.521450280633477, 15.433736143860745, 15.347837853324316, 15.263694158436099, 15.181246657581669, 15.100439630827386, 15.021219884413492, 14.943536606068403, 14.867341230269103, 14.792587312653065, 14.719230412859229, 14.647227985140395, 14.57653927614779, 14.50712522934103, 14.438948395524143, 14.371972849051069, 14.306164109282806, 14.241489066913328, 14.177915914813203, 14.115414083068595, 14.053954177919511, 13.993507924324895, 13.934048111903914, 13.875548544022335, 13.817983989811063, 13.761330138920158, 13.70556355882679, 13.6506616545292, 13.596602630471365, 13.543365454554557, 13.490929824102507, 13.439276133656637, 13.388385444486635, 13.338239455709932, 13.28882047692107, 13.240111402238941, 13.192095685686269, 13.144757317821531, 13.098080803549076, 13.052051141038065, 13.006653801685633, 12.96187471106393, 12.91770023079459, 12.874117141298012, 12.8311126253681, 12.78867425252638, 12.746789964112292, 12.705448059069196, 12.664637180388182, 12.62434630217411, 12.584564717300509, 12.545282025622006, 12.506488122714838, 12.468173189117811, 12.4303276800477, 12.392942315564584, 12.356008071164155, 12.319516168775273, 12.283458068142357, 12.24782545857335, 12.212610251035152, 12.177804570579333, 12.143400749082026, 12.109391318282702, 12.075769003107444, 12.042526715263097, 12.009657547089398, 11.97715476565697, 11.94501180709958, 11.913222271169845, 11.881779916008014, 11.850678653114036, 11.819912542513714, 11.789475788110105, 11.75936273321185, 11.729567856230577, 11.700085766539802, 11.670911200488295, 11.642039017561109, 11.61346419668184, 11.585181832650068, 11.557187132708137, 11.529475413231763, 11.502042096539263, 11.474882707814366, 11.447992872137885, 11.421368311623715, 11.395004842654856, 11.368898373215371, 11.343044900314307, 11.317440507497947, 11.292081362446742, 11.266963714653603, 11.242083893180265, 11.217438304488677, 11.19302343034444, 11.168835825789476, 11.144872117181277, 11.121129000296115, 11.097603238493775, 11.074291660941485, 11.051191160894762, 11.028298694033051, 11.00561127684809, 10.983125985083047, 10.960839952220526, 10.938750368017665, 10.916854477086574, 10.895149577518493, 10.873633019550041, 10.852302204270082, 10.83115458236572, 10.81018765290606, 10.789398962162354, 10.768786102463265, 10.748346711084075, 10.72807846916853, 10.707979100682314, 10.688046371396982, 10.668278087903344, 10.648672096653266, 10.629226283028954, 10.609938570438766, 10.590806919438679, 10.571829326878534, 10.55300382507225, 10.534328480991222, 10.515801395480098, 10.497420702494257, 10.479184568358233]\n"
          ],
          "name": "stdout"
        }
      ]
    },
    {
      "cell_type": "code",
      "metadata": {
        "id": "hq3K8y6XxjLP",
        "colab_type": "code",
        "colab": {}
      },
      "source": [
        ""
      ],
      "execution_count": 0,
      "outputs": []
    },
    {
      "cell_type": "code",
      "metadata": {
        "id": "RIndFDJlj8HG",
        "colab_type": "code",
        "outputId": "d17c5e59-17fa-4f57-f2e0-e7666b480a92",
        "colab": {
          "base_uri": "https://localhost:8080/",
          "height": 265
        }
      },
      "source": [
        "# plotting the values of the train and test\n",
        "from matplotlib import pyplot as plt\n",
        "plt.plot(train_error, label=\"train RMSE\")\n",
        "plt.plot(test_error, label=\"test RMSE\")\n",
        "plt.legend()\n",
        "plt.show()"
      ],
      "execution_count": 12,
      "outputs": [
        {
          "output_type": "display_data",
          "data": {
            "image/png": "[encoded data removed]",
            "text/plain": [
              "<Figure size 432x288 with 1 Axes>"
            ]
          },
          "metadata": {
            "tags": [],
            "needs_background": "light"
          }
        }
      ]
    },
    {
      "cell_type": "code",
      "metadata": {
        "id": "6veWQv5rxqtx",
        "colab_type": "code",
        "outputId": "f35f1221-860a-4ec2-dd6f-d0659d5e4758",
        "colab": {
          "base_uri": "https://localhost:8080/",
          "height": 208
        }
      },
      "source": [
        "\n",
        "# given an user recommend other movies\n",
        "def predict_movies(train, index):\n",
        "  y_hat = predicted_values(w1, w2)\n",
        "  predict_index = np.where(train[index, :] == 0)[0]\n",
        "  return y_hat[index, predict_index].flatten()\n",
        "\n",
        "id = 21\n",
        "\n",
        "index = user_item_matrix.index.get_loc(id)\n",
        "\n",
        "\n",
        "\n",
        "rating_predictions = predict_movies(train, index)\n",
        "\n",
        "movies_predicted = rating_predictions.argsort()[-10:][::-1]\n",
        "\n",
        "# reading names of movies\n",
        "movies = pd.read_csv('ml-100k/u.item', sep='|',  encoding='latin-1')\n",
        "\n",
        "predicted =  movies[movies.iloc[:,0].isin(movies_predicted)]\n",
        "print(predicted.iloc[:, 1])"
      ],
      "execution_count": 13,
      "outputs": [
        {
          "output_type": "stream",
          "text": [
            "319                             Mother (1996)\n",
            "497              Cat on a Hot Tin Roof (1958)\n",
            "686                 Leave It to Beaver (1997)\n",
            "945     Big Blue, The (Grand bleu, Le) (1988)\n",
            "1234         Other Voices, Other Rooms (1997)\n",
            "1253                    Broken English (1996)\n",
            "1290                    Simple Wish, A (1997)\n",
            "1294                     Indian Summer (1996)\n",
            "1337              Stefano Quantestorie (1993)\n",
            "1504           Nelly & Monsieur Arnaud (1995)\n",
            "Name: Toy Story (1995), dtype: object\n"
          ],
          "name": "stdout"
        }
      ]
    }
  ]
}