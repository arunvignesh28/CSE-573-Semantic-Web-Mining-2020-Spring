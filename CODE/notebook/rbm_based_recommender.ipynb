{
  "nbformat": 4,
  "nbformat_minor": 0,
  "metadata": {
    "colab": {
      "name": "rbm_v4_recommender.ipynb",
      "provenance": [],
      "collapsed_sections": []
    },
    "kernelspec": {
      "name": "python3",
      "display_name": "Python 3"
    }
  },
  "cells": [
    {
      "cell_type": "code",
      "metadata": {
        "id": "u41hQ8ysr2eO",
        "colab_type": "code",
        "colab": {}
      },
      "source": [
        "import pandas as pd\n",
        "import ast\n",
        "import numpy as np\n",
        "import tensorflow.compat.v1 as tf\n",
        "import matplotlib.pyplot as plt\n",
        "tf.disable_v2_behavior()"
      ],
      "execution_count": 0,
      "outputs": []
    },
    {
      "cell_type": "code",
      "metadata": {
        "id": "fPkwwf1zgCqz",
        "colab_type": "code",
        "outputId": "bc6ca78a-95d7-408a-8299-6ffeae2ed6e1",
        "colab": {
          "base_uri": "https://localhost:8080/",
          "height": 54
        }
      },
      "source": [
        "from nltk.stem.snowball import SnowballStemmer\n",
        "from sklearn.feature_extraction.text import CountVectorizer\n",
        "from sklearn.metrics.pairwise import cosine_similarity\n",
        "from sklearn.model_selection import train_test_split\n",
        "from google.colab import drive\n",
        "\n",
        "drive.mount('/content/drive')"
      ],
      "execution_count": 61,
      "outputs": [
        {
          "output_type": "stream",
          "text": [
            "Drive already mounted at /content/drive; to attempt to forcibly remount, call drive.mount(\"/content/drive\", force_remount=True).\n"
          ],
          "name": "stdout"
        }
      ]
    },
    {
      "cell_type": "markdown",
      "metadata": {
        "id": "TGD14q4agKHG",
        "colab_type": "text"
      },
      "source": [
        "**1. Load Data**"
      ]
    },
    {
      "cell_type": "code",
      "metadata": {
        "id": "yp4Dov6JgHUs",
        "colab_type": "code",
        "outputId": "d4a0b4bf-5fd9-4dae-9b8a-c9a5128766b7",
        "colab": {
          "base_uri": "https://localhost:8080/",
          "height": 255
        }
      },
      "source": [
        "movies = pd. read_csv('/content/drive/My Drive/SWM/the-movies-dataset/movies_metadata.csv')\n",
        "extlinks = pd.read_csv('/content/drive/My Drive/SWM/the-movies-dataset/links_small.csv')\n",
        "ratings = pd.read_csv('/content/drive/My Drive/SWM/the-movies-dataset/ratings_small.csv')\n",
        "extlinks.head()"
      ],
      "execution_count": 62,
      "outputs": [
        {
          "output_type": "stream",
          "text": [
            "/usr/local/lib/python3.6/dist-packages/IPython/core/interactiveshell.py:2718: DtypeWarning: Columns (10) have mixed types.Specify dtype option on import or set low_memory=False.\n",
            "  interactivity=interactivity, compiler=compiler, result=result)\n"
          ],
          "name": "stderr"
        },
        {
          "output_type": "execute_result",
          "data": {
            "text/html": [
              "<div>\n",
              "<style scoped>\n",
              "    .dataframe tbody tr th:only-of-type {\n",
              "        vertical-align: middle;\n",
              "    }\n",
              "\n",
              "    .dataframe tbody tr th {\n",
              "        vertical-align: top;\n",
              "    }\n",
              "\n",
              "    .dataframe thead th {\n",
              "        text-align: right;\n",
              "    }\n",
              "</style>\n",
              "<table border=\"1\" class=\"dataframe\">\n",
              "  <thead>\n",
              "    <tr style=\"text-align: right;\">\n",
              "      <th></th>\n",
              "      <th>movieId</th>\n",
              "      <th>imdbId</th>\n",
              "      <th>tmdbId</th>\n",
              "    </tr>\n",
              "  </thead>\n",
              "  <tbody>\n",
              "    <tr>\n",
              "      <th>0</th>\n",
              "      <td>1</td>\n",
              "      <td>114709</td>\n",
              "      <td>862.0</td>\n",
              "    </tr>\n",
              "    <tr>\n",
              "      <th>1</th>\n",
              "      <td>2</td>\n",
              "      <td>113497</td>\n",
              "      <td>8844.0</td>\n",
              "    </tr>\n",
              "    <tr>\n",
              "      <th>2</th>\n",
              "      <td>3</td>\n",
              "      <td>113228</td>\n",
              "      <td>15602.0</td>\n",
              "    </tr>\n",
              "    <tr>\n",
              "      <th>3</th>\n",
              "      <td>4</td>\n",
              "      <td>114885</td>\n",
              "      <td>31357.0</td>\n",
              "    </tr>\n",
              "    <tr>\n",
              "      <th>4</th>\n",
              "      <td>5</td>\n",
              "      <td>113041</td>\n",
              "      <td>11862.0</td>\n",
              "    </tr>\n",
              "  </tbody>\n",
              "</table>\n",
              "</div>"
            ],
            "text/plain": [
              "   movieId  imdbId   tmdbId\n",
              "0        1  114709    862.0\n",
              "1        2  113497   8844.0\n",
              "2        3  113228  15602.0\n",
              "3        4  114885  31357.0\n",
              "4        5  113041  11862.0"
            ]
          },
          "metadata": {
            "tags": []
          },
          "execution_count": 62
        }
      ]
    },
    {
      "cell_type": "code",
      "metadata": {
        "id": "BFYqy1CIoPF4",
        "colab_type": "code",
        "outputId": "f47a77a0-1185-49bf-aa19-629587c1b9b0",
        "colab": {
          "base_uri": "https://localhost:8080/",
          "height": 204
        }
      },
      "source": [
        "credits = pd.read_csv('/content/drive/My Drive/SWM/the-movies-dataset/credits.csv')\n",
        "keywords = pd.read_csv('/content/drive/My Drive/SWM/the-movies-dataset/keywords.csv')\n",
        "keywords.head()"
      ],
      "execution_count": 63,
      "outputs": [
        {
          "output_type": "execute_result",
          "data": {
            "text/html": [
              "<div>\n",
              "<style scoped>\n",
              "    .dataframe tbody tr th:only-of-type {\n",
              "        vertical-align: middle;\n",
              "    }\n",
              "\n",
              "    .dataframe tbody tr th {\n",
              "        vertical-align: top;\n",
              "    }\n",
              "\n",
              "    .dataframe thead th {\n",
              "        text-align: right;\n",
              "    }\n",
              "</style>\n",
              "<table border=\"1\" class=\"dataframe\">\n",
              "  <thead>\n",
              "    <tr style=\"text-align: right;\">\n",
              "      <th></th>\n",
              "      <th>id</th>\n",
              "      <th>keywords</th>\n",
              "    </tr>\n",
              "  </thead>\n",
              "  <tbody>\n",
              "    <tr>\n",
              "      <th>0</th>\n",
              "      <td>862</td>\n",
              "      <td>[{'id': 931, 'name': 'jealousy'}, {'id': 4290,...</td>\n",
              "    </tr>\n",
              "    <tr>\n",
              "      <th>1</th>\n",
              "      <td>8844</td>\n",
              "      <td>[{'id': 10090, 'name': 'board game'}, {'id': 1...</td>\n",
              "    </tr>\n",
              "    <tr>\n",
              "      <th>2</th>\n",
              "      <td>15602</td>\n",
              "      <td>[{'id': 1495, 'name': 'fishing'}, {'id': 12392...</td>\n",
              "    </tr>\n",
              "    <tr>\n",
              "      <th>3</th>\n",
              "      <td>31357</td>\n",
              "      <td>[{'id': 818, 'name': 'based on novel'}, {'id':...</td>\n",
              "    </tr>\n",
              "    <tr>\n",
              "      <th>4</th>\n",
              "      <td>11862</td>\n",
              "      <td>[{'id': 1009, 'name': 'baby'}, {'id': 1599, 'n...</td>\n",
              "    </tr>\n",
              "  </tbody>\n",
              "</table>\n",
              "</div>"
            ],
            "text/plain": [
              "      id                                           keywords\n",
              "0    862  [{'id': 931, 'name': 'jealousy'}, {'id': 4290,...\n",
              "1   8844  [{'id': 10090, 'name': 'board game'}, {'id': 1...\n",
              "2  15602  [{'id': 1495, 'name': 'fishing'}, {'id': 12392...\n",
              "3  31357  [{'id': 818, 'name': 'based on novel'}, {'id':...\n",
              "4  11862  [{'id': 1009, 'name': 'baby'}, {'id': 1599, 'n..."
            ]
          },
          "metadata": {
            "tags": []
          },
          "execution_count": 63
        }
      ]
    },
    {
      "cell_type": "code",
      "metadata": {
        "id": "XBACoPaRjvhY",
        "colab_type": "code",
        "colab": {}
      },
      "source": [
        "movies = movies.drop([19730, 29503, 35587])\n",
        "extlinks = extlinks[extlinks['tmdbId'].notnull()]['tmdbId'].astype('int')"
      ],
      "execution_count": 0,
      "outputs": []
    },
    {
      "cell_type": "code",
      "metadata": {
        "id": "DMfZbhlD2wWK",
        "colab_type": "code",
        "colab": {}
      },
      "source": [
        "movies['genres'] = movies['genres'].fillna('[]').apply(ast.literal_eval).apply(lambda genres: [genre['name'] for genre in genres] if isinstance(genres, list) else [])"
      ],
      "execution_count": 0,
      "outputs": []
    },
    {
      "cell_type": "code",
      "metadata": {
        "id": "Kig6rw9apH-p",
        "colab_type": "code",
        "colab": {}
      },
      "source": [
        "movies['id'] = movies['id'].astype('int')\n",
        "keywords['id'] = keywords['id'].astype('int')\n",
        "credits['id'] = credits['id'].astype('int')\n",
        "movies = movies.merge(credits, on='id')\n",
        "movies = movies.merge(keywords, on='id')"
      ],
      "execution_count": 0,
      "outputs": []
    },
    {
      "cell_type": "code",
      "metadata": {
        "id": "lOoKE2ABj0po",
        "colab_type": "code",
        "outputId": "dfdf74c1-b4d5-47e1-a23d-4be341ece266",
        "colab": {
          "base_uri": "https://localhost:8080/",
          "height": 34
        }
      },
      "source": [
        "movies_filtered = movies[movies['id'].isin(extlinks)]\n",
        "movies_filtered.head()\n",
        "movies_filtered.shape"
      ],
      "execution_count": 67,
      "outputs": [
        {
          "output_type": "execute_result",
          "data": {
            "text/plain": [
              "(9219, 27)"
            ]
          },
          "metadata": {
            "tags": []
          },
          "execution_count": 67
        }
      ]
    },
    {
      "cell_type": "markdown",
      "metadata": {
        "id": "bukAbWmp80JN",
        "colab_type": "text"
      },
      "source": [
        "**2. Extract Meta Data (Cast, Crew and Keywords)**"
      ]
    },
    {
      "cell_type": "code",
      "metadata": {
        "id": "jccg94aYrYaG",
        "colab_type": "code",
        "outputId": "afbd7329-b977-4bd8-fc80-36a026eb6358",
        "colab": {
          "base_uri": "https://localhost:8080/",
          "height": 323
        }
      },
      "source": [
        "movies_filtered['cast'] = movies_filtered['cast'].apply(ast.literal_eval)\n",
        "movies_filtered['crew'] = movies_filtered['crew'].apply(ast.literal_eval)\n",
        "movies_filtered['keywords'] = movies_filtered['keywords'].apply(ast.literal_eval)"
      ],
      "execution_count": 68,
      "outputs": [
        {
          "output_type": "stream",
          "text": [
            "/usr/local/lib/python3.6/dist-packages/ipykernel_launcher.py:1: SettingWithCopyWarning: \n",
            "A value is trying to be set on a copy of a slice from a DataFrame.\n",
            "Try using .loc[row_indexer,col_indexer] = value instead\n",
            "\n",
            "See the caveats in the documentation: https://pandas.pydata.org/pandas-docs/stable/user_guide/indexing.html#returning-a-view-versus-a-copy\n",
            "  \"\"\"Entry point for launching an IPython kernel.\n",
            "/usr/local/lib/python3.6/dist-packages/ipykernel_launcher.py:2: SettingWithCopyWarning: \n",
            "A value is trying to be set on a copy of a slice from a DataFrame.\n",
            "Try using .loc[row_indexer,col_indexer] = value instead\n",
            "\n",
            "See the caveats in the documentation: https://pandas.pydata.org/pandas-docs/stable/user_guide/indexing.html#returning-a-view-versus-a-copy\n",
            "  \n",
            "/usr/local/lib/python3.6/dist-packages/ipykernel_launcher.py:3: SettingWithCopyWarning: \n",
            "A value is trying to be set on a copy of a slice from a DataFrame.\n",
            "Try using .loc[row_indexer,col_indexer] = value instead\n",
            "\n",
            "See the caveats in the documentation: https://pandas.pydata.org/pandas-docs/stable/user_guide/indexing.html#returning-a-view-versus-a-copy\n",
            "  This is separate from the ipykernel package so we can avoid doing imports until\n"
          ],
          "name": "stderr"
        }
      ]
    },
    {
      "cell_type": "code",
      "metadata": {
        "id": "F44e8tsTsBOp",
        "colab_type": "code",
        "outputId": "46a1976f-a124-4b08-a0a3-f46487e6f957",
        "colab": {
          "base_uri": "https://localhost:8080/",
          "height": 221
        }
      },
      "source": [
        "movies_filtered['cast_size'] = movies_filtered['cast'].apply(lambda x: len(x))\n",
        "movies_filtered['crew_size'] = movies_filtered['crew'].apply(lambda x: len(x))"
      ],
      "execution_count": 69,
      "outputs": [
        {
          "output_type": "stream",
          "text": [
            "/usr/local/lib/python3.6/dist-packages/ipykernel_launcher.py:1: SettingWithCopyWarning: \n",
            "A value is trying to be set on a copy of a slice from a DataFrame.\n",
            "Try using .loc[row_indexer,col_indexer] = value instead\n",
            "\n",
            "See the caveats in the documentation: https://pandas.pydata.org/pandas-docs/stable/user_guide/indexing.html#returning-a-view-versus-a-copy\n",
            "  \"\"\"Entry point for launching an IPython kernel.\n",
            "/usr/local/lib/python3.6/dist-packages/ipykernel_launcher.py:2: SettingWithCopyWarning: \n",
            "A value is trying to be set on a copy of a slice from a DataFrame.\n",
            "Try using .loc[row_indexer,col_indexer] = value instead\n",
            "\n",
            "See the caveats in the documentation: https://pandas.pydata.org/pandas-docs/stable/user_guide/indexing.html#returning-a-view-versus-a-copy\n",
            "  \n"
          ],
          "name": "stderr"
        }
      ]
    },
    {
      "cell_type": "markdown",
      "metadata": {
        "id": "E-Ve4DDh9En0",
        "colab_type": "text"
      },
      "source": [
        "**3. Extract Director Name From Crew**"
      ]
    },
    {
      "cell_type": "code",
      "metadata": {
        "id": "9581pM4Ns483",
        "colab_type": "code",
        "outputId": "a795f37a-e5db-4b6f-fec5-48573599830c",
        "colab": {
          "base_uri": "https://localhost:8080/",
          "height": 119
        }
      },
      "source": [
        "def getDirector(crew):\n",
        "  for person in crew:\n",
        "    if person['job'] == 'Director':\n",
        "          return person['name']\n",
        "  return np.nan\n",
        "movies_filtered['director'] = movies_filtered['crew'].apply(getDirector)\n"
      ],
      "execution_count": 70,
      "outputs": [
        {
          "output_type": "stream",
          "text": [
            "/usr/local/lib/python3.6/dist-packages/ipykernel_launcher.py:6: SettingWithCopyWarning: \n",
            "A value is trying to be set on a copy of a slice from a DataFrame.\n",
            "Try using .loc[row_indexer,col_indexer] = value instead\n",
            "\n",
            "See the caveats in the documentation: https://pandas.pydata.org/pandas-docs/stable/user_guide/indexing.html#returning-a-view-versus-a-copy\n",
            "  \n"
          ],
          "name": "stderr"
        }
      ]
    },
    {
      "cell_type": "code",
      "metadata": {
        "id": "kky8AM-yvAti",
        "colab_type": "code",
        "outputId": "3035572d-0ec6-4ffb-ec17-5401102896c4",
        "colab": {
          "base_uri": "https://localhost:8080/",
          "height": 425
        }
      },
      "source": [
        "movies_filtered['cast']  = movies_filtered['cast'].apply(lambda cast: [person['name'] for person in cast] if isinstance(cast, list) else [])\n",
        "movies_filtered['cast'] = movies_filtered['cast'].apply(lambda cast: cast[:3] if len(cast) >=3 else cast)\n",
        "movies_filtered['cast']"
      ],
      "execution_count": 71,
      "outputs": [
        {
          "output_type": "stream",
          "text": [
            "/usr/local/lib/python3.6/dist-packages/ipykernel_launcher.py:1: SettingWithCopyWarning: \n",
            "A value is trying to be set on a copy of a slice from a DataFrame.\n",
            "Try using .loc[row_indexer,col_indexer] = value instead\n",
            "\n",
            "See the caveats in the documentation: https://pandas.pydata.org/pandas-docs/stable/user_guide/indexing.html#returning-a-view-versus-a-copy\n",
            "  \"\"\"Entry point for launching an IPython kernel.\n",
            "/usr/local/lib/python3.6/dist-packages/ipykernel_launcher.py:2: SettingWithCopyWarning: \n",
            "A value is trying to be set on a copy of a slice from a DataFrame.\n",
            "Try using .loc[row_indexer,col_indexer] = value instead\n",
            "\n",
            "See the caveats in the documentation: https://pandas.pydata.org/pandas-docs/stable/user_guide/indexing.html#returning-a-view-versus-a-copy\n",
            "  \n"
          ],
          "name": "stderr"
        },
        {
          "output_type": "execute_result",
          "data": {
            "text/plain": [
              "0                      [Tom Hanks, Tim Allen, Don Rickles]\n",
              "1           [Robin Williams, Jonathan Hyde, Kirsten Dunst]\n",
              "2               [Walter Matthau, Jack Lemmon, Ann-Margret]\n",
              "3        [Whitney Houston, Angela Bassett, Loretta Devine]\n",
              "4               [Steve Martin, Diane Keaton, Martin Short]\n",
              "                               ...                        \n",
              "40952      [Sidney Poitier, Wendy Crewson, Jay O. Sanders]\n",
              "41172            [Akshay Kumar, Ileana D'Cruz, Esha Gupta]\n",
              "41225            [Hrithik Roshan, Pooja Hegde, Kabir Bedi]\n",
              "41391    [Hiroki Hasegawa, Yutaka Takenouchi, Satomi Is...\n",
              "41669           [Paul McCartney, Ringo Starr, John Lennon]\n",
              "Name: cast, Length: 9219, dtype: object"
            ]
          },
          "metadata": {
            "tags": []
          },
          "execution_count": 71
        }
      ]
    },
    {
      "cell_type": "code",
      "metadata": {
        "id": "K615VtFFvXKO",
        "colab_type": "code",
        "outputId": "529eb824-18b5-43fc-c109-1ecb8edeaddc",
        "colab": {
          "base_uri": "https://localhost:8080/",
          "height": 119
        }
      },
      "source": [
        "movies_filtered['keywords'] = movies_filtered['keywords'].apply(lambda keywords: [keyword['name'] for keyword in keywords] if isinstance(keywords, list) else [])\n"
      ],
      "execution_count": 72,
      "outputs": [
        {
          "output_type": "stream",
          "text": [
            "/usr/local/lib/python3.6/dist-packages/ipykernel_launcher.py:1: SettingWithCopyWarning: \n",
            "A value is trying to be set on a copy of a slice from a DataFrame.\n",
            "Try using .loc[row_indexer,col_indexer] = value instead\n",
            "\n",
            "See the caveats in the documentation: https://pandas.pydata.org/pandas-docs/stable/user_guide/indexing.html#returning-a-view-versus-a-copy\n",
            "  \"\"\"Entry point for launching an IPython kernel.\n"
          ],
          "name": "stderr"
        }
      ]
    },
    {
      "cell_type": "code",
      "metadata": {
        "id": "o90F4i2kw8r_",
        "colab_type": "code",
        "outputId": "a21dbf4d-58c0-4393-e09d-9f7a18f3de92",
        "colab": {
          "base_uri": "https://localhost:8080/",
          "height": 221
        }
      },
      "source": [
        "movies_filtered['director'] = movies_filtered['director'].astype('str').apply(lambda name: str.lower(name.replace(\" \", \"\")))\n",
        "movies_filtered['director'] = movies_filtered['director'].apply(lambda name: [name, name, name])"
      ],
      "execution_count": 73,
      "outputs": [
        {
          "output_type": "stream",
          "text": [
            "/usr/local/lib/python3.6/dist-packages/ipykernel_launcher.py:1: SettingWithCopyWarning: \n",
            "A value is trying to be set on a copy of a slice from a DataFrame.\n",
            "Try using .loc[row_indexer,col_indexer] = value instead\n",
            "\n",
            "See the caveats in the documentation: https://pandas.pydata.org/pandas-docs/stable/user_guide/indexing.html#returning-a-view-versus-a-copy\n",
            "  \"\"\"Entry point for launching an IPython kernel.\n",
            "/usr/local/lib/python3.6/dist-packages/ipykernel_launcher.py:2: SettingWithCopyWarning: \n",
            "A value is trying to be set on a copy of a slice from a DataFrame.\n",
            "Try using .loc[row_indexer,col_indexer] = value instead\n",
            "\n",
            "See the caveats in the documentation: https://pandas.pydata.org/pandas-docs/stable/user_guide/indexing.html#returning-a-view-versus-a-copy\n",
            "  \n"
          ],
          "name": "stderr"
        }
      ]
    },
    {
      "cell_type": "code",
      "metadata": {
        "id": "EYBcksQQyQ4F",
        "colab_type": "code",
        "outputId": "75d0c36c-85f1-4915-eb73-6bcfd59a3052",
        "colab": {
          "base_uri": "https://localhost:8080/",
          "height": 71
        }
      },
      "source": [
        "keywords = movies_filtered.apply(lambda movie: pd.Series(movie['keywords']),axis=1).stack().reset_index(level=1, drop=True)\n",
        "keywords = keywords.value_counts()"
      ],
      "execution_count": 74,
      "outputs": [
        {
          "output_type": "stream",
          "text": [
            "/usr/local/lib/python3.6/dist-packages/ipykernel_launcher.py:1: DeprecationWarning: The default dtype for empty Series will be 'object' instead of 'float64' in a future version. Specify a dtype explicitly to silence this warning.\n",
            "  \"\"\"Entry point for launching an IPython kernel.\n"
          ],
          "name": "stderr"
        }
      ]
    },
    {
      "cell_type": "code",
      "metadata": {
        "id": "xHiTRs1izbPQ",
        "colab_type": "code",
        "outputId": "d229a45c-419e-4984-8cdc-c74b4721a246",
        "colab": {
          "base_uri": "https://localhost:8080/",
          "height": 119
        }
      },
      "source": [
        "keywords = keywords[keywords>1]\n",
        "keywords.head()"
      ],
      "execution_count": 75,
      "outputs": [
        {
          "output_type": "execute_result",
          "data": {
            "text/plain": [
              "independent film        610\n",
              "woman director          550\n",
              "murder                  399\n",
              "duringcreditsstinger    327\n",
              "based on novel          318\n",
              "dtype: int64"
            ]
          },
          "metadata": {
            "tags": []
          },
          "execution_count": 75
        }
      ]
    },
    {
      "cell_type": "code",
      "metadata": {
        "id": "UgEdQYPyztdg",
        "colab_type": "code",
        "colab": {}
      },
      "source": [
        "def filterKeywords(list):\n",
        "  words = []\n",
        "  for word in list:\n",
        "    if word in keywords:\n",
        "      words.append(word)\n",
        "  return words"
      ],
      "execution_count": 0,
      "outputs": []
    },
    {
      "cell_type": "code",
      "metadata": {
        "id": "dWqX-Lm90QfH",
        "colab_type": "code",
        "outputId": "1927c8f4-c25a-4bb5-a3a5-5bc35109c997",
        "colab": {
          "base_uri": "https://localhost:8080/",
          "height": 119
        }
      },
      "source": [
        "movies_filtered['keywords'] = movies_filtered['keywords'].apply(filterKeywords)"
      ],
      "execution_count": 77,
      "outputs": [
        {
          "output_type": "stream",
          "text": [
            "/usr/local/lib/python3.6/dist-packages/ipykernel_launcher.py:1: SettingWithCopyWarning: \n",
            "A value is trying to be set on a copy of a slice from a DataFrame.\n",
            "Try using .loc[row_indexer,col_indexer] = value instead\n",
            "\n",
            "See the caveats in the documentation: https://pandas.pydata.org/pandas-docs/stable/user_guide/indexing.html#returning-a-view-versus-a-copy\n",
            "  \"\"\"Entry point for launching an IPython kernel.\n"
          ],
          "name": "stderr"
        }
      ]
    },
    {
      "cell_type": "code",
      "metadata": {
        "id": "y9CYnahR0TrQ",
        "colab_type": "code",
        "outputId": "bac2d209-532e-4882-8f19-93e12d6a4396",
        "colab": {
          "base_uri": "https://localhost:8080/",
          "height": 119
        }
      },
      "source": [
        "movies_filtered['keywords'] = movies_filtered['keywords'].apply(lambda movieKeywords: [SnowballStemmer('english').stem(word) for word in movieKeywords])"
      ],
      "execution_count": 78,
      "outputs": [
        {
          "output_type": "stream",
          "text": [
            "/usr/local/lib/python3.6/dist-packages/ipykernel_launcher.py:1: SettingWithCopyWarning: \n",
            "A value is trying to be set on a copy of a slice from a DataFrame.\n",
            "Try using .loc[row_indexer,col_indexer] = value instead\n",
            "\n",
            "See the caveats in the documentation: https://pandas.pydata.org/pandas-docs/stable/user_guide/indexing.html#returning-a-view-versus-a-copy\n",
            "  \"\"\"Entry point for launching an IPython kernel.\n"
          ],
          "name": "stderr"
        }
      ]
    },
    {
      "cell_type": "code",
      "metadata": {
        "id": "1bcXPMyC0xIY",
        "colab_type": "code",
        "outputId": "59df9214-8490-4bc5-9773-89a4b3039738",
        "colab": {
          "base_uri": "https://localhost:8080/",
          "height": 119
        }
      },
      "source": [
        "movies_filtered['keywords'] = movies_filtered['keywords'].apply(lambda movieKeywords: [str.lower(word.replace(\" \", \"\")) for word in movieKeywords])"
      ],
      "execution_count": 79,
      "outputs": [
        {
          "output_type": "stream",
          "text": [
            "/usr/local/lib/python3.6/dist-packages/ipykernel_launcher.py:1: SettingWithCopyWarning: \n",
            "A value is trying to be set on a copy of a slice from a DataFrame.\n",
            "Try using .loc[row_indexer,col_indexer] = value instead\n",
            "\n",
            "See the caveats in the documentation: https://pandas.pydata.org/pandas-docs/stable/user_guide/indexing.html#returning-a-view-versus-a-copy\n",
            "  \"\"\"Entry point for launching an IPython kernel.\n"
          ],
          "name": "stderr"
        }
      ]
    },
    {
      "cell_type": "markdown",
      "metadata": {
        "id": "hmZWIYL19ZYf",
        "colab_type": "text"
      },
      "source": [
        "**4. Create Meta Data Dump**"
      ]
    },
    {
      "cell_type": "code",
      "metadata": {
        "id": "3LfYC-Lq1SDb",
        "colab_type": "code",
        "outputId": "930c391b-ffe6-4b1e-fa45-0b1008f0cdc9",
        "colab": {
          "base_uri": "https://localhost:8080/",
          "height": 425
        }
      },
      "source": [
        "movies_filtered['document'] = movies_filtered['keywords'] + movies_filtered['cast'] + movies_filtered['director'] + movies_filtered['genres']\n",
        "movies_filtered['document'] = movies_filtered['document'].apply(lambda x: ' '.join(x))\n",
        "movies_filtered['document'] "
      ],
      "execution_count": 80,
      "outputs": [
        {
          "output_type": "stream",
          "text": [
            "/usr/local/lib/python3.6/dist-packages/ipykernel_launcher.py:1: SettingWithCopyWarning: \n",
            "A value is trying to be set on a copy of a slice from a DataFrame.\n",
            "Try using .loc[row_indexer,col_indexer] = value instead\n",
            "\n",
            "See the caveats in the documentation: https://pandas.pydata.org/pandas-docs/stable/user_guide/indexing.html#returning-a-view-versus-a-copy\n",
            "  \"\"\"Entry point for launching an IPython kernel.\n",
            "/usr/local/lib/python3.6/dist-packages/ipykernel_launcher.py:2: SettingWithCopyWarning: \n",
            "A value is trying to be set on a copy of a slice from a DataFrame.\n",
            "Try using .loc[row_indexer,col_indexer] = value instead\n",
            "\n",
            "See the caveats in the documentation: https://pandas.pydata.org/pandas-docs/stable/user_guide/indexing.html#returning-a-view-versus-a-copy\n",
            "  \n"
          ],
          "name": "stderr"
        },
        {
          "output_type": "execute_result",
          "data": {
            "text/plain": [
              "0        jealousi toy boy friendship friend rivalri boy...\n",
              "1        boardgam disappear basedonchildren'sbook newho...\n",
              "2        fish bestfriend duringcreditssting Walter Matt...\n",
              "3        basedonnovel interracialrelationship singlemot...\n",
              "4        babi midlifecrisi confid age daughter motherda...\n",
              "                               ...                        \n",
              "40952    friendship Sidney Poitier Wendy Crewson Jay O....\n",
              "41172    bollywood Akshay Kumar Ileana D'Cruz Esha Gupt...\n",
              "41225    bollywood Hrithik Roshan Pooja Hegde Kabir Bed...\n",
              "41391    monster godzilla giantmonst destruct kaiju Hir...\n",
              "41669    music documentari Paul McCartney Ringo Starr J...\n",
              "Name: document, Length: 9219, dtype: object"
            ]
          },
          "metadata": {
            "tags": []
          },
          "execution_count": 80
        }
      ]
    },
    {
      "cell_type": "code",
      "metadata": {
        "id": "gdgy_S6C31vb",
        "colab_type": "code",
        "colab": {}
      },
      "source": [
        "count_vector = CountVectorizer(analyzer='word',ngram_range=(1, 2),min_df=0, stop_words='english')\n",
        "count_matrix = count_vector.fit_transform(movies_filtered['document'] )\n",
        "similarity = cosine_similarity(count_matrix, count_matrix)"
      ],
      "execution_count": 0,
      "outputs": []
    },
    {
      "cell_type": "code",
      "metadata": {
        "id": "96a_wAVI353x",
        "colab_type": "code",
        "colab": {}
      },
      "source": [
        "movies_filtered = movies_filtered.reset_index()\n",
        "titles = movies_filtered['title']\n",
        "indices = pd.Series(movies_filtered.index, index=movies_filtered['title'])"
      ],
      "execution_count": 0,
      "outputs": []
    },
    {
      "cell_type": "markdown",
      "metadata": {
        "id": "Q3tytT8I9kxG",
        "colab_type": "text"
      },
      "source": [
        "**5. Get Content Based Recommendations**"
      ]
    },
    {
      "cell_type": "code",
      "metadata": {
        "id": "q8jGcD-t6Fja",
        "colab_type": "code",
        "colab": {}
      },
      "source": [
        "def get_recommendations(title):\n",
        "    idx = indices[title]\n",
        "    sim_scores = list(enumerate(similarity[idx]))\n",
        "    sim_scores = sorted(sim_scores, key=lambda x: x[1], reverse=True)\n",
        "    sim_scores = sim_scores[1:31]\n",
        "    movie_indices = [i[0] for i in sim_scores]\n",
        "    return titles.iloc[movie_indices]"
      ],
      "execution_count": 0,
      "outputs": []
    },
    {
      "cell_type": "code",
      "metadata": {
        "id": "hzuHSZA96IyF",
        "colab_type": "code",
        "colab": {}
      },
      "source": [
        "content_based_recommendations = get_recommendations('Batman Begins').head(10)"
      ],
      "execution_count": 0,
      "outputs": []
    },
    {
      "cell_type": "code",
      "metadata": {
        "id": "c6thmiWS6J-x",
        "colab_type": "code",
        "outputId": "79395990-f307-494c-ea7d-5de8d2fbded1",
        "colab": {
          "base_uri": "https://localhost:8080/",
          "height": 102
        }
      },
      "source": [
        "ratings.count()"
      ],
      "execution_count": 85,
      "outputs": [
        {
          "output_type": "execute_result",
          "data": {
            "text/plain": [
              "userId       100004\n",
              "movieId      100004\n",
              "rating       100004\n",
              "timestamp    100004\n",
              "dtype: int64"
            ]
          },
          "metadata": {
            "tags": []
          },
          "execution_count": 85
        }
      ]
    },
    {
      "cell_type": "markdown",
      "metadata": {
        "id": "JlVDXvy6hiCZ",
        "colab_type": "text"
      },
      "source": [
        "**6. Convert String to numbers**"
      ]
    },
    {
      "cell_type": "code",
      "metadata": {
        "id": "7uOfKqrxhnJp",
        "colab_type": "code",
        "outputId": "265dd559-dab6-48bd-870f-b7f6715dd79a",
        "colab": {
          "base_uri": "https://localhost:8080/",
          "height": 204
        }
      },
      "source": [
        "ratings.userId = ratings.userId.astype(str).astype(int)\n",
        "ratings.movieId = ratings.movieId.astype(str).astype(int)\n",
        "ratings.rating = ratings.rating.astype(str).astype(float)\n",
        "ratings.timestamp = pd.to_datetime(ratings.timestamp.astype(int), unit='s')\n",
        "ratings.head()"
      ],
      "execution_count": 86,
      "outputs": [
        {
          "output_type": "execute_result",
          "data": {
            "text/html": [
              "<div>\n",
              "<style scoped>\n",
              "    .dataframe tbody tr th:only-of-type {\n",
              "        vertical-align: middle;\n",
              "    }\n",
              "\n",
              "    .dataframe tbody tr th {\n",
              "        vertical-align: top;\n",
              "    }\n",
              "\n",
              "    .dataframe thead th {\n",
              "        text-align: right;\n",
              "    }\n",
              "</style>\n",
              "<table border=\"1\" class=\"dataframe\">\n",
              "  <thead>\n",
              "    <tr style=\"text-align: right;\">\n",
              "      <th></th>\n",
              "      <th>userId</th>\n",
              "      <th>movieId</th>\n",
              "      <th>rating</th>\n",
              "      <th>timestamp</th>\n",
              "    </tr>\n",
              "  </thead>\n",
              "  <tbody>\n",
              "    <tr>\n",
              "      <th>0</th>\n",
              "      <td>1</td>\n",
              "      <td>31</td>\n",
              "      <td>2.5</td>\n",
              "      <td>2009-12-14 02:52:24</td>\n",
              "    </tr>\n",
              "    <tr>\n",
              "      <th>1</th>\n",
              "      <td>1</td>\n",
              "      <td>1029</td>\n",
              "      <td>3.0</td>\n",
              "      <td>2009-12-14 02:52:59</td>\n",
              "    </tr>\n",
              "    <tr>\n",
              "      <th>2</th>\n",
              "      <td>1</td>\n",
              "      <td>1061</td>\n",
              "      <td>3.0</td>\n",
              "      <td>2009-12-14 02:53:02</td>\n",
              "    </tr>\n",
              "    <tr>\n",
              "      <th>3</th>\n",
              "      <td>1</td>\n",
              "      <td>1129</td>\n",
              "      <td>2.0</td>\n",
              "      <td>2009-12-14 02:53:05</td>\n",
              "    </tr>\n",
              "    <tr>\n",
              "      <th>4</th>\n",
              "      <td>1</td>\n",
              "      <td>1172</td>\n",
              "      <td>4.0</td>\n",
              "      <td>2009-12-14 02:53:25</td>\n",
              "    </tr>\n",
              "  </tbody>\n",
              "</table>\n",
              "</div>"
            ],
            "text/plain": [
              "   userId  movieId  rating           timestamp\n",
              "0       1       31     2.5 2009-12-14 02:52:24\n",
              "1       1     1029     3.0 2009-12-14 02:52:59\n",
              "2       1     1061     3.0 2009-12-14 02:53:02\n",
              "3       1     1129     2.0 2009-12-14 02:53:05\n",
              "4       1     1172     4.0 2009-12-14 02:53:25"
            ]
          },
          "metadata": {
            "tags": []
          },
          "execution_count": 86
        }
      ]
    },
    {
      "cell_type": "code",
      "metadata": {
        "id": "5YPaAO6yqIZr",
        "colab_type": "code",
        "outputId": "3e35c8ca-9735-4174-c197-a4a3540d131e",
        "colab": {
          "base_uri": "https://localhost:8080/",
          "height": 34
        }
      },
      "source": [
        "len(movies_filtered)"
      ],
      "execution_count": 87,
      "outputs": [
        {
          "output_type": "execute_result",
          "data": {
            "text/plain": [
              "9219"
            ]
          },
          "metadata": {
            "tags": []
          },
          "execution_count": 87
        }
      ]
    },
    {
      "cell_type": "code",
      "metadata": {
        "id": "3jHBWFgXVW2b",
        "colab_type": "code",
        "colab": {}
      },
      "source": [
        "movies_filtered['List Index']=movies_filtered.index.astype(str).astype(int)"
      ],
      "execution_count": 0,
      "outputs": []
    },
    {
      "cell_type": "code",
      "metadata": {
        "id": "7EfOqDbCWzfS",
        "colab_type": "code",
        "colab": {}
      },
      "source": [
        "data_combined=pd.merge(movies_filtered, ratings, left_on='id' , right_on='movieId')"
      ],
      "execution_count": 0,
      "outputs": []
    },
    {
      "cell_type": "code",
      "metadata": {
        "id": "jvbDE_sVz5Ic",
        "colab_type": "code",
        "colab": {}
      },
      "source": [
        "def getCombinedData():\n",
        "  return data_combined"
      ],
      "execution_count": 0,
      "outputs": []
    },
    {
      "cell_type": "code",
      "metadata": {
        "id": "6X1YR-bKYSSv",
        "colab_type": "code",
        "outputId": "60679d79-b2e7-4849-b683-1bc7c5db9f22",
        "colab": {
          "base_uri": "https://localhost:8080/",
          "height": 204
        }
      },
      "source": [
        "data_combined = data_combined[['movieId', 'List Index', 'userId', 'rating']]\n",
        "data_combined['List Index']=data_combined['List Index'].astype(str).astype(int)\n",
        "data_combined.head()"
      ],
      "execution_count": 91,
      "outputs": [
        {
          "output_type": "execute_result",
          "data": {
            "text/html": [
              "<div>\n",
              "<style scoped>\n",
              "    .dataframe tbody tr th:only-of-type {\n",
              "        vertical-align: middle;\n",
              "    }\n",
              "\n",
              "    .dataframe tbody tr th {\n",
              "        vertical-align: top;\n",
              "    }\n",
              "\n",
              "    .dataframe thead th {\n",
              "        text-align: right;\n",
              "    }\n",
              "</style>\n",
              "<table border=\"1\" class=\"dataframe\">\n",
              "  <thead>\n",
              "    <tr style=\"text-align: right;\">\n",
              "      <th></th>\n",
              "      <th>movieId</th>\n",
              "      <th>List Index</th>\n",
              "      <th>userId</th>\n",
              "      <th>rating</th>\n",
              "    </tr>\n",
              "  </thead>\n",
              "  <tbody>\n",
              "    <tr>\n",
              "      <th>0</th>\n",
              "      <td>949</td>\n",
              "      <td>5</td>\n",
              "      <td>23</td>\n",
              "      <td>3.5</td>\n",
              "    </tr>\n",
              "    <tr>\n",
              "      <th>1</th>\n",
              "      <td>949</td>\n",
              "      <td>5</td>\n",
              "      <td>102</td>\n",
              "      <td>4.0</td>\n",
              "    </tr>\n",
              "    <tr>\n",
              "      <th>2</th>\n",
              "      <td>949</td>\n",
              "      <td>5</td>\n",
              "      <td>232</td>\n",
              "      <td>2.0</td>\n",
              "    </tr>\n",
              "    <tr>\n",
              "      <th>3</th>\n",
              "      <td>949</td>\n",
              "      <td>5</td>\n",
              "      <td>242</td>\n",
              "      <td>5.0</td>\n",
              "    </tr>\n",
              "    <tr>\n",
              "      <th>4</th>\n",
              "      <td>949</td>\n",
              "      <td>5</td>\n",
              "      <td>263</td>\n",
              "      <td>3.0</td>\n",
              "    </tr>\n",
              "  </tbody>\n",
              "</table>\n",
              "</div>"
            ],
            "text/plain": [
              "   movieId  List Index  userId  rating\n",
              "0      949           5      23     3.5\n",
              "1      949           5     102     4.0\n",
              "2      949           5     232     2.0\n",
              "3      949           5     242     5.0\n",
              "4      949           5     263     3.0"
            ]
          },
          "metadata": {
            "tags": []
          },
          "execution_count": 91
        }
      ]
    },
    {
      "cell_type": "markdown",
      "metadata": {
        "id": "4XLapn77q6uU",
        "colab_type": "text"
      },
      "source": [
        "**7. Group By UserId**"
      ]
    },
    {
      "cell_type": "code",
      "metadata": {
        "id": "s59xmV1kqdUL",
        "colab_type": "code",
        "colab": {}
      },
      "source": [
        "user_group = data_combined.groupby('userId')"
      ],
      "execution_count": 0,
      "outputs": []
    },
    {
      "cell_type": "code",
      "metadata": {
        "id": "-c9pp063xf28",
        "colab_type": "code",
        "outputId": "0a81b0dc-25d5-4c39-9e49-8651a4765100",
        "colab": {
          "base_uri": "https://localhost:8080/",
          "height": 34
        }
      },
      "source": [
        "n_users = user_group.first().shape[0]\n",
        "n_users"
      ],
      "execution_count": 93,
      "outputs": [
        {
          "output_type": "execute_result",
          "data": {
            "text/plain": [
              "671"
            ]
          },
          "metadata": {
            "tags": []
          },
          "execution_count": 93
        }
      ]
    },
    {
      "cell_type": "markdown",
      "metadata": {
        "id": "v57mljz0-AMS",
        "colab_type": "text"
      },
      "source": [
        "**8. Create User Movie Rating matrix**"
      ]
    },
    {
      "cell_type": "code",
      "metadata": {
        "id": "sg_QbwTaqXhZ",
        "colab_type": "code",
        "colab": {}
      },
      "source": [
        "totalUsers=n_users\n",
        "user_movie = [None]* n_users\n",
        "\n",
        "for userId, curUser in user_group:\n",
        "  temp = [0]* len(movies_filtered)\n",
        "\n",
        "  for num, movie in curUser.iterrows():\n",
        "    temp[int(movie['List Index'])] = movie['rating']/5.0\n",
        "  user_movie[userId-1]=temp\n",
        "\n",
        "  if totalUsers == 0:\n",
        "    break\n",
        "  totalUsers-=1"
      ],
      "execution_count": 0,
      "outputs": []
    },
    {
      "cell_type": "code",
      "metadata": {
        "id": "H8S9j9sDemtd",
        "colab_type": "code",
        "outputId": "4fccde20-91e3-4da1-a007-d6e9c4ec961f",
        "colab": {
          "base_uri": "https://localhost:8080/",
          "height": 34
        }
      },
      "source": [
        "len(user_movie)"
      ],
      "execution_count": 95,
      "outputs": [
        {
          "output_type": "execute_result",
          "data": {
            "text/plain": [
              "671"
            ]
          },
          "metadata": {
            "tags": []
          },
          "execution_count": 95
        }
      ]
    },
    {
      "cell_type": "markdown",
      "metadata": {
        "id": "nIJGuil7-MfC",
        "colab_type": "text"
      },
      "source": [
        "**9. Create RBM Layers**"
      ]
    },
    {
      "cell_type": "code",
      "metadata": {
        "id": "tcgjdUHwcvlY",
        "colab_type": "code",
        "colab": {}
      },
      "source": [
        "hidden_units=256\n",
        "visible_units = len(movies_filtered)\n",
        "visible = tf.placeholder(\"float\", [visible_units])\n",
        "hidden = tf.placeholder(\"float\", [hidden_units])\n",
        "w= tf.placeholder(\"float\", [visible_units, hidden_units])"
      ],
      "execution_count": 0,
      "outputs": []
    },
    {
      "cell_type": "markdown",
      "metadata": {
        "id": "pABhKr7ciXPM",
        "colab_type": "text"
      },
      "source": [
        "**10. Forward pass**"
      ]
    },
    {
      "cell_type": "code",
      "metadata": {
        "id": "0qdWPCIXl-D_",
        "colab_type": "code",
        "colab": {}
      },
      "source": [
        "v0 = tf.placeholder(\"float\", [None, visible_units])\n",
        "_h0 = tf.nn.sigmoid(tf.matmul(v0, w)+hidden)\n",
        "h0 = tf.nn.relu(tf.sign(_h0 - tf.random_uniform(tf.shape(_h0))))"
      ],
      "execution_count": 0,
      "outputs": []
    },
    {
      "cell_type": "markdown",
      "metadata": {
        "id": "FZG4FDS6jKj9",
        "colab_type": "text"
      },
      "source": [
        "**11. Backward pass**"
      ]
    },
    {
      "cell_type": "code",
      "metadata": {
        "id": "Am_T7zWHjJhR",
        "colab_type": "code",
        "colab": {}
      },
      "source": [
        "_v1 = tf.nn.sigmoid(tf.matmul(h0, tf.transpose(w))+visible)  \n",
        "v1 = tf.nn.relu(tf.sign(_v1 - tf.random_uniform(tf.shape(_v1))))\n",
        "h1 = tf.nn.sigmoid(tf.matmul(v1, w)+ hidden)"
      ],
      "execution_count": 0,
      "outputs": []
    },
    {
      "cell_type": "code",
      "metadata": {
        "id": "_KiGao2woLJo",
        "colab_type": "code",
        "colab": {}
      },
      "source": [
        "alpha = 0.5\n",
        "positive_phase = tf.matmul(tf.transpose(v0), h0)\n",
        "negative_phase = tf.matmul(tf.transpose(v1), h1)\n",
        "contrastive_divergernce = positive_phase - negative_phase\n",
        "contrastive_divergernce = contrastive_divergernce/tf.to_float(tf.shape(v0)[0])\n",
        "update_w = w+ alpha * contrastive_divergernce\n",
        "update_vb = visible + alpha * tf.reduce_mean(v0-v1, 0)\n",
        "update_hb = hidden + alpha * tf.reduce_mean(h0-h1, 0)"
      ],
      "execution_count": 0,
      "outputs": []
    },
    {
      "cell_type": "code",
      "metadata": {
        "id": "RH8C5GKtoU_C",
        "colab_type": "code",
        "colab": {}
      },
      "source": [
        "err = v0-v1\n",
        "err_sum = tf.reduce_mean(err * err)"
      ],
      "execution_count": 0,
      "outputs": []
    },
    {
      "cell_type": "code",
      "metadata": {
        "id": "4teF2A-cotTm",
        "colab_type": "code",
        "colab": {}
      },
      "source": [
        "cur_w = np.zeros([visible_units, hidden_units], np.float32)\n",
        "cur_vb = np.zeros([visible_units], np.float32)\n",
        "cur_hb = np.zeros([hidden_units], np.float32)\n",
        "\n",
        "prev_w = np.zeros([visible_units, hidden_units], np.float32)\n",
        "prev_vb = np.zeros([visible_units], np.float32)\n",
        "prev_hb = np.zeros([hidden_units], np.float32)\n",
        "\n",
        "sess = tf.Session()\n",
        "sess.run(tf.global_variables_initializer())"
      ],
      "execution_count": 0,
      "outputs": []
    },
    {
      "cell_type": "markdown",
      "metadata": {
        "id": "MKVjv2sQ-UXE",
        "colab_type": "text"
      },
      "source": [
        "**12. Train the model**"
      ]
    },
    {
      "cell_type": "code",
      "metadata": {
        "id": "fTsFIl_Ep75h",
        "colab_type": "code",
        "outputId": "fb2fb5f0-7c8c-4402-dc2d-08d83828ad0c",
        "colab": {
          "base_uri": "https://localhost:8080/",
          "height": 357
        }
      },
      "source": [
        "epochs=20\n",
        "batchsize=20\n",
        "errors=[]\n",
        "for i in range(epochs):\n",
        "  for start, end in zip(range(0, len(user_movie), batchsize), range(batchsize, len(user_movie), batchsize) ):\n",
        "    batch = user_movie[start:end]\n",
        "    cur_w = sess.run(update_w, feed_dict={v0 : batch, w : prev_w, visible: prev_vb , hidden : prev_hb})\n",
        "    cur_vb = sess.run(update_vb, feed_dict={v0 : batch, w : prev_w, visible: prev_vb , hidden : prev_hb})\n",
        "    cur_hb = sess.run(update_hb, feed_dict={v0 : batch, w : prev_w, visible: prev_vb , hidden : prev_hb})\n",
        "    prev_w = cur_w\n",
        "    prev_vb = prev_vb\n",
        "    prev_hb = prev_hb\n",
        "  errors.append(sess.run(err_sum, feed_dict={v0 : user_movie, w : cur_w, visible: cur_vb , hidden : cur_hb}))\n",
        "  print(errors[-1])\n"
      ],
      "execution_count": 102,
      "outputs": [
        {
          "output_type": "stream",
          "text": [
            "0.03696533\n",
            "0.023994155\n",
            "0.020508904\n",
            "0.01839812\n",
            "0.016867168\n",
            "0.016318215\n",
            "0.015423574\n",
            "0.014647556\n",
            "0.013639659\n",
            "0.0133565655\n",
            "0.012810909\n",
            "0.0122020785\n",
            "0.012166869\n",
            "0.011748016\n",
            "0.011321535\n",
            "0.010944227\n",
            "0.010292557\n",
            "0.010388645\n",
            "0.010070052\n",
            "0.009865913\n"
          ],
          "name": "stdout"
        }
      ]
    },
    {
      "cell_type": "code",
      "metadata": {
        "id": "W7XIe_8m9-E7",
        "colab_type": "code",
        "outputId": "3759c051-7b24-4cb8-8e4b-184a41179ad6",
        "colab": {
          "base_uri": "https://localhost:8080/",
          "height": 279
        }
      },
      "source": [
        "plt.plot(errors, label=\"train RMSE\")\n",
        "plt.ylabel('Errors')\n",
        "plt.legend()\n",
        "plt.xlabel('Epoch')\n",
        "plt.show()"
      ],
      "execution_count": 103,
      "outputs": [
        {
          "output_type": "display_data",
          "data": {
            "image/png": "[encoded data removed]",
            "text/plain": [
              "<Figure size 432x288 with 1 Axes>"
            ]
          },
          "metadata": {
            "tags": [],
            "needs_background": "light"
          }
        }
      ]
    },
    {
      "cell_type": "markdown",
      "metadata": {
        "id": "cUs12yZ6-j0i",
        "colab_type": "text"
      },
      "source": [
        "**13. Predict For Test User**"
      ]
    },
    {
      "cell_type": "code",
      "metadata": {
        "id": "MbjnBcg9sdd3",
        "colab_type": "code",
        "colab": {}
      },
      "source": [
        "testUserId =21\n",
        "testUser = [user_movie[testUserId-1]]"
      ],
      "execution_count": 0,
      "outputs": []
    },
    {
      "cell_type": "code",
      "metadata": {
        "id": "RrMFM_2Gs20B",
        "colab_type": "code",
        "colab": {}
      },
      "source": [
        "hh0 = tf.nn.sigmoid(tf.matmul(v0, w)+hidden)\n",
        "vv1 = tf.nn.sigmoid(tf.matmul(hh0, tf.transpose(w))+visible)\n",
        "feed = sess.run(hh0, feed_dict={v0 : testUser, w: prev_w, hidden : prev_hb})\n",
        "rec = sess.run(vv1, feed_dict={hh0 : feed, w: prev_w, visible : prev_vb})"
      ],
      "execution_count": 0,
      "outputs": []
    },
    {
      "cell_type": "code",
      "metadata": {
        "id": "c9_vxhDfAOy4",
        "colab_type": "code",
        "colab": {}
      },
      "source": [
        "scored_movies=movies_filtered\n",
        "scored_movies['Recommended Scores']=rec[0]"
      ],
      "execution_count": 0,
      "outputs": []
    },
    {
      "cell_type": "code",
      "metadata": {
        "id": "MMCMY5lsCMR4",
        "colab_type": "code",
        "colab": {
          "base_uri": "https://localhost:8080/",
          "height": 1000
        },
        "outputId": "011c7306-91fd-4be7-d8c1-8bc4324f6c0b"
      },
      "source": [
        "scored_movies.sort_values(['Recommended Scores'], ascending=False).head(10)"
      ],
      "execution_count": 107,
      "outputs": [
        {
          "output_type": "execute_result",
          "data": {
            "text/html": [
              "<div>\n",
              "<style scoped>\n",
              "    .dataframe tbody tr th:only-of-type {\n",
              "        vertical-align: middle;\n",
              "    }\n",
              "\n",
              "    .dataframe tbody tr th {\n",
              "        vertical-align: top;\n",
              "    }\n",
              "\n",
              "    .dataframe thead th {\n",
              "        text-align: right;\n",
              "    }\n",
              "</style>\n",
              "<table border=\"1\" class=\"dataframe\">\n",
              "  <thead>\n",
              "    <tr style=\"text-align: right;\">\n",
              "      <th></th>\n",
              "      <th>index</th>\n",
              "      <th>adult</th>\n",
              "      <th>belongs_to_collection</th>\n",
              "      <th>budget</th>\n",
              "      <th>genres</th>\n",
              "      <th>homepage</th>\n",
              "      <th>id</th>\n",
              "      <th>imdb_id</th>\n",
              "      <th>original_language</th>\n",
              "      <th>original_title</th>\n",
              "      <th>overview</th>\n",
              "      <th>popularity</th>\n",
              "      <th>poster_path</th>\n",
              "      <th>production_companies</th>\n",
              "      <th>production_countries</th>\n",
              "      <th>release_date</th>\n",
              "      <th>revenue</th>\n",
              "      <th>runtime</th>\n",
              "      <th>spoken_languages</th>\n",
              "      <th>status</th>\n",
              "      <th>tagline</th>\n",
              "      <th>title</th>\n",
              "      <th>video</th>\n",
              "      <th>vote_average</th>\n",
              "      <th>vote_count</th>\n",
              "      <th>cast</th>\n",
              "      <th>crew</th>\n",
              "      <th>keywords</th>\n",
              "      <th>cast_size</th>\n",
              "      <th>crew_size</th>\n",
              "      <th>director</th>\n",
              "      <th>document</th>\n",
              "      <th>List Index</th>\n",
              "      <th>Recommended Scores</th>\n",
              "    </tr>\n",
              "  </thead>\n",
              "  <tbody>\n",
              "    <tr>\n",
              "      <th>4106</th>\n",
              "      <td>5239</td>\n",
              "      <td>False</td>\n",
              "      <td>NaN</td>\n",
              "      <td>0</td>\n",
              "      <td>[Documentary]</td>\n",
              "      <td>http://www.sonypictures.com/classics/dogtown/</td>\n",
              "      <td>1282</td>\n",
              "      <td>tt0275309</td>\n",
              "      <td>en</td>\n",
              "      <td>Dogtown and Z-Boys</td>\n",
              "      <td>Dogtown and Z-Boys follows the evolution of sk...</td>\n",
              "      <td>4.70409</td>\n",
              "      <td>/yS11joPn962PSp8iBsmcaZLWN4M.jpg</td>\n",
              "      <td>[{'name': 'Agi Orsi Productions', 'id': 794}, ...</td>\n",
              "      <td>[{'iso_3166_1': 'US', 'name': 'United States o...</td>\n",
              "      <td>2001-01-18</td>\n",
              "      <td>0.0</td>\n",
              "      <td>91.0</td>\n",
              "      <td>[{'iso_639_1': 'en', 'name': 'English'}]</td>\n",
              "      <td>Released</td>\n",
              "      <td>NaN</td>\n",
              "      <td>Dogtown and Z-Boys</td>\n",
              "      <td>False</td>\n",
              "      <td>7.2</td>\n",
              "      <td>53.0</td>\n",
              "      <td>[Sean Penn, Jay Adams, Henry Rollins]</td>\n",
              "      <td>[{'credit_id': '52fe42edc3a36847f802d873', 'de...</td>\n",
              "      <td>[skateboard, independentfilm]</td>\n",
              "      <td>9</td>\n",
              "      <td>7</td>\n",
              "      <td>[stacyperalta, stacyperalta, stacyperalta]</td>\n",
              "      <td>skateboard independentfilm Sean Penn Jay Adams...</td>\n",
              "      <td>4106</td>\n",
              "      <td>0.998474</td>\n",
              "    </tr>\n",
              "    <tr>\n",
              "      <th>2155</th>\n",
              "      <td>2576</td>\n",
              "      <td>False</td>\n",
              "      <td>NaN</td>\n",
              "      <td>42000000</td>\n",
              "      <td>[Romance, Comedy, Drama]</td>\n",
              "      <td>http://www.notting-hill.com/</td>\n",
              "      <td>509</td>\n",
              "      <td>tt0125439</td>\n",
              "      <td>en</td>\n",
              "      <td>Notting Hill</td>\n",
              "      <td>The British comedy from director Roger Michell...</td>\n",
              "      <td>9.87404</td>\n",
              "      <td>/f1gMw3PVicfdq9thlvUIjJ5UdvS.jpg</td>\n",
              "      <td>[{'name': 'Bookshop Productions', 'id': 282}, ...</td>\n",
              "      <td>[{'iso_3166_1': 'GB', 'name': 'United Kingdom'...</td>\n",
              "      <td>1999-05-13</td>\n",
              "      <td>363889678.0</td>\n",
              "      <td>124.0</td>\n",
              "      <td>[{'iso_639_1': 'en', 'name': 'English'}, {'iso...</td>\n",
              "      <td>Released</td>\n",
              "      <td>Can the most famous film star in the world fal...</td>\n",
              "      <td>Notting Hill</td>\n",
              "      <td>False</td>\n",
              "      <td>7.0</td>\n",
              "      <td>1309.0</td>\n",
              "      <td>[Julia Roberts, Hugh Grant, Gina McKee]</td>\n",
              "      <td>[{'credit_id': '52fe424cc3a36847f8013427', 'de...</td>\n",
              "      <td>[londonengland, bookshop, birthday, newlov, fi...</td>\n",
              "      <td>27</td>\n",
              "      <td>11</td>\n",
              "      <td>[rogermichell, rogermichell, rogermichell]</td>\n",
              "      <td>londonengland bookshop birthday newlov filmmak...</td>\n",
              "      <td>2155</td>\n",
              "      <td>0.996324</td>\n",
              "    </tr>\n",
              "    <tr>\n",
              "      <th>6205</th>\n",
              "      <td>10177</td>\n",
              "      <td>False</td>\n",
              "      <td>{'id': 14740, 'name': 'Madagascar Collection',...</td>\n",
              "      <td>75000000</td>\n",
              "      <td>[Family, Animation]</td>\n",
              "      <td>NaN</td>\n",
              "      <td>953</td>\n",
              "      <td>tt0351283</td>\n",
              "      <td>en</td>\n",
              "      <td>Madagascar</td>\n",
              "      <td>Zoo animals leave the comforts of man-made hab...</td>\n",
              "      <td>16.1362</td>\n",
              "      <td>/2YiESGB68BGQSAFvfJxBi774sc4.jpg</td>\n",
              "      <td>[{'name': 'DreamWorks SKG', 'id': 27}, {'name'...</td>\n",
              "      <td>[{'iso_3166_1': 'US', 'name': 'United States o...</td>\n",
              "      <td>2005-05-25</td>\n",
              "      <td>532680671.0</td>\n",
              "      <td>86.0</td>\n",
              "      <td>[{'iso_639_1': 'en', 'name': 'English'}, {'iso...</td>\n",
              "      <td>Released</td>\n",
              "      <td>Someone's got a zoo loose.</td>\n",
              "      <td>Madagascar</td>\n",
              "      <td>False</td>\n",
              "      <td>6.6</td>\n",
              "      <td>3322.0</td>\n",
              "      <td>[Ben Stiller, Chris Rock, David Schwimmer]</td>\n",
              "      <td>[{'credit_id': '557caebfc3a3686334002304', 'de...</td>\n",
              "      <td>[lion, hippopotamus, giraff, penguin, zebra]</td>\n",
              "      <td>21</td>\n",
              "      <td>55</td>\n",
              "      <td>[ericdarnell, ericdarnell, ericdarnell]</td>\n",
              "      <td>lion hippopotamus giraff penguin zebra Ben Sti...</td>\n",
              "      <td>6205</td>\n",
              "      <td>0.995655</td>\n",
              "    </tr>\n",
              "    <tr>\n",
              "      <th>6664</th>\n",
              "      <td>11590</td>\n",
              "      <td>False</td>\n",
              "      <td>NaN</td>\n",
              "      <td>15000000</td>\n",
              "      <td>[Drama, Romance]</td>\n",
              "      <td>http://www.foxsearchlight.com/NOAS/</td>\n",
              "      <td>1259</td>\n",
              "      <td>tt0465551</td>\n",
              "      <td>en</td>\n",
              "      <td>Notes on a Scandal</td>\n",
              "      <td>A veteran high school teacher befriends a youn...</td>\n",
              "      <td>8.59309</td>\n",
              "      <td>/auGdbhh2LklmZV1LLLwQ5uvHiX4.jpg</td>\n",
              "      <td>[{'name': 'Fox Searchlight Pictures', 'id': 43...</td>\n",
              "      <td>[{'iso_3166_1': 'GB', 'name': 'United Kingdom'}]</td>\n",
              "      <td>2006-12-25</td>\n",
              "      <td>49469904.0</td>\n",
              "      <td>92.0</td>\n",
              "      <td>[{'iso_639_1': 'en', 'name': 'English'}, {'iso...</td>\n",
              "      <td>Released</td>\n",
              "      <td>One woman's secret is another woman's power. O...</td>\n",
              "      <td>Notes on a Scandal</td>\n",
              "      <td>False</td>\n",
              "      <td>6.9</td>\n",
              "      <td>239.0</td>\n",
              "      <td>[Judi Dench, Cate Blanchett, Bill Nighy]</td>\n",
              "      <td>[{'credit_id': '52fe42ebc3a36847f802cc2b', 'de...</td>\n",
              "      <td>[sex, adulteri, basedonnovel, cat, infidel, se...</td>\n",
              "      <td>23</td>\n",
              "      <td>15</td>\n",
              "      <td>[richardeyre, richardeyre, richardeyre]</td>\n",
              "      <td>sex adulteri basedonnovel cat infidel secret o...</td>\n",
              "      <td>6664</td>\n",
              "      <td>0.994807</td>\n",
              "    </tr>\n",
              "    <tr>\n",
              "      <th>1938</th>\n",
              "      <td>2318</td>\n",
              "      <td>False</td>\n",
              "      <td>{'id': 1575, 'name': 'Rocky Collection', 'post...</td>\n",
              "      <td>31000000</td>\n",
              "      <td>[Drama]</td>\n",
              "      <td>NaN</td>\n",
              "      <td>1374</td>\n",
              "      <td>tt0089927</td>\n",
              "      <td>en</td>\n",
              "      <td>Rocky IV</td>\n",
              "      <td>Rocky must come out of retirement to battle a ...</td>\n",
              "      <td>10.2572</td>\n",
              "      <td>/q2nkVddOshjhJ19oQYmViQHxyjj.jpg</td>\n",
              "      <td>[{'name': 'United Artists', 'id': 60}]</td>\n",
              "      <td>[{'iso_3166_1': 'US', 'name': 'United States o...</td>\n",
              "      <td>1985-11-21</td>\n",
              "      <td>300473716.0</td>\n",
              "      <td>91.0</td>\n",
              "      <td>[{'iso_639_1': 'en', 'name': 'English'}]</td>\n",
              "      <td>Released</td>\n",
              "      <td>He's facing the ultimate challenge. And fighti...</td>\n",
              "      <td>Rocky IV</td>\n",
              "      <td>False</td>\n",
              "      <td>6.6</td>\n",
              "      <td>984.0</td>\n",
              "      <td>[Sylvester Stallone, Talia Shire, Burt Young]</td>\n",
              "      <td>[{'credit_id': '52fe42f1c3a36847f802e859', 'de...</td>\n",
              "      <td>[usa, transport, lossoflov, coldwar, sovietuni...</td>\n",
              "      <td>20</td>\n",
              "      <td>18</td>\n",
              "      <td>[sylvesterstallone, sylvesterstallone, sylvest...</td>\n",
              "      <td>usa transport lossoflov coldwar sovietunion bo...</td>\n",
              "      <td>1938</td>\n",
              "      <td>0.993064</td>\n",
              "    </tr>\n",
              "    <tr>\n",
              "      <th>2231</th>\n",
              "      <td>2676</td>\n",
              "      <td>False</td>\n",
              "      <td>NaN</td>\n",
              "      <td>4300000</td>\n",
              "      <td>[Romance, Crime, Thriller, Drama]</td>\n",
              "      <td>NaN</td>\n",
              "      <td>912</td>\n",
              "      <td>tt0063688</td>\n",
              "      <td>en</td>\n",
              "      <td>The Thomas Crown Affair</td>\n",
              "      <td>Young businessman, Thomas Crown is bored and d...</td>\n",
              "      <td>9.44482</td>\n",
              "      <td>/ran8o8yJFj2rUp2x8JiO23BhN4L.jpg</td>\n",
              "      <td>[{'name': 'The Mirisch Corporation', 'id': 219...</td>\n",
              "      <td>[{'iso_3166_1': 'US', 'name': 'United States o...</td>\n",
              "      <td>1968-06-19</td>\n",
              "      <td>0.0</td>\n",
              "      <td>102.0</td>\n",
              "      <td>[{'iso_639_1': 'en', 'name': 'English'}]</td>\n",
              "      <td>Released</td>\n",
              "      <td>NaN</td>\n",
              "      <td>The Thomas Crown Affair</td>\n",
              "      <td>False</td>\n",
              "      <td>6.9</td>\n",
              "      <td>95.0</td>\n",
              "      <td>[Steve McQueen, Faye Dunaway, Paul Burke]</td>\n",
              "      <td>[{'credit_id': '52fe428cc3a36847f802729d', 'de...</td>\n",
              "      <td>[inlovewithenemi, hold-uprobberi, boredom, ins...</td>\n",
              "      <td>21</td>\n",
              "      <td>17</td>\n",
              "      <td>[normanjewison, normanjewison, normanjewison]</td>\n",
              "      <td>inlovewithenemi hold-uprobberi boredom insuran...</td>\n",
              "      <td>2231</td>\n",
              "      <td>0.993035</td>\n",
              "    </tr>\n",
              "    <tr>\n",
              "      <th>6700</th>\n",
              "      <td>11701</td>\n",
              "      <td>False</td>\n",
              "      <td>{'id': 90306, 'name': 'Ghost Rider Collection'...</td>\n",
              "      <td>110000000</td>\n",
              "      <td>[Thriller, Action, Fantasy, Horror]</td>\n",
              "      <td>http://www.sonypictures.com/movies/ghostrider/</td>\n",
              "      <td>1250</td>\n",
              "      <td>tt0259324</td>\n",
              "      <td>en</td>\n",
              "      <td>Ghost Rider</td>\n",
              "      <td>In order to save his dying father, young stunt...</td>\n",
              "      <td>11.9024</td>\n",
              "      <td>/jnllnSq8u4d1oQPU7PsoAHD6bLU.jpg</td>\n",
              "      <td>[{'name': 'Columbia Pictures Corporation', 'id...</td>\n",
              "      <td>[{'iso_3166_1': 'US', 'name': 'United States o...</td>\n",
              "      <td>2007-02-16</td>\n",
              "      <td>228738393.0</td>\n",
              "      <td>114.0</td>\n",
              "      <td>[{'iso_639_1': 'en', 'name': 'English'}]</td>\n",
              "      <td>Released</td>\n",
              "      <td>Hell Is About To Be Unleashed</td>\n",
              "      <td>Ghost Rider</td>\n",
              "      <td>False</td>\n",
              "      <td>5.2</td>\n",
              "      <td>1754.0</td>\n",
              "      <td>[Nicolas Cage, Eva Mendes, Wes Bentley]</td>\n",
              "      <td>[{'credit_id': '552e34e692514138730082ed', 'de...</td>\n",
              "      <td>[religionandsupernatur, dyinganddeath, devil's...</td>\n",
              "      <td>19</td>\n",
              "      <td>58</td>\n",
              "      <td>[markstevenjohnson, markstevenjohnson, markste...</td>\n",
              "      <td>religionandsupernatur dyinganddeath devil'sson...</td>\n",
              "      <td>6700</td>\n",
              "      <td>0.991896</td>\n",
              "    </tr>\n",
              "    <tr>\n",
              "      <th>2813</th>\n",
              "      <td>3409</td>\n",
              "      <td>False</td>\n",
              "      <td>NaN</td>\n",
              "      <td>0</td>\n",
              "      <td>[Drama, Science Fiction, Adventure, Mystery]</td>\n",
              "      <td>NaN</td>\n",
              "      <td>593</td>\n",
              "      <td>tt0069293</td>\n",
              "      <td>ru</td>\n",
              "      <td>Солярис</td>\n",
              "      <td>Ground control has been receiving strange tran...</td>\n",
              "      <td>11.0598</td>\n",
              "      <td>/nsGLKlwEOtqatz8yRdxOlAw5utr.jpg</td>\n",
              "      <td>[{'name': 'Mosfilm', 'id': 5120}, {'name': 'Cr...</td>\n",
              "      <td>[{'iso_3166_1': 'RU', 'name': 'Russia'}]</td>\n",
              "      <td>1972-03-20</td>\n",
              "      <td>0.0</td>\n",
              "      <td>167.0</td>\n",
              "      <td>[{'iso_639_1': 'ru', 'name': 'Pусский'}]</td>\n",
              "      <td>Released</td>\n",
              "      <td>NaN</td>\n",
              "      <td>Solaris</td>\n",
              "      <td>False</td>\n",
              "      <td>7.7</td>\n",
              "      <td>364.0</td>\n",
              "      <td>[Donatas Banionis, Natalya Bondarchuk, Jüri Jä...</td>\n",
              "      <td>[{'credit_id': '52fe4259c3a36847f8017569', 'de...</td>\n",
              "      <td>[1970s, lossofsenseofr, extraterrestrialtechno...</td>\n",
              "      <td>10</td>\n",
              "      <td>21</td>\n",
              "      <td>[andreitarkovsky, andreitarkovsky, andreitarko...</td>\n",
              "      <td>1970s lossofsenseofr extraterrestrialtechnolog...</td>\n",
              "      <td>2813</td>\n",
              "      <td>0.988200</td>\n",
              "    </tr>\n",
              "    <tr>\n",
              "      <th>7267</th>\n",
              "      <td>13731</td>\n",
              "      <td>False</td>\n",
              "      <td>NaN</td>\n",
              "      <td>0</td>\n",
              "      <td>[Drama, Music]</td>\n",
              "      <td>NaN</td>\n",
              "      <td>1387</td>\n",
              "      <td>tt0094075</td>\n",
              "      <td>en</td>\n",
              "      <td>Superstar: The Karen Carpenter Story</td>\n",
              "      <td>The final 17 years of American singer and musi...</td>\n",
              "      <td>0.640356</td>\n",
              "      <td>/1JYPLVtOrkYNKplhrYrn0OETzM6.jpg</td>\n",
              "      <td>[{'name': 'Iced Tea Productions', 'id': 15830}]</td>\n",
              "      <td>[{'iso_3166_1': 'US', 'name': 'United States o...</td>\n",
              "      <td>1988-04-30</td>\n",
              "      <td>0.0</td>\n",
              "      <td>43.0</td>\n",
              "      <td>[{'iso_639_1': 'en', 'name': 'English'}]</td>\n",
              "      <td>Released</td>\n",
              "      <td>NaN</td>\n",
              "      <td>Superstar: The Karen Carpenter Story</td>\n",
              "      <td>False</td>\n",
              "      <td>7.5</td>\n",
              "      <td>12.0</td>\n",
              "      <td>[Merrill Gruver, Michael Edwards, Melissa Brown]</td>\n",
              "      <td>[{'credit_id': '52fe42f2c3a36847f802eee3', 'de...</td>\n",
              "      <td>[bulimia, barbi]</td>\n",
              "      <td>6</td>\n",
              "      <td>5</td>\n",
              "      <td>[toddhaynes, toddhaynes, toddhaynes]</td>\n",
              "      <td>bulimia barbi Merrill Gruver Michael Edwards M...</td>\n",
              "      <td>7267</td>\n",
              "      <td>0.983759</td>\n",
              "    </tr>\n",
              "    <tr>\n",
              "      <th>5191</th>\n",
              "      <td>7303</td>\n",
              "      <td>False</td>\n",
              "      <td>{'id': 261590, 'name': 'Living Dead Collection...</td>\n",
              "      <td>650000</td>\n",
              "      <td>[Horror]</td>\n",
              "      <td>NaN</td>\n",
              "      <td>923</td>\n",
              "      <td>tt0077402</td>\n",
              "      <td>en</td>\n",
              "      <td>Dawn of the Dead</td>\n",
              "      <td>During an ever-growing epidemic of zombies tha...</td>\n",
              "      <td>19.242</td>\n",
              "      <td>/8D6WEfNZr6JadQrqJr5OOq1QlV0.jpg</td>\n",
              "      <td>[{'name': 'Laurel Group', 'id': 638}, {'name':...</td>\n",
              "      <td>[{'iso_3166_1': 'IT', 'name': 'Italy'}, {'iso_...</td>\n",
              "      <td>1978-09-02</td>\n",
              "      <td>55000000.0</td>\n",
              "      <td>127.0</td>\n",
              "      <td>[{'iso_639_1': 'en', 'name': 'English'}]</td>\n",
              "      <td>Released</td>\n",
              "      <td>When there's no more room in hell, the dead wi...</td>\n",
              "      <td>Dawn of the Dead</td>\n",
              "      <td>False</td>\n",
              "      <td>7.4</td>\n",
              "      <td>597.0</td>\n",
              "      <td>[David Emge, Ken Foree, Scott H. Reiniger]</td>\n",
              "      <td>[{'credit_id': '52fe428dc3a36847f8027afb', 'de...</td>\n",
              "      <td>[helicopt, newsbroadcast, materi, machet, bite...</td>\n",
              "      <td>37</td>\n",
              "      <td>24</td>\n",
              "      <td>[georgea.romero, georgea.romero, georgea.romero]</td>\n",
              "      <td>helicopt newsbroadcast materi machet bite chao...</td>\n",
              "      <td>5191</td>\n",
              "      <td>0.983757</td>\n",
              "    </tr>\n",
              "  </tbody>\n",
              "</table>\n",
              "</div>"
            ],
            "text/plain": [
              "      index  adult  ... List Index Recommended Scores\n",
              "4106   5239  False  ...       4106           0.998474\n",
              "2155   2576  False  ...       2155           0.996324\n",
              "6205  10177  False  ...       6205           0.995655\n",
              "6664  11590  False  ...       6664           0.994807\n",
              "1938   2318  False  ...       1938           0.993064\n",
              "2231   2676  False  ...       2231           0.993035\n",
              "6700  11701  False  ...       6700           0.991896\n",
              "2813   3409  False  ...       2813           0.988200\n",
              "7267  13731  False  ...       7267           0.983759\n",
              "5191   7303  False  ...       5191           0.983757\n",
              "\n",
              "[10 rows x 34 columns]"
            ]
          },
          "metadata": {
            "tags": []
          },
          "execution_count": 107
        }
      ]
    },
    {
      "cell_type": "code",
      "metadata": {
        "id": "Imm4rXXmLC8n",
        "colab_type": "code",
        "colab": {}
      },
      "source": [
        "def predict(userId):\n",
        "  testUser = [user_movie[userId-1]]\n",
        "  hh0 = tf.nn.sigmoid(tf.matmul(v0, w)+hidden)\n",
        "  vv1 = tf.nn.sigmoid(tf.matmul(hh0, tf.transpose(w))+visible)\n",
        "  feed = sess.run(hh0, feed_dict={v0 : testUser, w: prev_w, hidden : prev_hb})\n",
        "  rec = sess.run(vv1, feed_dict={hh0 : feed, w: prev_w, visible : prev_vb})\n",
        "  scored_movies['Recommended Scores']=rec[0]\n",
        "  return scored_movies"
      ],
      "execution_count": 0,
      "outputs": []
    },
    {
      "cell_type": "code",
      "metadata": {
        "id": "o4X3qNpwr-RN",
        "colab_type": "code",
        "colab": {}
      },
      "source": [
        "def convert_int(x):\n",
        "    try:\n",
        "        return int(x)\n",
        "    except:\n",
        "        return np.nan"
      ],
      "execution_count": 0,
      "outputs": []
    },
    {
      "cell_type": "markdown",
      "metadata": {
        "id": "nR7wnP2Z-oyi",
        "colab_type": "text"
      },
      "source": [
        "**14. Hybrid Model**"
      ]
    },
    {
      "cell_type": "code",
      "metadata": {
        "id": "ZuazNe3OSOuB",
        "colab_type": "code",
        "colab": {}
      },
      "source": [
        "id_map = pd.read_csv('/content/drive/My Drive/SWM/the-movies-dataset/links_small.csv')[['movieId', 'tmdbId']]\n",
        "id_map['tmdbId'] = id_map['tmdbId'].apply(convert_int)\n",
        "id_map.columns = ['movieId', 'id']\n",
        "id_map = id_map.merge(movies_filtered[['title', 'id']], on='id').set_index('title')\n"
      ],
      "execution_count": 0,
      "outputs": []
    },
    {
      "cell_type": "code",
      "metadata": {
        "id": "jc9wv1GTShKQ",
        "colab_type": "code",
        "colab": {}
      },
      "source": [
        "indices_map = id_map.set_index('id')"
      ],
      "execution_count": 0,
      "outputs": []
    },
    {
      "cell_type": "code",
      "metadata": {
        "id": "eMtmyki0TvSh",
        "colab_type": "code",
        "colab": {}
      },
      "source": [
        "def hybrid(userId, title):\n",
        "    idx = indices[title]\n",
        "    tmdbId = id_map.loc[title]['id']\n",
        "    movie_id = id_map.loc[title]['movieId']\n",
        "    \n",
        "    sim_scores = list(enumerate(similarity[int(idx)]))\n",
        "    sim_scores = sorted(sim_scores, key=lambda x: x[1], reverse=True)\n",
        "    sim_scores = sim_scores[1:26]\n",
        "    movie_indices = [i[0] for i in sim_scores]\n",
        "    \n",
        "    movies = movies_filtered.iloc[movie_indices][['title', 'id']]\n",
        "    recommendations=predict(userId)\n",
        "    recommendations1 = recommendations[recommendations['id'].isin(movies['id'])]\n",
        "    recommendations1 = recommendations1.sort_values('Recommended Scores', ascending=False)\n",
        "    \n",
        "    return recommendations1[['title', 'id', 'genres', 'Recommended Scores']].head(10)"
      ],
      "execution_count": 0,
      "outputs": []
    },
    {
      "cell_type": "code",
      "metadata": {
        "id": "3FrW9pmjOBpm",
        "colab_type": "code",
        "colab": {
          "base_uri": "https://localhost:8080/",
          "height": 376
        },
        "outputId": "0afd5b3d-6113-4867-be9f-e472584812d8"
      },
      "source": [
        "print(\"Movie Recommendations From Hybrid Model : \")\n",
        "hybrid(4,\"Harry Potter and the Chamber of Secrets\")"
      ],
      "execution_count": 119,
      "outputs": [
        {
          "output_type": "stream",
          "text": [
            "Movie Recommendations From Hybrid Model : \n"
          ],
          "name": "stdout"
        },
        {
          "output_type": "execute_result",
          "data": {
            "text/html": [
              "<div>\n",
              "<style scoped>\n",
              "    .dataframe tbody tr th:only-of-type {\n",
              "        vertical-align: middle;\n",
              "    }\n",
              "\n",
              "    .dataframe tbody tr th {\n",
              "        vertical-align: top;\n",
              "    }\n",
              "\n",
              "    .dataframe thead th {\n",
              "        text-align: right;\n",
              "    }\n",
              "</style>\n",
              "<table border=\"1\" class=\"dataframe\">\n",
              "  <thead>\n",
              "    <tr style=\"text-align: right;\">\n",
              "      <th></th>\n",
              "      <th>title</th>\n",
              "      <th>id</th>\n",
              "      <th>genres</th>\n",
              "      <th>Recommended Scores</th>\n",
              "    </tr>\n",
              "  </thead>\n",
              "  <tbody>\n",
              "    <tr>\n",
              "      <th>3840</th>\n",
              "      <td>Harry Potter and the Philosopher's Stone</td>\n",
              "      <td>671</td>\n",
              "      <td>[Adventure, Fantasy, Family]</td>\n",
              "      <td>0.232007</td>\n",
              "    </tr>\n",
              "    <tr>\n",
              "      <th>6354</th>\n",
              "      <td>Harry Potter and the Goblet of Fire</td>\n",
              "      <td>674</td>\n",
              "      <td>[Adventure, Fantasy, Family]</td>\n",
              "      <td>0.182640</td>\n",
              "    </tr>\n",
              "    <tr>\n",
              "      <th>447</th>\n",
              "      <td>Mrs. Doubtfire</td>\n",
              "      <td>788</td>\n",
              "      <td>[Comedy, Drama, Family]</td>\n",
              "      <td>0.150160</td>\n",
              "    </tr>\n",
              "    <tr>\n",
              "      <th>5452</th>\n",
              "      <td>Harry Potter and the Prisoner of Azkaban</td>\n",
              "      <td>673</td>\n",
              "      <td>[Adventure, Fantasy, Family]</td>\n",
              "      <td>0.053377</td>\n",
              "    </tr>\n",
              "    <tr>\n",
              "      <th>6357</th>\n",
              "      <td>Rent</td>\n",
              "      <td>1833</td>\n",
              "      <td>[Drama, Romance]</td>\n",
              "      <td>0.005870</td>\n",
              "    </tr>\n",
              "    <tr>\n",
              "      <th>853</th>\n",
              "      <td>Bedknobs and Broomsticks</td>\n",
              "      <td>12335</td>\n",
              "      <td>[Adventure, Fantasy, Animation, Comedy, Family...</td>\n",
              "      <td>0.002914</td>\n",
              "    </tr>\n",
              "    <tr>\n",
              "      <th>7377</th>\n",
              "      <td>I Love You, Beth Cooper</td>\n",
              "      <td>19840</td>\n",
              "      <td>[Comedy, Romance]</td>\n",
              "      <td>0.002884</td>\n",
              "    </tr>\n",
              "    <tr>\n",
              "      <th>7345</th>\n",
              "      <td>Harry Potter and the Half-Blood Prince</td>\n",
              "      <td>767</td>\n",
              "      <td>[Adventure, Fantasy, Family]</td>\n",
              "      <td>0.002172</td>\n",
              "    </tr>\n",
              "    <tr>\n",
              "      <th>7921</th>\n",
              "      <td>Harry Potter and the Deathly Hallows: Part 2</td>\n",
              "      <td>12445</td>\n",
              "      <td>[Family, Fantasy, Adventure]</td>\n",
              "      <td>0.002057</td>\n",
              "    </tr>\n",
              "    <tr>\n",
              "      <th>8996</th>\n",
              "      <td>Pixels</td>\n",
              "      <td>257344</td>\n",
              "      <td>[Action, Comedy, Science Fiction]</td>\n",
              "      <td>0.001917</td>\n",
              "    </tr>\n",
              "  </tbody>\n",
              "</table>\n",
              "</div>"
            ],
            "text/plain": [
              "                                             title  ...  Recommended Scores\n",
              "3840      Harry Potter and the Philosopher's Stone  ...            0.232007\n",
              "6354           Harry Potter and the Goblet of Fire  ...            0.182640\n",
              "447                                 Mrs. Doubtfire  ...            0.150160\n",
              "5452      Harry Potter and the Prisoner of Azkaban  ...            0.053377\n",
              "6357                                          Rent  ...            0.005870\n",
              "853                       Bedknobs and Broomsticks  ...            0.002914\n",
              "7377                       I Love You, Beth Cooper  ...            0.002884\n",
              "7345        Harry Potter and the Half-Blood Prince  ...            0.002172\n",
              "7921  Harry Potter and the Deathly Hallows: Part 2  ...            0.002057\n",
              "8996                                        Pixels  ...            0.001917\n",
              "\n",
              "[10 rows x 4 columns]"
            ]
          },
          "metadata": {
            "tags": []
          },
          "execution_count": 119
        }
      ]
    }
  ]
}